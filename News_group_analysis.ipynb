{
  "nbformat": 4,
  "nbformat_minor": 0,
  "metadata": {
    "colab": {
      "name": "News_group_analysis.ipynb",
      "provenance": [],
      "collapsed_sections": [],
      "include_colab_link": true
    },
    "kernelspec": {
      "name": "python3",
      "display_name": "Python 3"
    }
  },
  "cells": [
    {
      "cell_type": "markdown",
      "metadata": {
        "id": "view-in-github",
        "colab_type": "text"
      },
      "source": [
        "<a href=\"https://colab.research.google.com/github/shiva650897/Machine-learning/blob/master/News_group_analysis.ipynb\" target=\"_parent\"><img src=\"https://colab.research.google.com/assets/colab-badge.svg\" alt=\"Open In Colab\"/></a>"
      ]
    },
    {
      "cell_type": "code",
      "metadata": {
        "id": "0lPhI36HhDHN",
        "colab_type": "code",
        "colab": {
          "base_uri": "https://localhost:8080/",
          "height": 51
        },
        "outputId": "cd5a9e6c-2dc2-472b-dd24-11d4ea173d66"
      },
      "source": [
        "# Data collection\n",
        "from sklearn.datasets import fetch_20newsgroups\n",
        "import pandas as pd\n",
        "newsgroups_train = fetch_20newsgroups(subset='train') #,remove=('headers', 'footers', 'quotes'))\n",
        "newsgroups_test = fetch_20newsgroups(subset='test') #,remove=('headers', 'footers', 'quotes'))"
      ],
      "execution_count": null,
      "outputs": [
        {
          "output_type": "stream",
          "text": [
            "Downloading 20news dataset. This may take a few minutes.\n",
            "Downloading dataset from https://ndownloader.figshare.com/files/5975967 (14 MB)\n"
          ],
          "name": "stderr"
        }
      ]
    },
    {
      "cell_type": "code",
      "metadata": {
        "id": "taYWowDsIcYj",
        "colab_type": "code",
        "colab": {
          "base_uri": "https://localhost:8080/",
          "height": 204
        },
        "outputId": "82079c2c-f226-4bd3-c8d3-22151786e307"
      },
      "source": [
        "df = pd.DataFrame({'data': newsgroups_train.data, 'target': newsgroups_train.target})\n",
        "# This is for test data\n",
        "df1 = pd.DataFrame({'data': newsgroups_test.data, 'target': newsgroups_test.target})\n",
        "df.head()"
      ],
      "execution_count": null,
      "outputs": [
        {
          "output_type": "execute_result",
          "data": {
            "text/html": [
              "<div>\n",
              "<style scoped>\n",
              "    .dataframe tbody tr th:only-of-type {\n",
              "        vertical-align: middle;\n",
              "    }\n",
              "\n",
              "    .dataframe tbody tr th {\n",
              "        vertical-align: top;\n",
              "    }\n",
              "\n",
              "    .dataframe thead th {\n",
              "        text-align: right;\n",
              "    }\n",
              "</style>\n",
              "<table border=\"1\" class=\"dataframe\">\n",
              "  <thead>\n",
              "    <tr style=\"text-align: right;\">\n",
              "      <th></th>\n",
              "      <th>data</th>\n",
              "      <th>target</th>\n",
              "    </tr>\n",
              "  </thead>\n",
              "  <tbody>\n",
              "    <tr>\n",
              "      <th>0</th>\n",
              "      <td>From: lerxst@wam.umd.edu (where's my thing)\\nS...</td>\n",
              "      <td>7</td>\n",
              "    </tr>\n",
              "    <tr>\n",
              "      <th>1</th>\n",
              "      <td>From: guykuo@carson.u.washington.edu (Guy Kuo)...</td>\n",
              "      <td>4</td>\n",
              "    </tr>\n",
              "    <tr>\n",
              "      <th>2</th>\n",
              "      <td>From: twillis@ec.ecn.purdue.edu (Thomas E Will...</td>\n",
              "      <td>4</td>\n",
              "    </tr>\n",
              "    <tr>\n",
              "      <th>3</th>\n",
              "      <td>From: jgreen@amber (Joe Green)\\nSubject: Re: W...</td>\n",
              "      <td>1</td>\n",
              "    </tr>\n",
              "    <tr>\n",
              "      <th>4</th>\n",
              "      <td>From: jcm@head-cfa.harvard.edu (Jonathan McDow...</td>\n",
              "      <td>14</td>\n",
              "    </tr>\n",
              "  </tbody>\n",
              "</table>\n",
              "</div>"
            ],
            "text/plain": [
              "                                                data  target\n",
              "0  From: lerxst@wam.umd.edu (where's my thing)\\nS...       7\n",
              "1  From: guykuo@carson.u.washington.edu (Guy Kuo)...       4\n",
              "2  From: twillis@ec.ecn.purdue.edu (Thomas E Will...       4\n",
              "3  From: jgreen@amber (Joe Green)\\nSubject: Re: W...       1\n",
              "4  From: jcm@head-cfa.harvard.edu (Jonathan McDow...      14"
            ]
          },
          "metadata": {
            "tags": []
          },
          "execution_count": 3
        }
      ]
    },
    {
      "cell_type": "code",
      "metadata": {
        "id": "zDfwjyzefZHY",
        "colab_type": "code",
        "colab": {
          "base_uri": "https://localhost:8080/",
          "height": 339
        },
        "outputId": "1a421393-01a0-4e61-97d0-b0a44cd232fa"
      },
      "source": [
        "import seaborn as sns\n",
        "sns.set(style=\"darkgrid\")\n",
        "ax = sns.countplot(x=\"target\", data=df);"
      ],
      "execution_count": null,
      "outputs": [
        {
          "output_type": "stream",
          "text": [
            "/usr/local/lib/python3.6/dist-packages/statsmodels/tools/_testing.py:19: FutureWarning: pandas.util.testing is deprecated. Use the functions in the public API at pandas.testing instead.\n",
            "  import pandas.util.testing as tm\n"
          ],
          "name": "stderr"
        },
        {
          "output_type": "display_data",
          "data": {
            "image/png": "[encoded data removed]",
            "text/plain": [
              "<Figure size 432x288 with 1 Axes>"
            ]
          },
          "metadata": {
            "tags": []
          }
        }
      ]
    },
    {
      "cell_type": "markdown",
      "metadata": {
        "id": "5LutRx3wfsm9",
        "colab_type": "text"
      },
      "source": [
        "The train data is almost evenly distributed and there is no imbalance in the data."
      ]
    },
    {
      "cell_type": "markdown",
      "metadata": {
        "id": "wUniv-msm786",
        "colab_type": "text"
      },
      "source": [
        "# Text cleaning or preprocessing"
      ]
    },
    {
      "cell_type": "code",
      "metadata": {
        "id": "7ljVPTLXIsgk",
        "colab_type": "code",
        "colab": {
          "base_uri": "https://localhost:8080/",
          "height": 85
        },
        "outputId": "b63d714e-85e2-4eb8-f9e9-5ea636afd570"
      },
      "source": [
        "import string\n",
        "import nltk\n",
        "import re\n",
        "from nltk.corpus import stopwords\n",
        "nltk.download('stopwords')\n",
        "stopwords = set(stopwords.words('english'))\n",
        "wn = nltk.WordNetLemmatizer()\n",
        "nltk.download('wordnet')\n",
        "\n",
        "# data cleaning using regular expression: \n",
        "def clean_text(text):\n",
        "  t_l = text.lower()\n",
        "  TAG_RE = re.compile(r'<[^>]+>') \n",
        "  t = TAG_RE.sub('', t_l) # To remove tags\n",
        "  # Remove punctuations and numbers\n",
        "  sentence = re.sub('[^a-zA-Z]', ' ', t)\n",
        "  # Single character removal\n",
        "  sentence = re.sub(r\"\\s+[a-zA-Z]\\s+\", ' ', sentence)\n",
        "  # to Strip 2+ duplicate words (consecutive/non-consecutive words)\n",
        "  #sentence = re.sub(r'(\\b\\w+\\b)(?=.*\\b\\1\\b)','',sentence) \n",
        "  t_s = \"\".join([w for w in sentence if w not in string.punctuation])\n",
        "  \n",
        "  tokens = re.split('\\W+',t_s)\n",
        "  txt = [w for w in tokens if w not in stopwords]\n",
        "  tx = [wn.lemmatize(word) for word in txt]\n",
        "  for i in range(len(tx)):\n",
        "    tx[i] = \"\".join(tx[i])\n",
        "\n",
        "  return tx"
      ],
      "execution_count": null,
      "outputs": [
        {
          "output_type": "stream",
          "text": [
            "[nltk_data] Downloading package stopwords to /root/nltk_data...\n",
            "[nltk_data]   Unzipping corpora/stopwords.zip.\n",
            "[nltk_data] Downloading package wordnet to /root/nltk_data...\n",
            "[nltk_data]   Unzipping corpora/wordnet.zip.\n"
          ],
          "name": "stdout"
        }
      ]
    },
    {
      "cell_type": "code",
      "metadata": {
        "id": "MnH6-Xp1Xfji",
        "colab_type": "code",
        "colab": {}
      },
      "source": [
        "df['cleaned_data']= df['data'].apply(lambda x: clean_text(x))\n",
        "df1['cleaned_data']= df1['data'].apply(lambda x: clean_text(x))\n",
        "df['cleaned_data']= df['cleaned_data'].apply(lambda x: ','.join(map(str, x)))\n",
        "df1['cleaned_data']= df1['cleaned_data'].apply(lambda x: ','.join(map(str, x)))"
      ],
      "execution_count": null,
      "outputs": []
    },
    {
      "cell_type": "code",
      "metadata": {
        "id": "1curXdbUIlfH",
        "colab_type": "code",
        "colab": {
          "base_uri": "https://localhost:8080/",
          "height": 34
        },
        "outputId": "ed8e1e43-830f-4dd6-dd98-0b093b8c3f77"
      },
      "source": [
        "from keras.preprocessing.text import Tokenizer\n",
        "from keras.models import Sequential\n",
        "from keras.layers import Activation, Dense, Dropout\n",
        "from sklearn.preprocessing import LabelBinarizer\n",
        "# 20 news groups\n",
        "num_labels = 20\n",
        "vocab_size = 5000\n",
        "batch_size = 64\n",
        "\n",
        "# define Tokenizer with Vocab Size\n",
        "tokenizer = Tokenizer(num_words=vocab_size)\n",
        "tokenizer.fit_on_texts(df['cleaned_data'])\n",
        "x_train = tokenizer.texts_to_matrix(df['cleaned_data'], mode=\"freq\")#'tfidf')\n",
        "x_test = tokenizer.texts_to_matrix(df1['cleaned_data'], mode=\"freq\")#'tfidf')"
      ],
      "execution_count": null,
      "outputs": [
        {
          "output_type": "stream",
          "text": [
            "Using TensorFlow backend.\n"
          ],
          "name": "stderr"
        }
      ]
    },
    {
      "cell_type": "code",
      "metadata": {
        "id": "pnEVibKKnl1h",
        "colab_type": "code",
        "colab": {}
      },
      "source": [
        "encoder = LabelBinarizer()\n",
        "encoder.fit(df['target'])\n",
        "y_train = encoder.transform(df['target'])\n",
        "y_test = encoder.transform(df1['target'])"
      ],
      "execution_count": null,
      "outputs": []
    },
    {
      "cell_type": "code",
      "metadata": {
        "id": "MYXevOvxNfwa",
        "colab_type": "code",
        "colab": {
          "base_uri": "https://localhost:8080/",
          "height": 476
        },
        "outputId": "569655cb-75b4-4ccd-9218-e6e61443800f"
      },
      "source": [
        "model = Sequential()\n",
        "model.add(Dense(512, input_shape=(vocab_size,)))\n",
        "model.add(Activation('relu'))\n",
        "# model.add(Dropout(0.3))\n",
        "# model.add(Dense(512))\n",
        "# model.add(Activation('relu'))\n",
        "# model.add(Dropout(0.3))\n",
        "model.add(Dense(num_labels))\n",
        "model.add(Activation('softmax'))\n",
        "model.summary()\n",
        " \n",
        "model.compile(loss='categorical_crossentropy',\n",
        "              optimizer='adam',\n",
        "              metrics=['accuracy'])\n",
        " \n",
        "history = model.fit(x_train, y_train,\n",
        "                    batch_size=batch_size,\n",
        "                    epochs=5,\n",
        "                    verbose=1,\n",
        "                    validation_split=0.1)"
      ],
      "execution_count": null,
      "outputs": [
        {
          "output_type": "stream",
          "text": [
            "Model: \"sequential_1\"\n",
            "_________________________________________________________________\n",
            "Layer (type)                 Output Shape              Param #   \n",
            "=================================================================\n",
            "dense_1 (Dense)              (None, 512)               2560512   \n",
            "_________________________________________________________________\n",
            "activation_1 (Activation)    (None, 512)               0         \n",
            "_________________________________________________________________\n",
            "dense_2 (Dense)              (None, 20)                10260     \n",
            "_________________________________________________________________\n",
            "activation_2 (Activation)    (None, 20)                0         \n",
            "=================================================================\n",
            "Total params: 2,570,772\n",
            "Trainable params: 2,570,772\n",
            "Non-trainable params: 0\n",
            "_________________________________________________________________\n",
            "Train on 10182 samples, validate on 1132 samples\n",
            "Epoch 1/5\n",
            "10182/10182 [==============================] - 7s 651us/step - loss: 2.7362 - accuracy: 0.4651 - val_loss: 2.2279 - val_accuracy: 0.7138\n",
            "Epoch 2/5\n",
            "10182/10182 [==============================] - 6s 624us/step - loss: 1.5882 - accuracy: 0.7963 - val_loss: 1.1758 - val_accuracy: 0.8163\n",
            "Epoch 3/5\n",
            "10182/10182 [==============================] - 6s 627us/step - loss: 0.8287 - accuracy: 0.8754 - val_loss: 0.7687 - val_accuracy: 0.8454\n",
            "Epoch 4/5\n",
            "10182/10182 [==============================] - 6s 625us/step - loss: 0.5195 - accuracy: 0.9135 - val_loss: 0.5992 - val_accuracy: 0.8754\n",
            "Epoch 5/5\n",
            "10182/10182 [==============================] - 6s 624us/step - loss: 0.3637 - accuracy: 0.9411 - val_loss: 0.5082 - val_accuracy: 0.8701\n"
          ],
          "name": "stdout"
        }
      ]
    },
    {
      "cell_type": "code",
      "metadata": {
        "id": "c_P2mzXNN7Lw",
        "colab_type": "code",
        "colab": {
          "base_uri": "https://localhost:8080/",
          "height": 68
        },
        "outputId": "c99de182-3ffd-4c12-a65d-4e5241c954cf"
      },
      "source": [
        "score = model.evaluate(x_test, y_test,\n",
        "                       batch_size=batch_size, verbose=1)\n",
        "print('Test score:', score[0])\n",
        "print('Test accuracy:', score[1])"
      ],
      "execution_count": null,
      "outputs": [
        {
          "output_type": "stream",
          "text": [
            "7532/7532 [==============================] - 1s 139us/step\n",
            "Test score: 0.7237200100435833\n",
            "Test accuracy: 0.8052310347557068\n"
          ],
          "name": "stdout"
        }
      ]
    },
    {
      "cell_type": "code",
      "metadata": {
        "id": "F9p14qluaftn",
        "colab_type": "code",
        "colab": {
          "base_uri": "https://localhost:8080/",
          "height": 612
        },
        "outputId": "d530de89-d6e9-4d23-ac82-8b1aec1bbfde"
      },
      "source": [
        "vocab_size = 10000\n",
        "# define Tokenizer with Vocab Size\n",
        "tokenizer = Tokenizer(num_words=vocab_size)\n",
        "tokenizer.fit_on_texts(df['cleaned_data'])\n",
        "x_train = tokenizer.texts_to_matrix(df['cleaned_data'], mode=\"freq\")#'tfidf')\n",
        "x_test = tokenizer.texts_to_matrix(df1['cleaned_data'], mode=\"freq\")#'tfidf')\n",
        "model = Sequential()\n",
        "model.add(Dense(512, input_shape=(vocab_size,)))\n",
        "model.add(Activation('relu'))\n",
        "model.add(Dropout(0.4))\n",
        "model.add(Dense(512))\n",
        "model.add(Activation('relu'))\n",
        "model.add(Dropout(0.4))\n",
        "model.add(Dense(num_labels))\n",
        "model.add(Activation('softmax'))\n",
        "model.summary()\n",
        " \n",
        "model.compile(loss='categorical_crossentropy',\n",
        "              optimizer='adam',\n",
        "              metrics=['accuracy'])\n",
        " \n",
        "history = model.fit(x_train, y_train,\n",
        "                    batch_size=batch_size,\n",
        "                    epochs=5,\n",
        "                    verbose=1,\n",
        "                    validation_split=0.1)"
      ],
      "execution_count": null,
      "outputs": [
        {
          "output_type": "stream",
          "text": [
            "Model: \"sequential_2\"\n",
            "_________________________________________________________________\n",
            "Layer (type)                 Output Shape              Param #   \n",
            "=================================================================\n",
            "dense_3 (Dense)              (None, 512)               5120512   \n",
            "_________________________________________________________________\n",
            "activation_3 (Activation)    (None, 512)               0         \n",
            "_________________________________________________________________\n",
            "dropout_1 (Dropout)          (None, 512)               0         \n",
            "_________________________________________________________________\n",
            "dense_4 (Dense)              (None, 512)               262656    \n",
            "_________________________________________________________________\n",
            "activation_4 (Activation)    (None, 512)               0         \n",
            "_________________________________________________________________\n",
            "dropout_2 (Dropout)          (None, 512)               0         \n",
            "_________________________________________________________________\n",
            "dense_5 (Dense)              (None, 20)                10260     \n",
            "_________________________________________________________________\n",
            "activation_5 (Activation)    (None, 20)                0         \n",
            "=================================================================\n",
            "Total params: 5,393,428\n",
            "Trainable params: 5,393,428\n",
            "Non-trainable params: 0\n",
            "_________________________________________________________________\n",
            "Train on 10182 samples, validate on 1132 samples\n",
            "Epoch 1/5\n",
            "10182/10182 [==============================] - 13s 1ms/step - loss: 2.4931 - accuracy: 0.2782 - val_loss: 1.4941 - val_accuracy: 0.6590\n",
            "Epoch 2/5\n",
            "10182/10182 [==============================] - 13s 1ms/step - loss: 0.9589 - accuracy: 0.7447 - val_loss: 0.6355 - val_accuracy: 0.8277\n",
            "Epoch 3/5\n",
            "10182/10182 [==============================] - 13s 1ms/step - loss: 0.4002 - accuracy: 0.9015 - val_loss: 0.4264 - val_accuracy: 0.8710\n",
            "Epoch 4/5\n",
            "10182/10182 [==============================] - 13s 1ms/step - loss: 0.2050 - accuracy: 0.9529 - val_loss: 0.3521 - val_accuracy: 0.8896\n",
            "Epoch 5/5\n",
            "10182/10182 [==============================] - 13s 1ms/step - loss: 0.1145 - accuracy: 0.9755 - val_loss: 0.3476 - val_accuracy: 0.8949\n"
          ],
          "name": "stdout"
        }
      ]
    },
    {
      "cell_type": "code",
      "metadata": {
        "id": "zRhP_3ikaoZR",
        "colab_type": "code",
        "colab": {
          "base_uri": "https://localhost:8080/",
          "height": 68
        },
        "outputId": "96d022fb-7dcc-4baf-97e2-e1b76df2b112"
      },
      "source": [
        "score = model.evaluate(x_test, y_test,\n",
        "                       batch_size=batch_size, verbose=1)\n",
        "print('Test score:', score[0])\n",
        "print('Test accuracy:', score[1])"
      ],
      "execution_count": null,
      "outputs": [
        {
          "output_type": "stream",
          "text": [
            "7532/7532 [==============================] - 2s 283us/step\n",
            "Test score: 0.6194503847994326\n",
            "Test accuracy: 0.816781759262085\n"
          ],
          "name": "stdout"
        }
      ]
    },
    {
      "cell_type": "markdown",
      "metadata": {
        "id": "W96Bk2cJBA6R",
        "colab_type": "text"
      },
      "source": [
        "## Generalized model"
      ]
    },
    {
      "cell_type": "code",
      "metadata": {
        "id": "TSt-GZ411uyR",
        "colab_type": "code",
        "colab": {
          "base_uri": "https://localhost:8080/",
          "height": 612
        },
        "outputId": "a4b7419d-4731-496d-fc54-3c8527e86e0a"
      },
      "source": [
        "from keras.preprocessing.text import Tokenizer\n",
        "from keras.models import Sequential\n",
        "from keras.layers import Activation, Dense, Dropout\n",
        "from sklearn.preprocessing import LabelBinarizer\n",
        "# 20 news groups\n",
        "num_labels = 20\n",
        "vocab_size = 10000\n",
        "batch_size = 100\n",
        "\n",
        "# define Tokenizer with Vocab Size\n",
        "tokenizer = Tokenizer(num_words=vocab_size)\n",
        "tokenizer.fit_on_texts(df['data'])\n",
        " \n",
        "x_train = tokenizer.texts_to_matrix(df['data'], mode=\"freq\")#'tfidf')\n",
        "x_test = tokenizer.texts_to_matrix(df1['data'], mode=\"freq\")#'tfidf')\n",
        " \n",
        "encoder = LabelBinarizer()\n",
        "encoder.fit(df['target'])\n",
        "y_train = encoder.transform(df['target'])\n",
        "y_test = encoder.transform(df1['target'])\n",
        "model = Sequential()\n",
        "model.add(Dense(512, input_shape=(vocab_size,)))\n",
        "model.add(Activation('relu'))\n",
        "model.add(Dropout(0.3))\n",
        "model.add(Dense(512))\n",
        "model.add(Activation('relu'))\n",
        "model.add(Dropout(0.3))\n",
        "model.add(Dense(num_labels))\n",
        "model.add(Activation('softmax'))\n",
        "model.summary()\n",
        " \n",
        "model.compile(loss='categorical_crossentropy',\n",
        "              optimizer='adam',\n",
        "              metrics=['accuracy'])\n",
        " \n",
        "history = model.fit(x_train, y_train,\n",
        "                    batch_size=batch_size,\n",
        "                    epochs=5,\n",
        "                    verbose=1,\n",
        "                    validation_split=0.1)"
      ],
      "execution_count": null,
      "outputs": [
        {
          "output_type": "stream",
          "text": [
            "Model: \"sequential_3\"\n",
            "_________________________________________________________________\n",
            "Layer (type)                 Output Shape              Param #   \n",
            "=================================================================\n",
            "dense_6 (Dense)              (None, 512)               5120512   \n",
            "_________________________________________________________________\n",
            "activation_6 (Activation)    (None, 512)               0         \n",
            "_________________________________________________________________\n",
            "dropout_3 (Dropout)          (None, 512)               0         \n",
            "_________________________________________________________________\n",
            "dense_7 (Dense)              (None, 512)               262656    \n",
            "_________________________________________________________________\n",
            "activation_7 (Activation)    (None, 512)               0         \n",
            "_________________________________________________________________\n",
            "dropout_4 (Dropout)          (None, 512)               0         \n",
            "_________________________________________________________________\n",
            "dense_8 (Dense)              (None, 20)                10260     \n",
            "_________________________________________________________________\n",
            "activation_8 (Activation)    (None, 20)                0         \n",
            "=================================================================\n",
            "Total params: 5,393,428\n",
            "Trainable params: 5,393,428\n",
            "Non-trainable params: 0\n",
            "_________________________________________________________________\n",
            "Train on 10182 samples, validate on 1132 samples\n",
            "Epoch 1/5\n",
            "10182/10182 [==============================] - 10s 1ms/step - loss: 2.7926 - accuracy: 0.1737 - val_loss: 2.2513 - val_accuracy: 0.3922\n",
            "Epoch 2/5\n",
            "10182/10182 [==============================] - 10s 980us/step - loss: 1.7171 - accuracy: 0.4888 - val_loss: 1.2794 - val_accuracy: 0.6617\n",
            "Epoch 3/5\n",
            "10182/10182 [==============================] - 10s 971us/step - loss: 0.9487 - accuracy: 0.7383 - val_loss: 0.8139 - val_accuracy: 0.7845\n",
            "Epoch 4/5\n",
            "10182/10182 [==============================] - 10s 980us/step - loss: 0.5338 - accuracy: 0.8643 - val_loss: 0.5967 - val_accuracy: 0.8304\n",
            "Epoch 5/5\n",
            "10182/10182 [==============================] - 10s 990us/step - loss: 0.3176 - accuracy: 0.9230 - val_loss: 0.4745 - val_accuracy: 0.8710\n"
          ],
          "name": "stdout"
        }
      ]
    },
    {
      "cell_type": "code",
      "metadata": {
        "id": "e6E5SZVQ18E_",
        "colab_type": "code",
        "colab": {
          "base_uri": "https://localhost:8080/",
          "height": 68
        },
        "outputId": "7fd6a175-6d87-475d-d4fa-a2104e0025ca"
      },
      "source": [
        "score = model.evaluate(x_test, y_test,\n",
        "                       batch_size=batch_size, verbose=1)\n",
        "print('Test score:', score[0])\n",
        "print('Test accuracy:', score[1])"
      ],
      "execution_count": null,
      "outputs": [
        {
          "output_type": "stream",
          "text": [
            "7532/7532 [==============================] - 2s 261us/step\n",
            "Test score: 0.705298466705858\n",
            "Test accuracy: 0.7927509546279907\n"
          ],
          "name": "stdout"
        }
      ]
    },
    {
      "cell_type": "markdown",
      "metadata": {
        "id": "7I1ixB9smYNg",
        "colab_type": "text"
      },
      "source": [
        "## TF-IDF\n",
        "we introduce the “TF-IDF” (Term Frequency — Inverse Document Frequency). This will not change the dimension of our data."
      ]
    },
    {
      "cell_type": "code",
      "metadata": {
        "id": "Xy54scDW6IMu",
        "colab_type": "code",
        "colab": {}
      },
      "source": [
        "import tensorflow as tf"
      ],
      "execution_count": null,
      "outputs": []
    },
    {
      "cell_type": "code",
      "metadata": {
        "id": "AB2tbPSN2K9g",
        "colab_type": "code",
        "colab": {
          "base_uri": "https://localhost:8080/",
          "height": 612
        },
        "outputId": "6c402c42-aa1b-4b11-f1bb-a13f63a3a4f0"
      },
      "source": [
        "# overfit model\n",
        "from keras.preprocessing.text import Tokenizer\n",
        "from keras.models import Sequential\n",
        "from keras.layers import Activation, Dense, Dropout\n",
        "from sklearn.preprocessing import LabelBinarizer\n",
        "# 20 news groups\n",
        "num_labels = 20\n",
        "vocab_size = 5000\n",
        "batch_size = 100\n",
        "\n",
        "# define Tokenizer with Vocab Size\n",
        "#tokenizer = Tokenizer(num_words=vocab_size)\n",
        "\n",
        "tokenizer = tf.keras.preprocessing.text.Tokenizer(num_words=vocab_size,filters='!\"#$%&()*+,-./:;<=>?@[\\\\]^_`{|}~\\t\\n',\n",
        "    lower=True,\n",
        "    split=\" \",\n",
        "    char_level=False,\n",
        "    document_count=0)\n",
        "tokenizer.fit_on_texts(df['data'])\n",
        "\n",
        "x_train = tokenizer.texts_to_matrix(df['data'], mode= 'tfidf')\n",
        "x_test = tokenizer.texts_to_matrix(df1['data'], mode= 'tfidf')\n",
        " \n",
        "encoder = LabelBinarizer()\n",
        "encoder.fit(df['target'])\n",
        "y_train = encoder.transform(df['target'])\n",
        "y_test = encoder.transform(df1['target'])\n"
      ],
      "execution_count": null,
      "outputs": [
        {
          "output_type": "stream",
          "text": [
            "Model: \"sequential_11\"\n",
            "_________________________________________________________________\n",
            "Layer (type)                 Output Shape              Param #   \n",
            "=================================================================\n",
            "dense_26 (Dense)             (None, 512)               5120512   \n",
            "_________________________________________________________________\n",
            "activation_26 (Activation)   (None, 512)               0         \n",
            "_________________________________________________________________\n",
            "dropout_17 (Dropout)         (None, 512)               0         \n",
            "_________________________________________________________________\n",
            "dense_27 (Dense)             (None, 512)               262656    \n",
            "_________________________________________________________________\n",
            "activation_27 (Activation)   (None, 512)               0         \n",
            "_________________________________________________________________\n",
            "dropout_18 (Dropout)         (None, 512)               0         \n",
            "_________________________________________________________________\n",
            "dense_28 (Dense)             (None, 20)                10260     \n",
            "_________________________________________________________________\n",
            "activation_28 (Activation)   (None, 20)                0         \n",
            "=================================================================\n",
            "Total params: 5,393,428\n",
            "Trainable params: 5,393,428\n",
            "Non-trainable params: 0\n",
            "_________________________________________________________________\n",
            "Train on 10182 samples, validate on 1132 samples\n",
            "Epoch 1/5\n",
            "10182/10182 [==============================] - 9s 882us/step - loss: 1.1123 - accuracy: 0.7098 - val_loss: 0.3779 - val_accuracy: 0.8896\n",
            "Epoch 2/5\n",
            "10182/10182 [==============================] - 9s 869us/step - loss: 0.1762 - accuracy: 0.9627 - val_loss: 0.3599 - val_accuracy: 0.8984\n",
            "Epoch 3/5\n",
            "10182/10182 [==============================] - 9s 863us/step - loss: 0.0974 - accuracy: 0.9888 - val_loss: 1.0983 - val_accuracy: 0.9046\n",
            "Epoch 4/5\n",
            "10182/10182 [==============================] - 9s 867us/step - loss: 0.1469 - accuracy: 0.9919 - val_loss: 0.3213 - val_accuracy: 0.9187\n",
            "Epoch 5/5\n",
            "10182/10182 [==============================] - 9s 863us/step - loss: 0.0249 - accuracy: 0.9959 - val_loss: 0.3428 - val_accuracy: 0.9240\n"
          ],
          "name": "stdout"
        }
      ]
    },
    {
      "cell_type": "code",
      "metadata": {
        "id": "7sHw3Z6P0j5a",
        "colab_type": "code",
        "colab": {}
      },
      "source": [
        "model = Sequential()\n",
        "model.add(Dense(512, input_shape=(vocab_size,)))\n",
        "model.add(Activation('relu'))\n",
        "model.add(Dropout(0.3))\n",
        "model.add(Dense(512))\n",
        "model.add(Activation('relu'))\n",
        "model.add(Dropout(0.3))\n",
        "model.add(Dense(num_labels))\n",
        "model.add(Activation('softmax'))\n",
        "model.summary()\n",
        " \n",
        "model.compile(loss='categorical_crossentropy',\n",
        "              optimizer='adam',\n",
        "              metrics=['accuracy'])\n",
        " \n",
        "history = model.fit(x_train, y_train,\n",
        "                    batch_size=batch_size,\n",
        "                    epochs=5,\n",
        "                    verbose=1,\n",
        "                    validation_split=0.1)"
      ],
      "execution_count": null,
      "outputs": []
    },
    {
      "cell_type": "code",
      "metadata": {
        "id": "D3Zx2evP3qAW",
        "colab_type": "code",
        "colab": {
          "base_uri": "https://localhost:8080/",
          "height": 68
        },
        "outputId": "42cd665c-8cb0-45b2-ba7e-0780069624af"
      },
      "source": [
        "score = model.evaluate(x_test, y_test,\n",
        "                       batch_size=batch_size, verbose=1)\n",
        "print('Test score:', score[0])\n",
        "print('Test accuracy:', score[1])"
      ],
      "execution_count": null,
      "outputs": [
        {
          "output_type": "stream",
          "text": [
            "7532/7532 [==============================] - 2s 201us/step\n",
            "Test score: 0.912264796722714\n",
            "Test accuracy: 0.8199681639671326\n"
          ],
          "name": "stdout"
        }
      ]
    }
  ]
}