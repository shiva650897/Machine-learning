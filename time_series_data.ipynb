{
  "nbformat": 4,
  "nbformat_minor": 0,
  "metadata": {
    "kernelspec": {
      "display_name": "Python 3",
      "language": "python",
      "name": "python3"
    },
    "language_info": {
      "codemirror_mode": {
        "name": "ipython",
        "version": 3
      },
      "file_extension": ".py",
      "mimetype": "text/x-python",
      "name": "python",
      "nbconvert_exporter": "python",
      "pygments_lexer": "ipython3",
      "version": "3.6.5"
    },
    "colab": {
      "name": "time_series_data.ipynb",
      "provenance": [],
      "collapsed_sections": []
    }
  },
  "cells": [
    {
      "cell_type": "markdown",
      "metadata": {
        "id": "aQyWzHEZON4J",
        "colab_type": "text"
      },
      "source": [
        "A trader is developing a new trading strategy to apply on the stock market. He has collected stock price data to backtest his strategy (see how it performs on historical data to get an idea of how it will perform in real life). His strategy involves buying whenever the 5-period moving average of a stock’s daily closing price crosses its 20-period moving average and selling when it crosses back over. The strategy buys and sells on the opening price of the day after a buy/sell signal (i.e. if the 5-period moving average crosses the 20-period moving average on 01/01/2018, it will buy/sell on the opening price of the 02/01/2018). The trader has asked for your help in evaluating the strategy on the stock \n",
        "data on iLearn. This data consists of the daily stock prices for ANZ, CBA, BHP, RIO and WES from January 2002 to August 2018. Data for each stock is provided in a separate CSV file. Each file contains the following fields: \n",
        "o Date – date of the trading day o Open – opening price of stock that day o High – highest price of stock that day o Low – lowest price of stock that day o Close – closing price of stock that day o Volume – amount of stock that was traded that day o Member – whether the stock is a member of ASX200 \n",
        "Task 1 (10 marks) \n",
        "• Create a line plot using different colours to show the closing prices of the stock data over time.\n",
        "• Calculate and display the correlations between the closing prices of the stock data. \n",
        "Create a heatmap showing these correlations. Comment on what the numbers and plot say about the correlation between the stocks. \n",
        "\n",
        "\n"
      ]
    },
    {
      "cell_type": "markdown",
      "metadata": {
        "id": "bW9a7TIbON4M",
        "colab_type": "text"
      },
      "source": [
        "https://ntguardian.wordpress.com/2018/07/17/stock-data-analysis-python-v2/"
      ]
    },
    {
      "cell_type": "code",
      "metadata": {
        "id": "NN0uEuIbON4M",
        "colab_type": "code",
        "colab": {}
      },
      "source": [
        "import numpy as np\n",
        "import pandas as pd\n",
        "import seaborn as sns\n",
        "import matplotlib.pyplot as plt"
      ],
      "execution_count": 0,
      "outputs": []
    },
    {
      "cell_type": "code",
      "metadata": {
        "id": "OG6puLO9ON4P",
        "colab_type": "code",
        "colab": {}
      },
      "source": [
        "df = pd.read_csv(r\"/content/WES.csv\",parse_dates=['Date'])\n",
        "df_1 = pd.read_csv(r\"/content/RIO.csv\",parse_dates=['Date'])\n",
        "df_2 = pd.read_csv(r\"/content/ANZ.csv\",parse_dates=['Date'])\n",
        "df_3 = pd.read_csv(r\"/content/BHP.csv\",parse_dates=['Date'])\n",
        "df_4 = pd.read_csv(r\"/content/CBA.csv\",parse_dates=['Date'])"
      ],
      "execution_count": 0,
      "outputs": []
    },
    {
      "cell_type": "code",
      "metadata": {
        "id": "vFyfAeuTON4S",
        "colab_type": "code",
        "outputId": "2d83e43b-d097-4740-c5de-8535e0551814",
        "colab": {
          "base_uri": "https://localhost:8080/",
          "height": 728
        }
      },
      "source": [
        "plt.figure(figsize=(20,10))\n",
        "plt.plot( 'Date', 'Close', data=df, color='blue', linewidth=1, label=\"WES\")\n",
        "plt.plot( 'Date', 'Close', data=df_1, color='red', linewidth=1, label=\"RIO\")\n",
        "plt.plot( 'Date', 'Close', data=df_2, color='olive', linewidth=1, label=\"ANZ\")\n",
        "plt.plot( 'Date', 'Close', data=df_3, color='black', linewidth=1, label=\"BHP\")\n",
        "plt.plot( 'Date', 'Close', data=df_4, color='green', linewidth=1, label=\"CBA\")\n",
        "plt.legend()\n",
        "plt.title(\"The closing prices of the stock data over time\")\n",
        "plt.show()"
      ],
      "execution_count": 0,
      "outputs": [
        {
          "output_type": "stream",
          "text": [
            "/usr/local/lib/python3.6/dist-packages/pandas/plotting/_matplotlib/converter.py:103: FutureWarning: Using an implicitly registered datetime converter for a matplotlib plotting method. The converter was registered by pandas on import. Future versions of pandas will require you to explicitly register matplotlib converters.\n",
            "\n",
            "To register the converters:\n",
            "\t>>> from pandas.plotting import register_matplotlib_converters\n",
            "\t>>> register_matplotlib_converters()\n",
            "  warnings.warn(msg, FutureWarning)\n"
          ],
          "name": "stderr"
        },
        {
          "output_type": "display_data",
          "data": {
            "image/png": "[encoded data removed]",
            "text/plain": [
              "<Figure size 1440x720 with 1 Axes>"
            ]
          },
          "metadata": {
            "tags": []
          }
        }
      ]
    },
    {
      "cell_type": "code",
      "metadata": {
        "id": "QWjycQ3OON4V",
        "colab_type": "code",
        "colab": {}
      },
      "source": [
        "df['Stock'] = 'WES'\n",
        "df_1['Stock'] = 'RIO'\n",
        "df_2['Stock'] = 'ANZ'\n",
        "df_3['Stock'] = 'BHP'\n",
        "df_4['Stock'] = 'CBA'\n",
        "data = pd.concat([df,df_1,df_2,df_3,df_4], ignore_index=True)\n",
        "data.drop('Member',axis=1,inplace=True)"
      ],
      "execution_count": 0,
      "outputs": []
    },
    {
      "cell_type": "code",
      "metadata": {
        "id": "TItMfAoFON4X",
        "colab_type": "code",
        "outputId": "ac2149d4-b44e-4f68-cc8a-b0f6b6c90320",
        "colab": {
          "base_uri": "https://localhost:8080/",
          "height": 195
        }
      },
      "source": [
        "data.head()"
      ],
      "execution_count": 0,
      "outputs": [
        {
          "output_type": "execute_result",
          "data": {
            "text/html": [
              "<div>\n",
              "<style scoped>\n",
              "    .dataframe tbody tr th:only-of-type {\n",
              "        vertical-align: middle;\n",
              "    }\n",
              "\n",
              "    .dataframe tbody tr th {\n",
              "        vertical-align: top;\n",
              "    }\n",
              "\n",
              "    .dataframe thead th {\n",
              "        text-align: right;\n",
              "    }\n",
              "</style>\n",
              "<table border=\"1\" class=\"dataframe\">\n",
              "  <thead>\n",
              "    <tr style=\"text-align: right;\">\n",
              "      <th></th>\n",
              "      <th>Date</th>\n",
              "      <th>Open</th>\n",
              "      <th>High</th>\n",
              "      <th>Low</th>\n",
              "      <th>Close</th>\n",
              "      <th>Volume</th>\n",
              "      <th>Stock</th>\n",
              "    </tr>\n",
              "  </thead>\n",
              "  <tbody>\n",
              "    <tr>\n",
              "      <th>0</th>\n",
              "      <td>2002-01-31</td>\n",
              "      <td>10.9880</td>\n",
              "      <td>11.1517</td>\n",
              "      <td>10.9880</td>\n",
              "      <td>11.1336</td>\n",
              "      <td>352225</td>\n",
              "      <td>WES</td>\n",
              "    </tr>\n",
              "    <tr>\n",
              "      <th>1</th>\n",
              "      <td>2002-02-01</td>\n",
              "      <td>11.1517</td>\n",
              "      <td>11.2245</td>\n",
              "      <td>11.0786</td>\n",
              "      <td>11.0786</td>\n",
              "      <td>420276</td>\n",
              "      <td>WES</td>\n",
              "    </tr>\n",
              "    <tr>\n",
              "      <th>2</th>\n",
              "      <td>2002-02-04</td>\n",
              "      <td>11.1554</td>\n",
              "      <td>11.2318</td>\n",
              "      <td>11.1190</td>\n",
              "      <td>11.1325</td>\n",
              "      <td>252276</td>\n",
              "      <td>WES</td>\n",
              "    </tr>\n",
              "    <tr>\n",
              "      <th>3</th>\n",
              "      <td>2002-02-05</td>\n",
              "      <td>11.1041</td>\n",
              "      <td>11.1517</td>\n",
              "      <td>11.0790</td>\n",
              "      <td>11.0972</td>\n",
              "      <td>289673</td>\n",
              "      <td>WES</td>\n",
              "    </tr>\n",
              "    <tr>\n",
              "      <th>4</th>\n",
              "      <td>2002-02-06</td>\n",
              "      <td>11.0972</td>\n",
              "      <td>11.0972</td>\n",
              "      <td>10.9407</td>\n",
              "      <td>10.9407</td>\n",
              "      <td>405261</td>\n",
              "      <td>WES</td>\n",
              "    </tr>\n",
              "  </tbody>\n",
              "</table>\n",
              "</div>"
            ],
            "text/plain": [
              "        Date     Open     High      Low    Close  Volume Stock\n",
              "0 2002-01-31  10.9880  11.1517  10.9880  11.1336  352225   WES\n",
              "1 2002-02-01  11.1517  11.2245  11.0786  11.0786  420276   WES\n",
              "2 2002-02-04  11.1554  11.2318  11.1190  11.1325  252276   WES\n",
              "3 2002-02-05  11.1041  11.1517  11.0790  11.0972  289673   WES\n",
              "4 2002-02-06  11.0972  11.0972  10.9407  10.9407  405261   WES"
            ]
          },
          "metadata": {
            "tags": []
          },
          "execution_count": 5
        }
      ]
    },
    {
      "cell_type": "code",
      "metadata": {
        "id": "jG2DUXsION4Z",
        "colab_type": "code",
        "outputId": "8b35a98f-8d05-4930-e026-cee8a6e81b3e",
        "colab": {
          "base_uri": "https://localhost:8080/",
          "height": 195
        }
      },
      "source": [
        "data = data.reset_index()\n",
        "data = data[['Date', 'Close', 'Stock']]\n",
        "data.head()"
      ],
      "execution_count": 0,
      "outputs": [
        {
          "output_type": "execute_result",
          "data": {
            "text/html": [
              "<div>\n",
              "<style scoped>\n",
              "    .dataframe tbody tr th:only-of-type {\n",
              "        vertical-align: middle;\n",
              "    }\n",
              "\n",
              "    .dataframe tbody tr th {\n",
              "        vertical-align: top;\n",
              "    }\n",
              "\n",
              "    .dataframe thead th {\n",
              "        text-align: right;\n",
              "    }\n",
              "</style>\n",
              "<table border=\"1\" class=\"dataframe\">\n",
              "  <thead>\n",
              "    <tr style=\"text-align: right;\">\n",
              "      <th></th>\n",
              "      <th>Date</th>\n",
              "      <th>Close</th>\n",
              "      <th>Stock</th>\n",
              "    </tr>\n",
              "  </thead>\n",
              "  <tbody>\n",
              "    <tr>\n",
              "      <th>0</th>\n",
              "      <td>2002-01-31</td>\n",
              "      <td>11.1336</td>\n",
              "      <td>WES</td>\n",
              "    </tr>\n",
              "    <tr>\n",
              "      <th>1</th>\n",
              "      <td>2002-02-01</td>\n",
              "      <td>11.0786</td>\n",
              "      <td>WES</td>\n",
              "    </tr>\n",
              "    <tr>\n",
              "      <th>2</th>\n",
              "      <td>2002-02-04</td>\n",
              "      <td>11.1325</td>\n",
              "      <td>WES</td>\n",
              "    </tr>\n",
              "    <tr>\n",
              "      <th>3</th>\n",
              "      <td>2002-02-05</td>\n",
              "      <td>11.0972</td>\n",
              "      <td>WES</td>\n",
              "    </tr>\n",
              "    <tr>\n",
              "      <th>4</th>\n",
              "      <td>2002-02-06</td>\n",
              "      <td>10.9407</td>\n",
              "      <td>WES</td>\n",
              "    </tr>\n",
              "  </tbody>\n",
              "</table>\n",
              "</div>"
            ],
            "text/plain": [
              "        Date    Close Stock\n",
              "0 2002-01-31  11.1336   WES\n",
              "1 2002-02-01  11.0786   WES\n",
              "2 2002-02-04  11.1325   WES\n",
              "3 2002-02-05  11.0972   WES\n",
              "4 2002-02-06  10.9407   WES"
            ]
          },
          "metadata": {
            "tags": []
          },
          "execution_count": 6
        }
      ]
    },
    {
      "cell_type": "code",
      "metadata": {
        "id": "yVH-GQZLON4b",
        "colab_type": "code",
        "outputId": "79c22b45-74bd-44ab-cb87-b2b3171ad22a",
        "colab": {
          "base_uri": "https://localhost:8080/",
          "height": 195
        }
      },
      "source": [
        "data_pivot = data.pivot('Date','Stock','Close').reset_index()\n",
        "data_pivot.head()"
      ],
      "execution_count": 0,
      "outputs": [
        {
          "output_type": "execute_result",
          "data": {
            "text/html": [
              "<div>\n",
              "<style scoped>\n",
              "    .dataframe tbody tr th:only-of-type {\n",
              "        vertical-align: middle;\n",
              "    }\n",
              "\n",
              "    .dataframe tbody tr th {\n",
              "        vertical-align: top;\n",
              "    }\n",
              "\n",
              "    .dataframe thead th {\n",
              "        text-align: right;\n",
              "    }\n",
              "</style>\n",
              "<table border=\"1\" class=\"dataframe\">\n",
              "  <thead>\n",
              "    <tr style=\"text-align: right;\">\n",
              "      <th>Stock</th>\n",
              "      <th>Date</th>\n",
              "      <th>ANZ</th>\n",
              "      <th>BHP</th>\n",
              "      <th>CBA</th>\n",
              "      <th>RIO</th>\n",
              "      <th>WES</th>\n",
              "    </tr>\n",
              "  </thead>\n",
              "  <tbody>\n",
              "    <tr>\n",
              "      <th>0</th>\n",
              "      <td>2002-01-31</td>\n",
              "      <td>6.9315</td>\n",
              "      <td>6.1043</td>\n",
              "      <td>13.1267</td>\n",
              "      <td>14.7045</td>\n",
              "      <td>11.1336</td>\n",
              "    </tr>\n",
              "    <tr>\n",
              "      <th>1</th>\n",
              "      <td>2002-02-01</td>\n",
              "      <td>6.8319</td>\n",
              "      <td>6.1699</td>\n",
              "      <td>13.1508</td>\n",
              "      <td>15.2004</td>\n",
              "      <td>11.0786</td>\n",
              "    </tr>\n",
              "    <tr>\n",
              "      <th>2</th>\n",
              "      <td>2002-02-04</td>\n",
              "      <td>6.8885</td>\n",
              "      <td>6.3118</td>\n",
              "      <td>13.3837</td>\n",
              "      <td>15.5651</td>\n",
              "      <td>11.1325</td>\n",
              "    </tr>\n",
              "    <tr>\n",
              "      <th>3</th>\n",
              "      <td>2002-02-05</td>\n",
              "      <td>6.9276</td>\n",
              "      <td>6.3801</td>\n",
              "      <td>13.1388</td>\n",
              "      <td>15.5996</td>\n",
              "      <td>11.0972</td>\n",
              "    </tr>\n",
              "    <tr>\n",
              "      <th>4</th>\n",
              "      <td>2002-02-06</td>\n",
              "      <td>6.9510</td>\n",
              "      <td>6.4702</td>\n",
              "      <td>12.8140</td>\n",
              "      <td>15.1659</td>\n",
              "      <td>10.9407</td>\n",
              "    </tr>\n",
              "  </tbody>\n",
              "</table>\n",
              "</div>"
            ],
            "text/plain": [
              "Stock       Date     ANZ     BHP      CBA      RIO      WES\n",
              "0     2002-01-31  6.9315  6.1043  13.1267  14.7045  11.1336\n",
              "1     2002-02-01  6.8319  6.1699  13.1508  15.2004  11.0786\n",
              "2     2002-02-04  6.8885  6.3118  13.3837  15.5651  11.1325\n",
              "3     2002-02-05  6.9276  6.3801  13.1388  15.5996  11.0972\n",
              "4     2002-02-06  6.9510  6.4702  12.8140  15.1659  10.9407"
            ]
          },
          "metadata": {
            "tags": []
          },
          "execution_count": 7
        }
      ]
    },
    {
      "cell_type": "code",
      "metadata": {
        "id": "SknZH6bhON4d",
        "colab_type": "code",
        "outputId": "6bbe26b2-ea3b-40c0-ae66-86d7b13f9f58",
        "colab": {
          "base_uri": "https://localhost:8080/",
          "height": 195
        }
      },
      "source": [
        "corr_df = data_pivot.corr(method='pearson')\n",
        "#reset symbol as index (rather than 0-X)\n",
        "corr_df.head().reset_index()\n",
        "del corr_df.index.name\n",
        "corr_df.head(10)"
      ],
      "execution_count": 0,
      "outputs": [
        {
          "output_type": "execute_result",
          "data": {
            "text/html": [
              "<div>\n",
              "<style scoped>\n",
              "    .dataframe tbody tr th:only-of-type {\n",
              "        vertical-align: middle;\n",
              "    }\n",
              "\n",
              "    .dataframe tbody tr th {\n",
              "        vertical-align: top;\n",
              "    }\n",
              "\n",
              "    .dataframe thead th {\n",
              "        text-align: right;\n",
              "    }\n",
              "</style>\n",
              "<table border=\"1\" class=\"dataframe\">\n",
              "  <thead>\n",
              "    <tr style=\"text-align: right;\">\n",
              "      <th>Stock</th>\n",
              "      <th>ANZ</th>\n",
              "      <th>BHP</th>\n",
              "      <th>CBA</th>\n",
              "      <th>RIO</th>\n",
              "      <th>WES</th>\n",
              "    </tr>\n",
              "  </thead>\n",
              "  <tbody>\n",
              "    <tr>\n",
              "      <th>ANZ</th>\n",
              "      <td>1.000000</td>\n",
              "      <td>0.614569</td>\n",
              "      <td>0.980258</td>\n",
              "      <td>0.683818</td>\n",
              "      <td>0.969762</td>\n",
              "    </tr>\n",
              "    <tr>\n",
              "      <th>BHP</th>\n",
              "      <td>0.614569</td>\n",
              "      <td>1.000000</td>\n",
              "      <td>0.581494</td>\n",
              "      <td>0.884080</td>\n",
              "      <td>0.604126</td>\n",
              "    </tr>\n",
              "    <tr>\n",
              "      <th>CBA</th>\n",
              "      <td>0.980258</td>\n",
              "      <td>0.581494</td>\n",
              "      <td>1.000000</td>\n",
              "      <td>0.660790</td>\n",
              "      <td>0.973428</td>\n",
              "    </tr>\n",
              "    <tr>\n",
              "      <th>RIO</th>\n",
              "      <td>0.683818</td>\n",
              "      <td>0.884080</td>\n",
              "      <td>0.660790</td>\n",
              "      <td>1.000000</td>\n",
              "      <td>0.716878</td>\n",
              "    </tr>\n",
              "    <tr>\n",
              "      <th>WES</th>\n",
              "      <td>0.969762</td>\n",
              "      <td>0.604126</td>\n",
              "      <td>0.973428</td>\n",
              "      <td>0.716878</td>\n",
              "      <td>1.000000</td>\n",
              "    </tr>\n",
              "  </tbody>\n",
              "</table>\n",
              "</div>"
            ],
            "text/plain": [
              "Stock       ANZ       BHP       CBA       RIO       WES\n",
              "ANZ    1.000000  0.614569  0.980258  0.683818  0.969762\n",
              "BHP    0.614569  1.000000  0.581494  0.884080  0.604126\n",
              "CBA    0.980258  0.581494  1.000000  0.660790  0.973428\n",
              "RIO    0.683818  0.884080  0.660790  1.000000  0.716878\n",
              "WES    0.969762  0.604126  0.973428  0.716878  1.000000"
            ]
          },
          "metadata": {
            "tags": []
          },
          "execution_count": 8
        }
      ]
    },
    {
      "cell_type": "markdown",
      "metadata": {
        "id": "EY_eEpq4ON4f",
        "colab_type": "text"
      },
      "source": [
        "* There was a strong positive correlation between ANZ,CBA,WES\n",
        "* correlation is there between RIO,BHP,WES"
      ]
    },
    {
      "cell_type": "code",
      "metadata": {
        "id": "5Nz-ciK6ON4g",
        "colab_type": "code",
        "outputId": "8ab886d5-c068-4455-fa0f-7aecdbc9c32c",
        "colab": {
          "base_uri": "https://localhost:8080/",
          "height": 296
        }
      },
      "source": [
        "#take the bottom triangle since it repeats itself\n",
        "mask = np.zeros_like(corr_df)\n",
        "mask[np.triu_indices_from(mask)] = True\n",
        "#generate plot\n",
        "sns.heatmap(corr_df, cmap='RdYlGn', vmax=1.0, vmin=-1.0 , mask = mask, linewidths=2.5)\n",
        "plt.yticks(rotation=0)\n",
        "plt.xticks(rotation=90) \n",
        "plt.show()"
      ],
      "execution_count": 0,
      "outputs": [
        {
          "output_type": "display_data",
          "data": {
            "image/png": "[encoded data removed]",
            "text/plain": [
              "<Figure size 432x288 with 2 Axes>"
            ]
          },
          "metadata": {
            "tags": []
          }
        }
      ]
    },
    {
      "cell_type": "code",
      "metadata": {
        "id": "AOB2C9OPON4i",
        "colab_type": "code",
        "outputId": "b0ac7518-a3d1-4158-a66a-b7f52d7f4e1c",
        "colab": {
          "base_uri": "https://localhost:8080/",
          "height": 268
        }
      },
      "source": [
        "plt.imshow(corr_df, cmap='hot', interpolation='none')\n",
        "plt.colorbar()\n",
        "plt.xticks(range(len(corr_df)), corr_df.columns)\n",
        "plt.yticks(range(len(corr_df)), corr_df.columns)\n",
        "plt.show()"
      ],
      "execution_count": 0,
      "outputs": [
        {
          "output_type": "display_data",
          "data": {
            "image/png": "[encoded data removed]",
            "text/plain": [
              "<Figure size 432x288 with 2 Axes>"
            ]
          },
          "metadata": {
            "tags": []
          }
        }
      ]
    },
    {
      "cell_type": "markdown",
      "metadata": {
        "id": "c_xFsoILON4o",
        "colab_type": "text"
      },
      "source": [
        "Task 2 (15 marks) \n",
        "• Calculate 5-period and 20-period moving averages for each stock. Print the last 5 values of each moving average for each stock. \n",
        "• Create a separate line plot for each stock from 2008 - 2010, with the stock’s opening price, 5-period moving average and 20-period moving average displayed using different colours.\n",
        "• Record the buy and sell transactions for each stock based on the strategy above and print out the buying/selling dates/prices for the first 10 transactions of each stock. Here’s some additional information that might be helpful: \n",
        "o There are no equity constraints (i.e. the trader is able to make a trade every time the \n",
        "strategy conditions are met, regardless of how much money he has gained/lost previously and how many other stocks he is currently holding). o If a trade is open when the data for a stock ends, it should be closed (i.e. stocks sold) \n",
        "on the last day that data is available for. For example, if a trade is open for BHP on 10/08/2018 (last day of data) it should be closed at the open price on that day. o There are no transaction costs. o 1000 stocks are purchased at a time. "
      ]
    },
    {
      "cell_type": "code",
      "metadata": {
        "id": "wLBpqYdjON4o",
        "colab_type": "code",
        "colab": {}
      },
      "source": [
        "df = pd.read_csv(r\"/content/WES.csv\",parse_dates=['Date'],index_col='Date')\n",
        "df_1 = pd.read_csv(r\"/content/RIO.csv\",parse_dates=['Date'],index_col='Date')\n",
        "df_2 = pd.read_csv(r\"/content/ANZ.csv\",parse_dates=['Date'],index_col='Date')\n",
        "df_3 = pd.read_csv(r\"/content/BHP.csv\",parse_dates=['Date'],index_col='Date')\n",
        "df_4 = pd.read_csv(r\"/content/CBA.csv\",parse_dates=['Date'],index_col='Date')"
      ],
      "execution_count": 0,
      "outputs": []
    },
    {
      "cell_type": "code",
      "metadata": {
        "id": "b3fYogM3ON4s",
        "colab_type": "code",
        "colab": {}
      },
      "source": [
        "wes = df[\"02-01-2008\":\"31-12-2010\"]"
      ],
      "execution_count": 0,
      "outputs": []
    },
    {
      "cell_type": "code",
      "metadata": {
        "id": "GQG0X5TjON4w",
        "colab_type": "code",
        "colab": {}
      },
      "source": [
        "wes_5 = wes.Close.rolling(window=5).mean()\n",
        "wes_20 = wes.Close.rolling(window=20).mean()"
      ],
      "execution_count": 0,
      "outputs": []
    },
    {
      "cell_type": "markdown",
      "metadata": {
        "id": "kYLvsn2mON4z",
        "colab_type": "text"
      },
      "source": [
        "Print the last 5 values of each moving average for each stock"
      ]
    },
    {
      "cell_type": "code",
      "metadata": {
        "id": "TKujK212ON40",
        "colab_type": "code",
        "outputId": "ad7a706a-64ac-41d3-95dc-0ee8f2b79e51",
        "colab": {
          "base_uri": "https://localhost:8080/",
          "height": 134
        }
      },
      "source": [
        "wes_5.tail(5)"
      ],
      "execution_count": 0,
      "outputs": [
        {
          "output_type": "execute_result",
          "data": {
            "text/plain": [
              "Date\n",
              "2010-12-23    22.18708\n",
              "2010-12-24    22.30928\n",
              "2010-12-29    22.38704\n",
              "2010-12-30    22.42592\n",
              "2010-12-31    22.40094\n",
              "Name: Close, dtype: float64"
            ]
          },
          "metadata": {
            "tags": []
          },
          "execution_count": 14
        }
      ]
    },
    {
      "cell_type": "code",
      "metadata": {
        "id": "8pDQ87B_ON42",
        "colab_type": "code",
        "outputId": "fd35ceb9-2b8b-45ea-81e9-b53f863c996a",
        "colab": {
          "base_uri": "https://localhost:8080/",
          "height": 134
        }
      },
      "source": [
        "wes_20.tail(5)"
      ],
      "execution_count": 0,
      "outputs": [
        {
          "output_type": "execute_result",
          "data": {
            "text/plain": [
              "Date\n",
              "2010-12-23    22.078085\n",
              "2010-12-24    22.082945\n",
              "2010-12-29    22.093010\n",
              "2010-12-30    22.122165\n",
              "2010-12-31    22.144385\n",
              "Name: Close, dtype: float64"
            ]
          },
          "metadata": {
            "tags": []
          },
          "execution_count": 15
        }
      ]
    },
    {
      "cell_type": "code",
      "metadata": {
        "id": "p5SYNsuION44",
        "colab_type": "code",
        "outputId": "8970f5fe-d277-4cfa-f4f2-afe30ee7e1bf",
        "colab": {
          "base_uri": "https://localhost:8080/",
          "height": 294
        }
      },
      "source": [
        "wes.Open.plot(label='wes')\n",
        "wes_5.plot(label='wes_5')\n",
        "wes_20.plot(label='wes_20')\n",
        "plt.legend()"
      ],
      "execution_count": 0,
      "outputs": [
        {
          "output_type": "execute_result",
          "data": {
            "text/plain": [
              "<matplotlib.legend.Legend at 0x7f8dcf26b668>"
            ]
          },
          "metadata": {
            "tags": []
          },
          "execution_count": 16
        },
        {
          "output_type": "display_data",
          "data": {
            "image/png": "[encoded data removed]",
            "text/plain": [
              "<Figure size 432x288 with 1 Axes>"
            ]
          },
          "metadata": {
            "tags": []
          }
        }
      ]
    },
    {
      "cell_type": "code",
      "metadata": {
        "id": "0HwUOGbjON46",
        "colab_type": "code",
        "colab": {}
      },
      "source": [
        "rio = df_1[\"02-01-2008\":\"31-12-2010\"]"
      ],
      "execution_count": 0,
      "outputs": []
    },
    {
      "cell_type": "code",
      "metadata": {
        "id": "-cMXNiOsON49",
        "colab_type": "code",
        "colab": {}
      },
      "source": [
        "rio_5 = rio.Close.rolling(window=5).mean()\n",
        "rio_20 = rio.Close.rolling(window=20).mean()"
      ],
      "execution_count": 0,
      "outputs": []
    },
    {
      "cell_type": "code",
      "metadata": {
        "id": "pGKU_sNhON5B",
        "colab_type": "code",
        "outputId": "56c53869-79d4-482a-fbf5-041077a7a8b8",
        "colab": {
          "base_uri": "https://localhost:8080/",
          "height": 134
        }
      },
      "source": [
        "rio_5.tail(5)"
      ],
      "execution_count": 0,
      "outputs": [
        {
          "output_type": "execute_result",
          "data": {
            "text/plain": [
              "Date\n",
              "2010-12-23    56.52018\n",
              "2010-12-24    56.61312\n",
              "2010-12-29    56.61704\n",
              "2010-12-30    56.48614\n",
              "2010-12-31    56.31466\n",
              "Name: Close, dtype: float64"
            ]
          },
          "metadata": {
            "tags": []
          },
          "execution_count": 19
        }
      ]
    },
    {
      "cell_type": "code",
      "metadata": {
        "id": "MFh2gO5UON5F",
        "colab_type": "code",
        "outputId": "59ed1fa4-032f-4206-e027-a26455505ce1",
        "colab": {
          "base_uri": "https://localhost:8080/",
          "height": 134
        }
      },
      "source": [
        "rio_20.tail(5)"
      ],
      "execution_count": 0,
      "outputs": [
        {
          "output_type": "execute_result",
          "data": {
            "text/plain": [
              "Date\n",
              "2010-12-23    56.360490\n",
              "2010-12-24    56.436410\n",
              "2010-12-29    56.490075\n",
              "2010-12-30    56.604285\n",
              "2010-12-31    56.681845\n",
              "Name: Close, dtype: float64"
            ]
          },
          "metadata": {
            "tags": []
          },
          "execution_count": 20
        }
      ]
    },
    {
      "cell_type": "code",
      "metadata": {
        "id": "xkFeV64nON5H",
        "colab_type": "code",
        "outputId": "73a6704e-56be-4bba-9f2f-e8270b6b677a",
        "colab": {
          "base_uri": "https://localhost:8080/",
          "height": 294
        }
      },
      "source": [
        "rio.Open.plot(label='rio')\n",
        "rio_5.plot(label='rio_5')\n",
        "rio_20.plot(label='rio_20')\n",
        "plt.legend()"
      ],
      "execution_count": 0,
      "outputs": [
        {
          "output_type": "execute_result",
          "data": {
            "text/plain": [
              "<matplotlib.legend.Legend at 0x7f8dcf1f9d30>"
            ]
          },
          "metadata": {
            "tags": []
          },
          "execution_count": 21
        },
        {
          "output_type": "display_data",
          "data": {
            "image/png": "[encoded data removed]",
            "text/plain": [
              "<Figure size 432x288 with 1 Axes>"
            ]
          },
          "metadata": {
            "tags": []
          }
        }
      ]
    },
    {
      "cell_type": "code",
      "metadata": {
        "id": "r2JISxYUON5J",
        "colab_type": "code",
        "colab": {}
      },
      "source": [
        "bhp = df_3[\"02-01-2008\":\"31-12-2010\"]"
      ],
      "execution_count": 0,
      "outputs": []
    },
    {
      "cell_type": "code",
      "metadata": {
        "id": "GchGkS2GON5L",
        "colab_type": "code",
        "colab": {}
      },
      "source": [
        "bhp_5 = bhp.Close.rolling(window=5).mean()\n",
        "bhp_20 = bhp.Close.rolling(window=20).mean()"
      ],
      "execution_count": 0,
      "outputs": []
    },
    {
      "cell_type": "code",
      "metadata": {
        "id": "kQzHZUFoON5N",
        "colab_type": "code",
        "outputId": "d738aef6-af6c-4ffe-c7b0-fe4c5fce545f",
        "colab": {
          "base_uri": "https://localhost:8080/",
          "height": 134
        }
      },
      "source": [
        "bhp_5.tail(5)"
      ],
      "execution_count": 0,
      "outputs": [
        {
          "output_type": "execute_result",
          "data": {
            "text/plain": [
              "Date\n",
              "2010-12-23    32.38056\n",
              "2010-12-24    32.52428\n",
              "2010-12-29    32.61394\n",
              "2010-12-30    32.67514\n",
              "2010-12-31    32.59404\n",
              "Name: Close, dtype: float64"
            ]
          },
          "metadata": {
            "tags": []
          },
          "execution_count": 24
        }
      ]
    },
    {
      "cell_type": "code",
      "metadata": {
        "id": "Oe2y9plGON5P",
        "colab_type": "code",
        "outputId": "d38f966d-32bc-4e14-c477-8e4107ae3912",
        "colab": {
          "base_uri": "https://localhost:8080/",
          "height": 134
        }
      },
      "source": [
        "bhp_20.tail(5)"
      ],
      "execution_count": 0,
      "outputs": [
        {
          "output_type": "execute_result",
          "data": {
            "text/plain": [
              "Date\n",
              "2010-12-23    31.875085\n",
              "2010-12-24    31.976110\n",
              "2010-12-29    32.054730\n",
              "2010-12-30    32.165365\n",
              "2010-12-31    32.238290\n",
              "Name: Close, dtype: float64"
            ]
          },
          "metadata": {
            "tags": []
          },
          "execution_count": 25
        }
      ]
    },
    {
      "cell_type": "code",
      "metadata": {
        "id": "mozI3SwPON5Q",
        "colab_type": "code",
        "outputId": "c2752e13-c01c-4204-bbe0-14fe1eaf9877",
        "colab": {
          "base_uri": "https://localhost:8080/",
          "height": 294
        }
      },
      "source": [
        "bhp.Open.plot(label='bhp')\n",
        "bhp_5.plot(label='bhp_5')\n",
        "bhp_20.plot(label='bhp_20')\n",
        "plt.legend()"
      ],
      "execution_count": 0,
      "outputs": [
        {
          "output_type": "execute_result",
          "data": {
            "text/plain": [
              "<matplotlib.legend.Legend at 0x7f8dc98a1d30>"
            ]
          },
          "metadata": {
            "tags": []
          },
          "execution_count": 26
        },
        {
          "output_type": "display_data",
          "data": {
            "image/png": "[encoded data removed]",
            "text/plain": [
              "<Figure size 432x288 with 1 Axes>"
            ]
          },
          "metadata": {
            "tags": []
          }
        }
      ]
    },
    {
      "cell_type": "code",
      "metadata": {
        "id": "HhIm9N95ON5U",
        "colab_type": "code",
        "colab": {}
      },
      "source": [
        "cba = df_4[\"02-01-2008\":\"31-12-2010\"]"
      ],
      "execution_count": 0,
      "outputs": []
    },
    {
      "cell_type": "code",
      "metadata": {
        "id": "o3oAbSmaON5X",
        "colab_type": "code",
        "colab": {}
      },
      "source": [
        "cba_5 = cba.Close.rolling(window=5).mean()\n",
        "cba_20 = cba.Close.rolling(window=20).mean()"
      ],
      "execution_count": 0,
      "outputs": []
    },
    {
      "cell_type": "code",
      "metadata": {
        "id": "KARTMgZBON5a",
        "colab_type": "code",
        "outputId": "fec64c19-f5d6-4d45-943d-3956642ed4a8",
        "colab": {
          "base_uri": "https://localhost:8080/",
          "height": 134
        }
      },
      "source": [
        "cba_5.tail(5)"
      ],
      "execution_count": 0,
      "outputs": [
        {
          "output_type": "execute_result",
          "data": {
            "text/plain": [
              "Date\n",
              "2010-12-23    33.47234\n",
              "2010-12-24    33.52624\n",
              "2010-12-29    33.59724\n",
              "2010-12-30    33.63274\n",
              "2010-12-31    33.61960\n",
              "Name: Close, dtype: float64"
            ]
          },
          "metadata": {
            "tags": []
          },
          "execution_count": 29
        }
      ]
    },
    {
      "cell_type": "code",
      "metadata": {
        "id": "0UeHDsm8ON5d",
        "colab_type": "code",
        "outputId": "47ee78c8-c977-4d7c-e6a9-3158c07c8c99",
        "colab": {
          "base_uri": "https://localhost:8080/",
          "height": 134
        }
      },
      "source": [
        "cba_20.tail(5)"
      ],
      "execution_count": 0,
      "outputs": [
        {
          "output_type": "execute_result",
          "data": {
            "text/plain": [
              "Date\n",
              "2010-12-23    32.841140\n",
              "2010-12-24    32.957185\n",
              "2010-12-29    33.045945\n",
              "2010-12-30    33.144240\n",
              "2010-12-31    33.218210\n",
              "Name: Close, dtype: float64"
            ]
          },
          "metadata": {
            "tags": []
          },
          "execution_count": 30
        }
      ]
    },
    {
      "cell_type": "code",
      "metadata": {
        "id": "k6fO8K0aON5h",
        "colab_type": "code",
        "outputId": "f43f6640-8c9a-4e4e-aad4-082a0612d09a",
        "colab": {
          "base_uri": "https://localhost:8080/",
          "height": 294
        }
      },
      "source": [
        "cba.Open.plot(label='cba')\n",
        "cba_5.plot(label='cba_5')\n",
        "cba_20.plot(label='cba_20')\n",
        "plt.legend()"
      ],
      "execution_count": 0,
      "outputs": [
        {
          "output_type": "execute_result",
          "data": {
            "text/plain": [
              "<matplotlib.legend.Legend at 0x7f8dc98bc7f0>"
            ]
          },
          "metadata": {
            "tags": []
          },
          "execution_count": 31
        },
        {
          "output_type": "display_data",
          "data": {
            "image/png": "[encoded data removed]",
            "text/plain": [
              "<Figure size 432x288 with 1 Axes>"
            ]
          },
          "metadata": {
            "tags": []
          }
        }
      ]
    },
    {
      "cell_type": "code",
      "metadata": {
        "id": "-sw7TgwmON5l",
        "colab_type": "code",
        "colab": {}
      },
      "source": [
        "df_2 = pd.read_csv(r\"/content/ANZ.csv\",parse_dates=['Date'],index_col='Date')"
      ],
      "execution_count": 0,
      "outputs": []
    },
    {
      "cell_type": "code",
      "metadata": {
        "id": "c-yPDNbzON5o",
        "colab_type": "code",
        "colab": {}
      },
      "source": [
        "anz = df_2[\"02-01-2008\":\"31-12-2010\"]"
      ],
      "execution_count": 0,
      "outputs": []
    },
    {
      "cell_type": "code",
      "metadata": {
        "id": "Auif4hdbON5q",
        "colab_type": "code",
        "outputId": "83118df5-1a59-4198-f4c4-54f571ecfc60",
        "colab": {
          "base_uri": "https://localhost:8080/",
          "height": 225
        }
      },
      "source": [
        "anz.head()"
      ],
      "execution_count": 0,
      "outputs": [
        {
          "output_type": "execute_result",
          "data": {
            "text/html": [
              "<div>\n",
              "<style scoped>\n",
              "    .dataframe tbody tr th:only-of-type {\n",
              "        vertical-align: middle;\n",
              "    }\n",
              "\n",
              "    .dataframe tbody tr th {\n",
              "        vertical-align: top;\n",
              "    }\n",
              "\n",
              "    .dataframe thead th {\n",
              "        text-align: right;\n",
              "    }\n",
              "</style>\n",
              "<table border=\"1\" class=\"dataframe\">\n",
              "  <thead>\n",
              "    <tr style=\"text-align: right;\">\n",
              "      <th></th>\n",
              "      <th>Open</th>\n",
              "      <th>High</th>\n",
              "      <th>Low</th>\n",
              "      <th>Close</th>\n",
              "      <th>Volume</th>\n",
              "      <th>Member</th>\n",
              "    </tr>\n",
              "    <tr>\n",
              "      <th>Date</th>\n",
              "      <th></th>\n",
              "      <th></th>\n",
              "      <th></th>\n",
              "      <th></th>\n",
              "      <th></th>\n",
              "      <th></th>\n",
              "    </tr>\n",
              "  </thead>\n",
              "  <tbody>\n",
              "    <tr>\n",
              "      <th>2008-02-01</th>\n",
              "      <td>14.3835</td>\n",
              "      <td>14.7052</td>\n",
              "      <td>14.2581</td>\n",
              "      <td>14.6616</td>\n",
              "      <td>7175158</td>\n",
              "      <td>1</td>\n",
              "    </tr>\n",
              "    <tr>\n",
              "      <th>2008-02-04</th>\n",
              "      <td>14.8578</td>\n",
              "      <td>15.0214</td>\n",
              "      <td>14.3399</td>\n",
              "      <td>14.5580</td>\n",
              "      <td>7354632</td>\n",
              "      <td>1</td>\n",
              "    </tr>\n",
              "    <tr>\n",
              "      <th>2008-02-05</th>\n",
              "      <td>14.6834</td>\n",
              "      <td>14.7106</td>\n",
              "      <td>14.3726</td>\n",
              "      <td>14.3944</td>\n",
              "      <td>5004652</td>\n",
              "      <td>1</td>\n",
              "    </tr>\n",
              "    <tr>\n",
              "      <th>2008-02-06</th>\n",
              "      <td>14.0018</td>\n",
              "      <td>14.2090</td>\n",
              "      <td>13.7892</td>\n",
              "      <td>13.8710</td>\n",
              "      <td>6212978</td>\n",
              "      <td>1</td>\n",
              "    </tr>\n",
              "    <tr>\n",
              "      <th>2008-02-07</th>\n",
              "      <td>13.8437</td>\n",
              "      <td>13.9855</td>\n",
              "      <td>13.3257</td>\n",
              "      <td>13.6310</td>\n",
              "      <td>8216784</td>\n",
              "      <td>1</td>\n",
              "    </tr>\n",
              "  </tbody>\n",
              "</table>\n",
              "</div>"
            ],
            "text/plain": [
              "               Open     High      Low    Close   Volume  Member\n",
              "Date                                                           \n",
              "2008-02-01  14.3835  14.7052  14.2581  14.6616  7175158       1\n",
              "2008-02-04  14.8578  15.0214  14.3399  14.5580  7354632       1\n",
              "2008-02-05  14.6834  14.7106  14.3726  14.3944  5004652       1\n",
              "2008-02-06  14.0018  14.2090  13.7892  13.8710  6212978       1\n",
              "2008-02-07  13.8437  13.9855  13.3257  13.6310  8216784       1"
            ]
          },
          "metadata": {
            "tags": []
          },
          "execution_count": 35
        }
      ]
    },
    {
      "cell_type": "code",
      "metadata": {
        "id": "Sc6RyjAUON5t",
        "colab_type": "code",
        "colab": {}
      },
      "source": [
        "ANZ_5 = anz.Close.rolling(window=5).mean()\n",
        "ANZ_20 = anz.Close.rolling(window=20).mean()"
      ],
      "execution_count": 0,
      "outputs": []
    },
    {
      "cell_type": "code",
      "metadata": {
        "id": "EdTVPidTON5v",
        "colab_type": "code",
        "outputId": "69adcd86-ec69-4c6d-e728-781002d11fd0",
        "colab": {
          "base_uri": "https://localhost:8080/",
          "height": 134
        }
      },
      "source": [
        "ANZ_5.tail(5)"
      ],
      "execution_count": 0,
      "outputs": [
        {
          "output_type": "execute_result",
          "data": {
            "text/plain": [
              "Date\n",
              "2010-12-23    15.27884\n",
              "2010-12-24    15.29568\n",
              "2010-12-29    15.35398\n",
              "2010-12-30    15.35138\n",
              "2010-12-31    15.31510\n",
              "Name: Close, dtype: float64"
            ]
          },
          "metadata": {
            "tags": []
          },
          "execution_count": 37
        }
      ]
    },
    {
      "cell_type": "code",
      "metadata": {
        "id": "j-FgGnIbON5y",
        "colab_type": "code",
        "outputId": "8ce0f9d9-aa8e-429f-ff9f-9596807244c3",
        "colab": {
          "base_uri": "https://localhost:8080/",
          "height": 134
        }
      },
      "source": [
        "ANZ_20.tail(5)"
      ],
      "execution_count": 0,
      "outputs": [
        {
          "output_type": "execute_result",
          "data": {
            "text/plain": [
              "Date\n",
              "2010-12-23    15.169665\n",
              "2010-12-24    15.208535\n",
              "2010-12-29    15.239310\n",
              "2010-12-30    15.272350\n",
              "2010-12-31    15.295025\n",
              "Name: Close, dtype: float64"
            ]
          },
          "metadata": {
            "tags": []
          },
          "execution_count": 38
        }
      ]
    },
    {
      "cell_type": "code",
      "metadata": {
        "id": "F_DfUisYON52",
        "colab_type": "code",
        "outputId": "46ec21c7-df1d-4935-d11f-edf19ecd03c8",
        "colab": {
          "base_uri": "https://localhost:8080/",
          "height": 294
        }
      },
      "source": [
        "anz.Open.plot(label='anz')\n",
        "ANZ_5.plot(label='anz_5')\n",
        "ANZ_20.plot(label='anz_20')\n",
        "plt.legend()"
      ],
      "execution_count": 0,
      "outputs": [
        {
          "output_type": "execute_result",
          "data": {
            "text/plain": [
              "<matplotlib.legend.Legend at 0x7f8dc976bac8>"
            ]
          },
          "metadata": {
            "tags": []
          },
          "execution_count": 39
        },
        {
          "output_type": "display_data",
          "data": {
            "image/png": "[encoded data removed]",
            "text/plain": [
              "<Figure size 432x288 with 1 Axes>"
            ]
          },
          "metadata": {
            "tags": []
          }
        }
      ]
    },
    {
      "cell_type": "code",
      "metadata": {
        "id": "Mx2ICh0-QTji",
        "colab_type": "code",
        "outputId": "c09d1bcd-91a0-4101-9e99-ea98b2fa988a",
        "colab": {
          "base_uri": "https://localhost:8080/",
          "height": 225
        }
      },
      "source": [
        "df.head()"
      ],
      "execution_count": 0,
      "outputs": [
        {
          "output_type": "execute_result",
          "data": {
            "text/html": [
              "<div>\n",
              "<style scoped>\n",
              "    .dataframe tbody tr th:only-of-type {\n",
              "        vertical-align: middle;\n",
              "    }\n",
              "\n",
              "    .dataframe tbody tr th {\n",
              "        vertical-align: top;\n",
              "    }\n",
              "\n",
              "    .dataframe thead th {\n",
              "        text-align: right;\n",
              "    }\n",
              "</style>\n",
              "<table border=\"1\" class=\"dataframe\">\n",
              "  <thead>\n",
              "    <tr style=\"text-align: right;\">\n",
              "      <th></th>\n",
              "      <th>Open</th>\n",
              "      <th>High</th>\n",
              "      <th>Low</th>\n",
              "      <th>Close</th>\n",
              "      <th>Volume</th>\n",
              "      <th>Member</th>\n",
              "    </tr>\n",
              "    <tr>\n",
              "      <th>Date</th>\n",
              "      <th></th>\n",
              "      <th></th>\n",
              "      <th></th>\n",
              "      <th></th>\n",
              "      <th></th>\n",
              "      <th></th>\n",
              "    </tr>\n",
              "  </thead>\n",
              "  <tbody>\n",
              "    <tr>\n",
              "      <th>2002-01-31</th>\n",
              "      <td>10.9880</td>\n",
              "      <td>11.1517</td>\n",
              "      <td>10.9880</td>\n",
              "      <td>11.1336</td>\n",
              "      <td>352225</td>\n",
              "      <td>1</td>\n",
              "    </tr>\n",
              "    <tr>\n",
              "      <th>2002-02-01</th>\n",
              "      <td>11.1517</td>\n",
              "      <td>11.2245</td>\n",
              "      <td>11.0786</td>\n",
              "      <td>11.0786</td>\n",
              "      <td>420276</td>\n",
              "      <td>1</td>\n",
              "    </tr>\n",
              "    <tr>\n",
              "      <th>2002-02-04</th>\n",
              "      <td>11.1554</td>\n",
              "      <td>11.2318</td>\n",
              "      <td>11.1190</td>\n",
              "      <td>11.1325</td>\n",
              "      <td>252276</td>\n",
              "      <td>1</td>\n",
              "    </tr>\n",
              "    <tr>\n",
              "      <th>2002-02-05</th>\n",
              "      <td>11.1041</td>\n",
              "      <td>11.1517</td>\n",
              "      <td>11.0790</td>\n",
              "      <td>11.0972</td>\n",
              "      <td>289673</td>\n",
              "      <td>1</td>\n",
              "    </tr>\n",
              "    <tr>\n",
              "      <th>2002-02-06</th>\n",
              "      <td>11.0972</td>\n",
              "      <td>11.0972</td>\n",
              "      <td>10.9407</td>\n",
              "      <td>10.9407</td>\n",
              "      <td>405261</td>\n",
              "      <td>1</td>\n",
              "    </tr>\n",
              "  </tbody>\n",
              "</table>\n",
              "</div>"
            ],
            "text/plain": [
              "               Open     High      Low    Close  Volume  Member\n",
              "Date                                                          \n",
              "2002-01-31  10.9880  11.1517  10.9880  11.1336  352225       1\n",
              "2002-02-01  11.1517  11.2245  11.0786  11.0786  420276       1\n",
              "2002-02-04  11.1554  11.2318  11.1190  11.1325  252276       1\n",
              "2002-02-05  11.1041  11.1517  11.0790  11.0972  289673       1\n",
              "2002-02-06  11.0972  11.0972  10.9407  10.9407  405261       1"
            ]
          },
          "metadata": {
            "tags": []
          },
          "execution_count": 40
        }
      ]
    },
    {
      "cell_type": "code",
      "metadata": {
        "id": "k_JuC2e6P6x1",
        "colab_type": "code",
        "colab": {}
      },
      "source": [
        "df[\"5d\"] = np.round(df[\"Close\"].rolling(window = 5, center = False).mean(), 2)\n",
        "df[\"20d\"] = np.round(df[\"Close\"].rolling(window = 20, center = False).mean(), 2)"
      ],
      "execution_count": 0,
      "outputs": []
    },
    {
      "cell_type": "code",
      "metadata": {
        "id": "ZgYXSs7WWkWM",
        "colab_type": "code",
        "outputId": "bd8792f8-4cfd-42b7-ed04-58d03c413f2e",
        "colab": {
          "base_uri": "https://localhost:8080/",
          "height": 286
        }
      },
      "source": [
        "df.Open.plot(label='wes')\n",
        "df['5d'].plot(label='wes_5')\n",
        "df['20d'].plot(label='wes_20')\n",
        "plt.legend()"
      ],
      "execution_count": 0,
      "outputs": [
        {
          "output_type": "execute_result",
          "data": {
            "text/plain": [
              "<matplotlib.legend.Legend at 0x7f8dc932e780>"
            ]
          },
          "metadata": {
            "tags": []
          },
          "execution_count": 56
        },
        {
          "output_type": "display_data",
          "data": {
            "image/png": "[encoded data removed]",
            "text/plain": [
              "<Figure size 432x288 with 1 Axes>"
            ]
          },
          "metadata": {
            "tags": []
          }
        }
      ]
    },
    {
      "cell_type": "code",
      "metadata": {
        "id": "xxegmcJLRliy",
        "colab_type": "code",
        "outputId": "1dd582e0-6d09-4ee3-8586-c7597f3ab4da",
        "colab": {
          "base_uri": "https://localhost:8080/",
          "height": 225
        }
      },
      "source": [
        "df['20d-5d'] = df['20d'] - df['5d']\n",
        "df.tail()"
      ],
      "execution_count": 0,
      "outputs": [
        {
          "output_type": "execute_result",
          "data": {
            "text/html": [
              "<div>\n",
              "<style scoped>\n",
              "    .dataframe tbody tr th:only-of-type {\n",
              "        vertical-align: middle;\n",
              "    }\n",
              "\n",
              "    .dataframe tbody tr th {\n",
              "        vertical-align: top;\n",
              "    }\n",
              "\n",
              "    .dataframe thead th {\n",
              "        text-align: right;\n",
              "    }\n",
              "</style>\n",
              "<table border=\"1\" class=\"dataframe\">\n",
              "  <thead>\n",
              "    <tr style=\"text-align: right;\">\n",
              "      <th></th>\n",
              "      <th>Open</th>\n",
              "      <th>High</th>\n",
              "      <th>Low</th>\n",
              "      <th>Close</th>\n",
              "      <th>Volume</th>\n",
              "      <th>Member</th>\n",
              "      <th>5d</th>\n",
              "      <th>20d</th>\n",
              "      <th>20d-5d</th>\n",
              "    </tr>\n",
              "    <tr>\n",
              "      <th>Date</th>\n",
              "      <th></th>\n",
              "      <th></th>\n",
              "      <th></th>\n",
              "      <th></th>\n",
              "      <th></th>\n",
              "      <th></th>\n",
              "      <th></th>\n",
              "      <th></th>\n",
              "      <th></th>\n",
              "    </tr>\n",
              "  </thead>\n",
              "  <tbody>\n",
              "    <tr>\n",
              "      <th>2018-08-06</th>\n",
              "      <td>49.90</td>\n",
              "      <td>50.05</td>\n",
              "      <td>49.76</td>\n",
              "      <td>49.94</td>\n",
              "      <td>1154675</td>\n",
              "      <td>1</td>\n",
              "      <td>49.72</td>\n",
              "      <td>49.52</td>\n",
              "      <td>-0.20</td>\n",
              "    </tr>\n",
              "    <tr>\n",
              "      <th>2018-08-07</th>\n",
              "      <td>50.00</td>\n",
              "      <td>51.04</td>\n",
              "      <td>49.93</td>\n",
              "      <td>50.00</td>\n",
              "      <td>3281424</td>\n",
              "      <td>1</td>\n",
              "      <td>49.83</td>\n",
              "      <td>49.55</td>\n",
              "      <td>-0.28</td>\n",
              "    </tr>\n",
              "    <tr>\n",
              "      <th>2018-08-08</th>\n",
              "      <td>50.00</td>\n",
              "      <td>50.57</td>\n",
              "      <td>49.98</td>\n",
              "      <td>50.21</td>\n",
              "      <td>1987340</td>\n",
              "      <td>1</td>\n",
              "      <td>49.94</td>\n",
              "      <td>49.62</td>\n",
              "      <td>-0.32</td>\n",
              "    </tr>\n",
              "    <tr>\n",
              "      <th>2018-08-09</th>\n",
              "      <td>50.21</td>\n",
              "      <td>50.35</td>\n",
              "      <td>49.66</td>\n",
              "      <td>50.16</td>\n",
              "      <td>1731083</td>\n",
              "      <td>1</td>\n",
              "      <td>50.03</td>\n",
              "      <td>49.65</td>\n",
              "      <td>-0.38</td>\n",
              "    </tr>\n",
              "    <tr>\n",
              "      <th>2018-08-10</th>\n",
              "      <td>50.20</td>\n",
              "      <td>50.50</td>\n",
              "      <td>49.94</td>\n",
              "      <td>50.39</td>\n",
              "      <td>593825</td>\n",
              "      <td>1</td>\n",
              "      <td>50.14</td>\n",
              "      <td>49.71</td>\n",
              "      <td>-0.43</td>\n",
              "    </tr>\n",
              "  </tbody>\n",
              "</table>\n",
              "</div>"
            ],
            "text/plain": [
              "             Open   High    Low  Close   Volume  Member     5d    20d  20d-5d\n",
              "Date                                                                         \n",
              "2018-08-06  49.90  50.05  49.76  49.94  1154675       1  49.72  49.52   -0.20\n",
              "2018-08-07  50.00  51.04  49.93  50.00  3281424       1  49.83  49.55   -0.28\n",
              "2018-08-08  50.00  50.57  49.98  50.21  1987340       1  49.94  49.62   -0.32\n",
              "2018-08-09  50.21  50.35  49.66  50.16  1731083       1  50.03  49.65   -0.38\n",
              "2018-08-10  50.20  50.50  49.94  50.39   593825       1  50.14  49.71   -0.43"
            ]
          },
          "metadata": {
            "tags": []
          },
          "execution_count": 44
        }
      ]
    },
    {
      "cell_type": "code",
      "metadata": {
        "id": "NON0EBJLPsT4",
        "colab_type": "code",
        "outputId": "01802cd3-6ff1-4cc4-83ad-dedf91a0a004",
        "colab": {
          "base_uri": "https://localhost:8080/",
          "height": 298
        }
      },
      "source": [
        "# np.where() is a vectorized if-else function, where a condition is checked for each component of a vector, and the first argument passed is used when the condition holds, and the other passed if it does not\n",
        "df[\"Regime\"] = np.where(df['20d-5d'] > 0, 1, 0)\n",
        "# We have 1's for bullish regimes and 0's for everything else. Below I replace bearish regimes's values with -1, and to maintain the rest of the vector, the second argument is df[\"Regime\"]\n",
        "df[\"Regime\"] = np.where(df['20d-5d'] < 0, -1, df[\"Regime\"])\n",
        "df.loc[\"02-01-2008\":\"31-12-2010\",\"Regime\"].plot(ylim = (-2,2)).axhline(y = 0, color = \"black\", lw = 2)\n"
      ],
      "execution_count": 0,
      "outputs": [
        {
          "output_type": "execute_result",
          "data": {
            "text/plain": [
              "<matplotlib.lines.Line2D at 0x7f8dc93d54a8>"
            ]
          },
          "metadata": {
            "tags": []
          },
          "execution_count": 46
        },
        {
          "output_type": "display_data",
          "data": {
            "image/png": "[encoded data removed]",
            "text/plain": [
              "<Figure size 432x288 with 1 Axes>"
            ]
          },
          "metadata": {
            "tags": []
          }
        }
      ]
    },
    {
      "cell_type": "code",
      "metadata": {
        "id": "bwnuZNGNS277",
        "colab_type": "code",
        "outputId": "076f4169-a8d9-4281-e542-7ebb225a5aa3",
        "colab": {
          "base_uri": "https://localhost:8080/",
          "height": 329
        }
      },
      "source": [
        "# To ensure that all trades close out, I temporarily change the regime of the last row to 0\n",
        "regime_orig = df.loc[:, \"Regime\"].iloc[-1]\n",
        "df.loc[:, \"Regime\"].iloc[-1] = 0\n",
        "df[\"Signal\"] = np.sign(df[\"Regime\"] - df[\"Regime\"].shift(1))\n",
        "# Restore original regime data\n",
        "df.loc[:, \"Regime\"].iloc[-1] = regime_orig\n",
        "df.tail()"
      ],
      "execution_count": 0,
      "outputs": [
        {
          "output_type": "stream",
          "text": [
            "/usr/local/lib/python3.6/dist-packages/pandas/core/indexing.py:205: SettingWithCopyWarning: \n",
            "A value is trying to be set on a copy of a slice from a DataFrame\n",
            "\n",
            "See the caveats in the documentation: http://pandas.pydata.org/pandas-docs/stable/user_guide/indexing.html#returning-a-view-versus-a-copy\n",
            "  self._setitem_with_indexer(indexer, value)\n"
          ],
          "name": "stderr"
        },
        {
          "output_type": "execute_result",
          "data": {
            "text/html": [
              "<div>\n",
              "<style scoped>\n",
              "    .dataframe tbody tr th:only-of-type {\n",
              "        vertical-align: middle;\n",
              "    }\n",
              "\n",
              "    .dataframe tbody tr th {\n",
              "        vertical-align: top;\n",
              "    }\n",
              "\n",
              "    .dataframe thead th {\n",
              "        text-align: right;\n",
              "    }\n",
              "</style>\n",
              "<table border=\"1\" class=\"dataframe\">\n",
              "  <thead>\n",
              "    <tr style=\"text-align: right;\">\n",
              "      <th></th>\n",
              "      <th>Open</th>\n",
              "      <th>High</th>\n",
              "      <th>Low</th>\n",
              "      <th>Close</th>\n",
              "      <th>Volume</th>\n",
              "      <th>Member</th>\n",
              "      <th>5d</th>\n",
              "      <th>20d</th>\n",
              "      <th>20d-5d</th>\n",
              "      <th>Regime</th>\n",
              "      <th>Signal</th>\n",
              "    </tr>\n",
              "    <tr>\n",
              "      <th>Date</th>\n",
              "      <th></th>\n",
              "      <th></th>\n",
              "      <th></th>\n",
              "      <th></th>\n",
              "      <th></th>\n",
              "      <th></th>\n",
              "      <th></th>\n",
              "      <th></th>\n",
              "      <th></th>\n",
              "      <th></th>\n",
              "      <th></th>\n",
              "    </tr>\n",
              "  </thead>\n",
              "  <tbody>\n",
              "    <tr>\n",
              "      <th>2018-08-06</th>\n",
              "      <td>49.90</td>\n",
              "      <td>50.05</td>\n",
              "      <td>49.76</td>\n",
              "      <td>49.94</td>\n",
              "      <td>1154675</td>\n",
              "      <td>1</td>\n",
              "      <td>49.72</td>\n",
              "      <td>49.52</td>\n",
              "      <td>-0.20</td>\n",
              "      <td>-1</td>\n",
              "      <td>0.0</td>\n",
              "    </tr>\n",
              "    <tr>\n",
              "      <th>2018-08-07</th>\n",
              "      <td>50.00</td>\n",
              "      <td>51.04</td>\n",
              "      <td>49.93</td>\n",
              "      <td>50.00</td>\n",
              "      <td>3281424</td>\n",
              "      <td>1</td>\n",
              "      <td>49.83</td>\n",
              "      <td>49.55</td>\n",
              "      <td>-0.28</td>\n",
              "      <td>-1</td>\n",
              "      <td>0.0</td>\n",
              "    </tr>\n",
              "    <tr>\n",
              "      <th>2018-08-08</th>\n",
              "      <td>50.00</td>\n",
              "      <td>50.57</td>\n",
              "      <td>49.98</td>\n",
              "      <td>50.21</td>\n",
              "      <td>1987340</td>\n",
              "      <td>1</td>\n",
              "      <td>49.94</td>\n",
              "      <td>49.62</td>\n",
              "      <td>-0.32</td>\n",
              "      <td>-1</td>\n",
              "      <td>0.0</td>\n",
              "    </tr>\n",
              "    <tr>\n",
              "      <th>2018-08-09</th>\n",
              "      <td>50.21</td>\n",
              "      <td>50.35</td>\n",
              "      <td>49.66</td>\n",
              "      <td>50.16</td>\n",
              "      <td>1731083</td>\n",
              "      <td>1</td>\n",
              "      <td>50.03</td>\n",
              "      <td>49.65</td>\n",
              "      <td>-0.38</td>\n",
              "      <td>-1</td>\n",
              "      <td>0.0</td>\n",
              "    </tr>\n",
              "    <tr>\n",
              "      <th>2018-08-10</th>\n",
              "      <td>50.20</td>\n",
              "      <td>50.50</td>\n",
              "      <td>49.94</td>\n",
              "      <td>50.39</td>\n",
              "      <td>593825</td>\n",
              "      <td>1</td>\n",
              "      <td>50.14</td>\n",
              "      <td>49.71</td>\n",
              "      <td>-0.43</td>\n",
              "      <td>-1</td>\n",
              "      <td>1.0</td>\n",
              "    </tr>\n",
              "  </tbody>\n",
              "</table>\n",
              "</div>"
            ],
            "text/plain": [
              "             Open   High    Low  Close  ...    20d  20d-5d  Regime  Signal\n",
              "Date                                    ...                               \n",
              "2018-08-06  49.90  50.05  49.76  49.94  ...  49.52   -0.20      -1     0.0\n",
              "2018-08-07  50.00  51.04  49.93  50.00  ...  49.55   -0.28      -1     0.0\n",
              "2018-08-08  50.00  50.57  49.98  50.21  ...  49.62   -0.32      -1     0.0\n",
              "2018-08-09  50.21  50.35  49.66  50.16  ...  49.65   -0.38      -1     0.0\n",
              "2018-08-10  50.20  50.50  49.94  50.39  ...  49.71   -0.43      -1     1.0\n",
              "\n",
              "[5 rows x 11 columns]"
            ]
          },
          "metadata": {
            "tags": []
          },
          "execution_count": 48
        }
      ]
    },
    {
      "cell_type": "code",
      "metadata": {
        "id": "YqIm8Jo-ON58",
        "colab_type": "code",
        "colab": {}
      },
      "source": [
        "wes_signals = pd.concat([\n",
        "        pd.DataFrame({\"Price\": df.loc[df[\"Signal\"] == 1, \"Close\"],\n",
        "                     \"Regime\": df.loc[df[\"Signal\"] == 1, \"Regime\"],\n",
        "                     \"Signal\": \"Buy\"}),\n",
        "        pd.DataFrame({\"Price\": df.loc[df[\"Signal\"] == -1, \"Close\"],\n",
        "                     \"Regime\": df.loc[df[\"Signal\"] == -1, \"Regime\"],\n",
        "                     \"Signal\": \"Sell\"}),\n",
        "    ])\n",
        "wes_signals.sort_index(inplace = True)\n"
      ],
      "execution_count": 0,
      "outputs": []
    },
    {
      "cell_type": "code",
      "metadata": {
        "id": "tz5RiaCaTQg6",
        "colab_type": "code",
        "outputId": "c9a8b7e2-bea5-4d7b-99a9-740c20efbd82",
        "colab": {
          "base_uri": "https://localhost:8080/",
          "height": 373
        }
      },
      "source": [
        "wes_signals.head(10)"
      ],
      "execution_count": 0,
      "outputs": [
        {
          "output_type": "execute_result",
          "data": {
            "text/html": [
              "<div>\n",
              "<style scoped>\n",
              "    .dataframe tbody tr th:only-of-type {\n",
              "        vertical-align: middle;\n",
              "    }\n",
              "\n",
              "    .dataframe tbody tr th {\n",
              "        vertical-align: top;\n",
              "    }\n",
              "\n",
              "    .dataframe thead th {\n",
              "        text-align: right;\n",
              "    }\n",
              "</style>\n",
              "<table border=\"1\" class=\"dataframe\">\n",
              "  <thead>\n",
              "    <tr style=\"text-align: right;\">\n",
              "      <th></th>\n",
              "      <th>Price</th>\n",
              "      <th>Regime</th>\n",
              "      <th>Signal</th>\n",
              "    </tr>\n",
              "    <tr>\n",
              "      <th>Date</th>\n",
              "      <th></th>\n",
              "      <th></th>\n",
              "      <th></th>\n",
              "    </tr>\n",
              "  </thead>\n",
              "  <tbody>\n",
              "    <tr>\n",
              "      <th>2002-02-27</th>\n",
              "      <td>11.4974</td>\n",
              "      <td>-1</td>\n",
              "      <td>Sell</td>\n",
              "    </tr>\n",
              "    <tr>\n",
              "      <th>2002-03-07</th>\n",
              "      <td>11.6754</td>\n",
              "      <td>1</td>\n",
              "      <td>Buy</td>\n",
              "    </tr>\n",
              "    <tr>\n",
              "      <th>2002-03-31</th>\n",
              "      <td>11.7306</td>\n",
              "      <td>-1</td>\n",
              "      <td>Sell</td>\n",
              "    </tr>\n",
              "    <tr>\n",
              "      <th>2002-04-03</th>\n",
              "      <td>11.0356</td>\n",
              "      <td>1</td>\n",
              "      <td>Buy</td>\n",
              "    </tr>\n",
              "    <tr>\n",
              "      <th>2002-05-07</th>\n",
              "      <td>10.8113</td>\n",
              "      <td>0</td>\n",
              "      <td>Sell</td>\n",
              "    </tr>\n",
              "    <tr>\n",
              "      <th>2002-05-08</th>\n",
              "      <td>10.8959</td>\n",
              "      <td>-1</td>\n",
              "      <td>Sell</td>\n",
              "    </tr>\n",
              "    <tr>\n",
              "      <th>2002-05-10</th>\n",
              "      <td>10.6458</td>\n",
              "      <td>1</td>\n",
              "      <td>Buy</td>\n",
              "    </tr>\n",
              "    <tr>\n",
              "      <th>2002-07-04</th>\n",
              "      <td>10.2965</td>\n",
              "      <td>-1</td>\n",
              "      <td>Sell</td>\n",
              "    </tr>\n",
              "    <tr>\n",
              "      <th>2002-07-12</th>\n",
              "      <td>9.8184</td>\n",
              "      <td>1</td>\n",
              "      <td>Buy</td>\n",
              "    </tr>\n",
              "    <tr>\n",
              "      <th>2002-07-31</th>\n",
              "      <td>10.3700</td>\n",
              "      <td>-1</td>\n",
              "      <td>Sell</td>\n",
              "    </tr>\n",
              "  </tbody>\n",
              "</table>\n",
              "</div>"
            ],
            "text/plain": [
              "              Price  Regime Signal\n",
              "Date                              \n",
              "2002-02-27  11.4974      -1   Sell\n",
              "2002-03-07  11.6754       1    Buy\n",
              "2002-03-31  11.7306      -1   Sell\n",
              "2002-04-03  11.0356       1    Buy\n",
              "2002-05-07  10.8113       0   Sell\n",
              "2002-05-08  10.8959      -1   Sell\n",
              "2002-05-10  10.6458       1    Buy\n",
              "2002-07-04  10.2965      -1   Sell\n",
              "2002-07-12   9.8184       1    Buy\n",
              "2002-07-31  10.3700      -1   Sell"
            ]
          },
          "metadata": {
            "tags": []
          },
          "execution_count": 53
        }
      ]
    },
    {
      "cell_type": "code",
      "metadata": {
        "id": "rStpMCeaXGIw",
        "colab_type": "code",
        "colab": {}
      },
      "source": [
        "df_1[\"5d\"] = np.round(df_1[\"Close\"].rolling(window = 5, center = False).mean(), 2)\n",
        "df_1[\"20d\"] = np.round(df_1[\"Close\"].rolling(window = 20, center = False).mean(), 2)"
      ],
      "execution_count": 0,
      "outputs": []
    },
    {
      "cell_type": "code",
      "metadata": {
        "id": "T9lWOIu6XGO3",
        "colab_type": "code",
        "outputId": "e6d190dd-fe83-48a6-c6e7-9203c207af5b",
        "colab": {
          "base_uri": "https://localhost:8080/",
          "height": 286
        }
      },
      "source": [
        "df_1.Open.plot(label='wes')\n",
        "df_1['5d'].plot(label='wes_5')\n",
        "df_1['20d'].plot(label='wes_20')\n",
        "plt.legend()"
      ],
      "execution_count": 0,
      "outputs": [
        {
          "output_type": "execute_result",
          "data": {
            "text/plain": [
              "<matplotlib.legend.Legend at 0x7f8dc9304ef0>"
            ]
          },
          "metadata": {
            "tags": []
          },
          "execution_count": 59
        },
        {
          "output_type": "display_data",
          "data": {
            "image/png": "[encoded data removed]",
            "text/plain": [
              "<Figure size 432x288 with 1 Axes>"
            ]
          },
          "metadata": {
            "tags": []
          }
        }
      ]
    },
    {
      "cell_type": "code",
      "metadata": {
        "id": "R54B3fcHYL2F",
        "colab_type": "code",
        "outputId": "60da10ce-cee2-47a3-aecb-758b38ba3acd",
        "colab": {
          "base_uri": "https://localhost:8080/",
          "height": 225
        }
      },
      "source": [
        "df_1['20d-5d'] = df_1['20d'] - df_1['5d']\n",
        "df_1.tail()"
      ],
      "execution_count": 0,
      "outputs": [
        {
          "output_type": "execute_result",
          "data": {
            "text/html": [
              "<div>\n",
              "<style scoped>\n",
              "    .dataframe tbody tr th:only-of-type {\n",
              "        vertical-align: middle;\n",
              "    }\n",
              "\n",
              "    .dataframe tbody tr th {\n",
              "        vertical-align: top;\n",
              "    }\n",
              "\n",
              "    .dataframe thead th {\n",
              "        text-align: right;\n",
              "    }\n",
              "</style>\n",
              "<table border=\"1\" class=\"dataframe\">\n",
              "  <thead>\n",
              "    <tr style=\"text-align: right;\">\n",
              "      <th></th>\n",
              "      <th>Open</th>\n",
              "      <th>High</th>\n",
              "      <th>Low</th>\n",
              "      <th>Close</th>\n",
              "      <th>Volume</th>\n",
              "      <th>Member</th>\n",
              "      <th>5d</th>\n",
              "      <th>20d</th>\n",
              "      <th>20d-5d</th>\n",
              "    </tr>\n",
              "    <tr>\n",
              "      <th>Date</th>\n",
              "      <th></th>\n",
              "      <th></th>\n",
              "      <th></th>\n",
              "      <th></th>\n",
              "      <th></th>\n",
              "      <th></th>\n",
              "      <th></th>\n",
              "      <th></th>\n",
              "      <th></th>\n",
              "    </tr>\n",
              "  </thead>\n",
              "  <tbody>\n",
              "    <tr>\n",
              "      <th>2018-08-06</th>\n",
              "      <td>75.1465</td>\n",
              "      <td>75.2530</td>\n",
              "      <td>74.3233</td>\n",
              "      <td>74.5848</td>\n",
              "      <td>1392576</td>\n",
              "      <td>1</td>\n",
              "      <td>76.32</td>\n",
              "      <td>77.48</td>\n",
              "      <td>1.16</td>\n",
              "    </tr>\n",
              "    <tr>\n",
              "      <th>2018-08-07</th>\n",
              "      <td>74.2556</td>\n",
              "      <td>74.2556</td>\n",
              "      <td>73.6067</td>\n",
              "      <td>73.9844</td>\n",
              "      <td>2518736</td>\n",
              "      <td>1</td>\n",
              "      <td>75.39</td>\n",
              "      <td>77.22</td>\n",
              "      <td>1.83</td>\n",
              "    </tr>\n",
              "    <tr>\n",
              "      <th>2018-08-08</th>\n",
              "      <td>74.6623</td>\n",
              "      <td>74.7978</td>\n",
              "      <td>73.9941</td>\n",
              "      <td>74.7494</td>\n",
              "      <td>3126775</td>\n",
              "      <td>1</td>\n",
              "      <td>74.53</td>\n",
              "      <td>77.08</td>\n",
              "      <td>2.55</td>\n",
              "    </tr>\n",
              "    <tr>\n",
              "      <th>2018-08-09</th>\n",
              "      <td>75.1800</td>\n",
              "      <td>76.4700</td>\n",
              "      <td>74.9000</td>\n",
              "      <td>75.9400</td>\n",
              "      <td>2393455</td>\n",
              "      <td>1</td>\n",
              "      <td>74.68</td>\n",
              "      <td>77.01</td>\n",
              "      <td>2.33</td>\n",
              "    </tr>\n",
              "    <tr>\n",
              "      <th>2018-08-10</th>\n",
              "      <td>75.9000</td>\n",
              "      <td>76.0400</td>\n",
              "      <td>75.3900</td>\n",
              "      <td>75.6600</td>\n",
              "      <td>725714</td>\n",
              "      <td>1</td>\n",
              "      <td>74.98</td>\n",
              "      <td>76.92</td>\n",
              "      <td>1.94</td>\n",
              "    </tr>\n",
              "  </tbody>\n",
              "</table>\n",
              "</div>"
            ],
            "text/plain": [
              "               Open     High      Low    Close  ...  Member     5d    20d  20d-5d\n",
              "Date                                            ...                              \n",
              "2018-08-06  75.1465  75.2530  74.3233  74.5848  ...       1  76.32  77.48    1.16\n",
              "2018-08-07  74.2556  74.2556  73.6067  73.9844  ...       1  75.39  77.22    1.83\n",
              "2018-08-08  74.6623  74.7978  73.9941  74.7494  ...       1  74.53  77.08    2.55\n",
              "2018-08-09  75.1800  76.4700  74.9000  75.9400  ...       1  74.68  77.01    2.33\n",
              "2018-08-10  75.9000  76.0400  75.3900  75.6600  ...       1  74.98  76.92    1.94\n",
              "\n",
              "[5 rows x 9 columns]"
            ]
          },
          "metadata": {
            "tags": []
          },
          "execution_count": 60
        }
      ]
    },
    {
      "cell_type": "code",
      "metadata": {
        "id": "wbKRLCsjYrWV",
        "colab_type": "code",
        "outputId": "ee2b999d-3c33-4f13-8e75-71187356ebd0",
        "colab": {
          "base_uri": "https://localhost:8080/",
          "height": 298
        }
      },
      "source": [
        "df_1[\"Regime\"] = np.where(df_1['20d-5d'] > 0, 1, 0)\n",
        "df_1[\"Regime\"] = np.where(df_1['20d-5d'] < 0, -1, df_1[\"Regime\"])\n",
        "df_1.loc[\"02-01-2008\":\"31-12-2010\",\"Regime\"].plot(ylim = (-2,2)).axhline(y = 0, color = \"black\", lw = 2)"
      ],
      "execution_count": 0,
      "outputs": [
        {
          "output_type": "execute_result",
          "data": {
            "text/plain": [
              "<matplotlib.lines.Line2D at 0x7f8dc8f5fb00>"
            ]
          },
          "metadata": {
            "tags": []
          },
          "execution_count": 61
        },
        {
          "output_type": "display_data",
          "data": {
            "image/png": "[encoded data removed]",
            "text/plain": [
              "<Figure size 432x288 with 1 Axes>"
            ]
          },
          "metadata": {
            "tags": []
          }
        }
      ]
    },
    {
      "cell_type": "code",
      "metadata": {
        "id": "sASZSjZpZIGn",
        "colab_type": "code",
        "outputId": "e6e12d69-80c1-46bf-ae39-d015668e67bc",
        "colab": {
          "base_uri": "https://localhost:8080/",
          "height": 329
        }
      },
      "source": [
        "# To ensure that all trades close out, I temporarily change the regime of the last row to 0\n",
        "regime_orig = df_1.loc[:, \"Regime\"].iloc[-1]\n",
        "df_1.loc[:, \"Regime\"].iloc[-1] = 0\n",
        "df_1[\"Signal\"] = np.sign(df_1[\"Regime\"] - df_1[\"Regime\"].shift(1))\n",
        "# Restore original regime data\n",
        "df_1.loc[:, \"Regime\"].iloc[-1] = regime_orig\n",
        "df_1.tail()"
      ],
      "execution_count": 0,
      "outputs": [
        {
          "output_type": "stream",
          "text": [
            "/usr/local/lib/python3.6/dist-packages/pandas/core/indexing.py:205: SettingWithCopyWarning: \n",
            "A value is trying to be set on a copy of a slice from a DataFrame\n",
            "\n",
            "See the caveats in the documentation: http://pandas.pydata.org/pandas-docs/stable/user_guide/indexing.html#returning-a-view-versus-a-copy\n",
            "  self._setitem_with_indexer(indexer, value)\n"
          ],
          "name": "stderr"
        },
        {
          "output_type": "execute_result",
          "data": {
            "text/html": [
              "<div>\n",
              "<style scoped>\n",
              "    .dataframe tbody tr th:only-of-type {\n",
              "        vertical-align: middle;\n",
              "    }\n",
              "\n",
              "    .dataframe tbody tr th {\n",
              "        vertical-align: top;\n",
              "    }\n",
              "\n",
              "    .dataframe thead th {\n",
              "        text-align: right;\n",
              "    }\n",
              "</style>\n",
              "<table border=\"1\" class=\"dataframe\">\n",
              "  <thead>\n",
              "    <tr style=\"text-align: right;\">\n",
              "      <th></th>\n",
              "      <th>Open</th>\n",
              "      <th>High</th>\n",
              "      <th>Low</th>\n",
              "      <th>Close</th>\n",
              "      <th>Volume</th>\n",
              "      <th>Member</th>\n",
              "      <th>5d</th>\n",
              "      <th>20d</th>\n",
              "      <th>20d-5d</th>\n",
              "      <th>Regime</th>\n",
              "      <th>Signal</th>\n",
              "    </tr>\n",
              "    <tr>\n",
              "      <th>Date</th>\n",
              "      <th></th>\n",
              "      <th></th>\n",
              "      <th></th>\n",
              "      <th></th>\n",
              "      <th></th>\n",
              "      <th></th>\n",
              "      <th></th>\n",
              "      <th></th>\n",
              "      <th></th>\n",
              "      <th></th>\n",
              "      <th></th>\n",
              "    </tr>\n",
              "  </thead>\n",
              "  <tbody>\n",
              "    <tr>\n",
              "      <th>2018-08-06</th>\n",
              "      <td>75.1465</td>\n",
              "      <td>75.2530</td>\n",
              "      <td>74.3233</td>\n",
              "      <td>74.5848</td>\n",
              "      <td>1392576</td>\n",
              "      <td>1</td>\n",
              "      <td>76.32</td>\n",
              "      <td>77.48</td>\n",
              "      <td>1.16</td>\n",
              "      <td>1</td>\n",
              "      <td>0.0</td>\n",
              "    </tr>\n",
              "    <tr>\n",
              "      <th>2018-08-07</th>\n",
              "      <td>74.2556</td>\n",
              "      <td>74.2556</td>\n",
              "      <td>73.6067</td>\n",
              "      <td>73.9844</td>\n",
              "      <td>2518736</td>\n",
              "      <td>1</td>\n",
              "      <td>75.39</td>\n",
              "      <td>77.22</td>\n",
              "      <td>1.83</td>\n",
              "      <td>1</td>\n",
              "      <td>0.0</td>\n",
              "    </tr>\n",
              "    <tr>\n",
              "      <th>2018-08-08</th>\n",
              "      <td>74.6623</td>\n",
              "      <td>74.7978</td>\n",
              "      <td>73.9941</td>\n",
              "      <td>74.7494</td>\n",
              "      <td>3126775</td>\n",
              "      <td>1</td>\n",
              "      <td>74.53</td>\n",
              "      <td>77.08</td>\n",
              "      <td>2.55</td>\n",
              "      <td>1</td>\n",
              "      <td>0.0</td>\n",
              "    </tr>\n",
              "    <tr>\n",
              "      <th>2018-08-09</th>\n",
              "      <td>75.1800</td>\n",
              "      <td>76.4700</td>\n",
              "      <td>74.9000</td>\n",
              "      <td>75.9400</td>\n",
              "      <td>2393455</td>\n",
              "      <td>1</td>\n",
              "      <td>74.68</td>\n",
              "      <td>77.01</td>\n",
              "      <td>2.33</td>\n",
              "      <td>1</td>\n",
              "      <td>0.0</td>\n",
              "    </tr>\n",
              "    <tr>\n",
              "      <th>2018-08-10</th>\n",
              "      <td>75.9000</td>\n",
              "      <td>76.0400</td>\n",
              "      <td>75.3900</td>\n",
              "      <td>75.6600</td>\n",
              "      <td>725714</td>\n",
              "      <td>1</td>\n",
              "      <td>74.98</td>\n",
              "      <td>76.92</td>\n",
              "      <td>1.94</td>\n",
              "      <td>1</td>\n",
              "      <td>-1.0</td>\n",
              "    </tr>\n",
              "  </tbody>\n",
              "</table>\n",
              "</div>"
            ],
            "text/plain": [
              "               Open     High      Low    Close  ...    20d  20d-5d  Regime  Signal\n",
              "Date                                            ...                               \n",
              "2018-08-06  75.1465  75.2530  74.3233  74.5848  ...  77.48    1.16       1     0.0\n",
              "2018-08-07  74.2556  74.2556  73.6067  73.9844  ...  77.22    1.83       1     0.0\n",
              "2018-08-08  74.6623  74.7978  73.9941  74.7494  ...  77.08    2.55       1     0.0\n",
              "2018-08-09  75.1800  76.4700  74.9000  75.9400  ...  77.01    2.33       1     0.0\n",
              "2018-08-10  75.9000  76.0400  75.3900  75.6600  ...  76.92    1.94       1    -1.0\n",
              "\n",
              "[5 rows x 11 columns]"
            ]
          },
          "metadata": {
            "tags": []
          },
          "execution_count": 62
        }
      ]
    },
    {
      "cell_type": "code",
      "metadata": {
        "id": "33T5tX_pZY2K",
        "colab_type": "code",
        "colab": {}
      },
      "source": [
        "rio_signals = pd.concat([\n",
        "        pd.DataFrame({\"Price\": df_1.loc[df_1[\"Signal\"] == 1, \"Close\"],\n",
        "                     \"Regime\": df_1.loc[df_1[\"Signal\"] == 1, \"Regime\"],\n",
        "                     \"Signal\": \"Buy\"}),\n",
        "        pd.DataFrame({\"Price\": df_1.loc[df_1[\"Signal\"] == -1, \"Close\"],\n",
        "                     \"Regime\": df_1.loc[df_1[\"Signal\"] == -1, \"Regime\"],\n",
        "                     \"Signal\": \"Sell\"}),\n",
        "    ])\n",
        "rio_signals.sort_index(inplace = True)"
      ],
      "execution_count": 0,
      "outputs": []
    },
    {
      "cell_type": "code",
      "metadata": {
        "id": "lEPxXzCFZjGr",
        "colab_type": "code",
        "outputId": "2a41cb7a-aef0-4969-91f3-faf77c011742",
        "colab": {
          "base_uri": "https://localhost:8080/",
          "height": 373
        }
      },
      "source": [
        "rio_signals.head(10)"
      ],
      "execution_count": 0,
      "outputs": [
        {
          "output_type": "execute_result",
          "data": {
            "text/html": [
              "<div>\n",
              "<style scoped>\n",
              "    .dataframe tbody tr th:only-of-type {\n",
              "        vertical-align: middle;\n",
              "    }\n",
              "\n",
              "    .dataframe tbody tr th {\n",
              "        vertical-align: top;\n",
              "    }\n",
              "\n",
              "    .dataframe thead th {\n",
              "        text-align: right;\n",
              "    }\n",
              "</style>\n",
              "<table border=\"1\" class=\"dataframe\">\n",
              "  <thead>\n",
              "    <tr style=\"text-align: right;\">\n",
              "      <th></th>\n",
              "      <th>Price</th>\n",
              "      <th>Regime</th>\n",
              "      <th>Signal</th>\n",
              "    </tr>\n",
              "    <tr>\n",
              "      <th>Date</th>\n",
              "      <th></th>\n",
              "      <th></th>\n",
              "      <th></th>\n",
              "    </tr>\n",
              "  </thead>\n",
              "  <tbody>\n",
              "    <tr>\n",
              "      <th>2002-02-27</th>\n",
              "      <td>15.3386</td>\n",
              "      <td>1</td>\n",
              "      <td>Buy</td>\n",
              "    </tr>\n",
              "    <tr>\n",
              "      <th>2002-03-05</th>\n",
              "      <td>15.6457</td>\n",
              "      <td>0</td>\n",
              "      <td>Sell</td>\n",
              "    </tr>\n",
              "    <tr>\n",
              "      <th>2002-03-06</th>\n",
              "      <td>15.6944</td>\n",
              "      <td>-1</td>\n",
              "      <td>Sell</td>\n",
              "    </tr>\n",
              "    <tr>\n",
              "      <th>2002-03-18</th>\n",
              "      <td>15.1936</td>\n",
              "      <td>1</td>\n",
              "      <td>Buy</td>\n",
              "    </tr>\n",
              "    <tr>\n",
              "      <th>2002-05-15</th>\n",
              "      <td>14.4720</td>\n",
              "      <td>-1</td>\n",
              "      <td>Sell</td>\n",
              "    </tr>\n",
              "    <tr>\n",
              "      <th>2002-05-28</th>\n",
              "      <td>14.1171</td>\n",
              "      <td>1</td>\n",
              "      <td>Buy</td>\n",
              "    </tr>\n",
              "    <tr>\n",
              "      <th>2002-07-08</th>\n",
              "      <td>14.0895</td>\n",
              "      <td>-1</td>\n",
              "      <td>Sell</td>\n",
              "    </tr>\n",
              "    <tr>\n",
              "      <th>2002-07-17</th>\n",
              "      <td>12.7369</td>\n",
              "      <td>1</td>\n",
              "      <td>Buy</td>\n",
              "    </tr>\n",
              "    <tr>\n",
              "      <th>2002-08-15</th>\n",
              "      <td>12.9167</td>\n",
              "      <td>-1</td>\n",
              "      <td>Sell</td>\n",
              "    </tr>\n",
              "    <tr>\n",
              "      <th>2002-09-04</th>\n",
              "      <td>12.4401</td>\n",
              "      <td>1</td>\n",
              "      <td>Buy</td>\n",
              "    </tr>\n",
              "  </tbody>\n",
              "</table>\n",
              "</div>"
            ],
            "text/plain": [
              "              Price  Regime Signal\n",
              "Date                              \n",
              "2002-02-27  15.3386       1    Buy\n",
              "2002-03-05  15.6457       0   Sell\n",
              "2002-03-06  15.6944      -1   Sell\n",
              "2002-03-18  15.1936       1    Buy\n",
              "2002-05-15  14.4720      -1   Sell\n",
              "2002-05-28  14.1171       1    Buy\n",
              "2002-07-08  14.0895      -1   Sell\n",
              "2002-07-17  12.7369       1    Buy\n",
              "2002-08-15  12.9167      -1   Sell\n",
              "2002-09-04  12.4401       1    Buy"
            ]
          },
          "metadata": {
            "tags": []
          },
          "execution_count": 64
        }
      ]
    },
    {
      "cell_type": "code",
      "metadata": {
        "id": "vmok-kq2XgJp",
        "colab_type": "code",
        "colab": {}
      },
      "source": [
        "df_2[\"5d\"] = np.round(df_2[\"Close\"].rolling(window = 5, center = False).mean(), 2)\n",
        "df_2[\"20d\"] = np.round(df_2[\"Close\"].rolling(window = 20, center = False).mean(), 2)"
      ],
      "execution_count": 0,
      "outputs": []
    },
    {
      "cell_type": "code",
      "metadata": {
        "id": "3Yo0lJvqXGVn",
        "colab_type": "code",
        "outputId": "1407ed87-1a5c-42f7-93fe-da09adf1fb42",
        "colab": {
          "base_uri": "https://localhost:8080/",
          "height": 286
        }
      },
      "source": [
        "df_2.Open.plot(label='wes')\n",
        "df_2['5d'].plot(label='wes_5')\n",
        "df_2['20d'].plot(label='wes_20')\n",
        "plt.legend()"
      ],
      "execution_count": 0,
      "outputs": [
        {
          "output_type": "execute_result",
          "data": {
            "text/plain": [
              "<matplotlib.legend.Legend at 0x7f8dc8f36860>"
            ]
          },
          "metadata": {
            "tags": []
          },
          "execution_count": 66
        },
        {
          "output_type": "display_data",
          "data": {
            "image/png": "[encoded data removed]",
            "text/plain": [
              "<Figure size 432x288 with 1 Axes>"
            ]
          },
          "metadata": {
            "tags": []
          }
        }
      ]
    },
    {
      "cell_type": "code",
      "metadata": {
        "id": "ei7bNzH0YQxc",
        "colab_type": "code",
        "outputId": "7b460b62-a373-4738-e032-1b4b7f75a1d7",
        "colab": {
          "base_uri": "https://localhost:8080/",
          "height": 225
        }
      },
      "source": [
        "df_2['20d-5d'] = df_2['20d'] - df_2['5d']\n",
        "df_2.tail()"
      ],
      "execution_count": 0,
      "outputs": [
        {
          "output_type": "execute_result",
          "data": {
            "text/html": [
              "<div>\n",
              "<style scoped>\n",
              "    .dataframe tbody tr th:only-of-type {\n",
              "        vertical-align: middle;\n",
              "    }\n",
              "\n",
              "    .dataframe tbody tr th {\n",
              "        vertical-align: top;\n",
              "    }\n",
              "\n",
              "    .dataframe thead th {\n",
              "        text-align: right;\n",
              "    }\n",
              "</style>\n",
              "<table border=\"1\" class=\"dataframe\">\n",
              "  <thead>\n",
              "    <tr style=\"text-align: right;\">\n",
              "      <th></th>\n",
              "      <th>Open</th>\n",
              "      <th>High</th>\n",
              "      <th>Low</th>\n",
              "      <th>Close</th>\n",
              "      <th>Volume</th>\n",
              "      <th>Member</th>\n",
              "      <th>5d</th>\n",
              "      <th>20d</th>\n",
              "      <th>20d-5d</th>\n",
              "    </tr>\n",
              "    <tr>\n",
              "      <th>Date</th>\n",
              "      <th></th>\n",
              "      <th></th>\n",
              "      <th></th>\n",
              "      <th></th>\n",
              "      <th></th>\n",
              "      <th></th>\n",
              "      <th></th>\n",
              "      <th></th>\n",
              "      <th></th>\n",
              "    </tr>\n",
              "  </thead>\n",
              "  <tbody>\n",
              "    <tr>\n",
              "      <th>2018-08-06</th>\n",
              "      <td>28.84</td>\n",
              "      <td>29.00</td>\n",
              "      <td>28.72</td>\n",
              "      <td>28.92</td>\n",
              "      <td>3746162</td>\n",
              "      <td>1</td>\n",
              "      <td>28.97</td>\n",
              "      <td>29.06</td>\n",
              "      <td>0.09</td>\n",
              "    </tr>\n",
              "    <tr>\n",
              "      <th>2018-08-07</th>\n",
              "      <td>28.99</td>\n",
              "      <td>29.09</td>\n",
              "      <td>28.94</td>\n",
              "      <td>29.09</td>\n",
              "      <td>6366645</td>\n",
              "      <td>1</td>\n",
              "      <td>28.93</td>\n",
              "      <td>29.07</td>\n",
              "      <td>0.14</td>\n",
              "    </tr>\n",
              "    <tr>\n",
              "      <th>2018-08-08</th>\n",
              "      <td>29.20</td>\n",
              "      <td>29.30</td>\n",
              "      <td>28.76</td>\n",
              "      <td>28.82</td>\n",
              "      <td>7054296</td>\n",
              "      <td>1</td>\n",
              "      <td>28.88</td>\n",
              "      <td>29.08</td>\n",
              "      <td>0.20</td>\n",
              "    </tr>\n",
              "    <tr>\n",
              "      <th>2018-08-09</th>\n",
              "      <td>28.94</td>\n",
              "      <td>29.29</td>\n",
              "      <td>28.81</td>\n",
              "      <td>29.17</td>\n",
              "      <td>5426382</td>\n",
              "      <td>1</td>\n",
              "      <td>28.93</td>\n",
              "      <td>29.08</td>\n",
              "      <td>0.15</td>\n",
              "    </tr>\n",
              "    <tr>\n",
              "      <th>2018-08-10</th>\n",
              "      <td>29.28</td>\n",
              "      <td>29.40</td>\n",
              "      <td>29.12</td>\n",
              "      <td>29.36</td>\n",
              "      <td>1951328</td>\n",
              "      <td>1</td>\n",
              "      <td>29.07</td>\n",
              "      <td>29.10</td>\n",
              "      <td>0.03</td>\n",
              "    </tr>\n",
              "  </tbody>\n",
              "</table>\n",
              "</div>"
            ],
            "text/plain": [
              "             Open   High    Low  Close   Volume  Member     5d    20d  20d-5d\n",
              "Date                                                                         \n",
              "2018-08-06  28.84  29.00  28.72  28.92  3746162       1  28.97  29.06    0.09\n",
              "2018-08-07  28.99  29.09  28.94  29.09  6366645       1  28.93  29.07    0.14\n",
              "2018-08-08  29.20  29.30  28.76  28.82  7054296       1  28.88  29.08    0.20\n",
              "2018-08-09  28.94  29.29  28.81  29.17  5426382       1  28.93  29.08    0.15\n",
              "2018-08-10  29.28  29.40  29.12  29.36  1951328       1  29.07  29.10    0.03"
            ]
          },
          "metadata": {
            "tags": []
          },
          "execution_count": 67
        }
      ]
    },
    {
      "cell_type": "code",
      "metadata": {
        "id": "azilXr6aYtET",
        "colab_type": "code",
        "outputId": "76ecbb11-5ee0-43f0-eb52-0b0c7f05c89b",
        "colab": {
          "base_uri": "https://localhost:8080/",
          "height": 298
        }
      },
      "source": [
        "df_2[\"Regime\"] = np.where(df_2['20d-5d'] > 0, 1, 0)\n",
        "df_2[\"Regime\"] = np.where(df_2['20d-5d'] < 0, -1, df_2[\"Regime\"])\n",
        "df_2.loc[\"02-01-2008\":\"31-12-2010\",\"Regime\"].plot(ylim = (-2,2)).axhline(y = 0, color = \"black\", lw = 2)"
      ],
      "execution_count": 0,
      "outputs": [
        {
          "output_type": "execute_result",
          "data": {
            "text/plain": [
              "<matplotlib.lines.Line2D at 0x7f8dced36ba8>"
            ]
          },
          "metadata": {
            "tags": []
          },
          "execution_count": 68
        },
        {
          "output_type": "display_data",
          "data": {
            "image/png": "[encoded data removed]",
            "text/plain": [
              "<Figure size 432x288 with 1 Axes>"
            ]
          },
          "metadata": {
            "tags": []
          }
        }
      ]
    },
    {
      "cell_type": "code",
      "metadata": {
        "id": "oIOdKo_rZJ0C",
        "colab_type": "code",
        "outputId": "c755e0c7-c53a-47f4-d418-7bb3c017d23c",
        "colab": {
          "base_uri": "https://localhost:8080/",
          "height": 329
        }
      },
      "source": [
        "# To ensure that all trades close out, I temporarily change the regime of the last row to 0\n",
        "regime_orig = df_2.loc[:, \"Regime\"].iloc[-1]\n",
        "df_2.loc[:, \"Regime\"].iloc[-1] = 0\n",
        "df_2[\"Signal\"] = np.sign(df_2[\"Regime\"] - df_2[\"Regime\"].shift(1))\n",
        "# Restore original regime data\n",
        "df_2.loc[:, \"Regime\"].iloc[-1] = regime_orig\n",
        "df_2.tail()"
      ],
      "execution_count": 0,
      "outputs": [
        {
          "output_type": "stream",
          "text": [
            "/usr/local/lib/python3.6/dist-packages/pandas/core/indexing.py:205: SettingWithCopyWarning: \n",
            "A value is trying to be set on a copy of a slice from a DataFrame\n",
            "\n",
            "See the caveats in the documentation: http://pandas.pydata.org/pandas-docs/stable/user_guide/indexing.html#returning-a-view-versus-a-copy\n",
            "  self._setitem_with_indexer(indexer, value)\n"
          ],
          "name": "stderr"
        },
        {
          "output_type": "execute_result",
          "data": {
            "text/html": [
              "<div>\n",
              "<style scoped>\n",
              "    .dataframe tbody tr th:only-of-type {\n",
              "        vertical-align: middle;\n",
              "    }\n",
              "\n",
              "    .dataframe tbody tr th {\n",
              "        vertical-align: top;\n",
              "    }\n",
              "\n",
              "    .dataframe thead th {\n",
              "        text-align: right;\n",
              "    }\n",
              "</style>\n",
              "<table border=\"1\" class=\"dataframe\">\n",
              "  <thead>\n",
              "    <tr style=\"text-align: right;\">\n",
              "      <th></th>\n",
              "      <th>Open</th>\n",
              "      <th>High</th>\n",
              "      <th>Low</th>\n",
              "      <th>Close</th>\n",
              "      <th>Volume</th>\n",
              "      <th>Member</th>\n",
              "      <th>5d</th>\n",
              "      <th>20d</th>\n",
              "      <th>20d-5d</th>\n",
              "      <th>Regime</th>\n",
              "      <th>Signal</th>\n",
              "    </tr>\n",
              "    <tr>\n",
              "      <th>Date</th>\n",
              "      <th></th>\n",
              "      <th></th>\n",
              "      <th></th>\n",
              "      <th></th>\n",
              "      <th></th>\n",
              "      <th></th>\n",
              "      <th></th>\n",
              "      <th></th>\n",
              "      <th></th>\n",
              "      <th></th>\n",
              "      <th></th>\n",
              "    </tr>\n",
              "  </thead>\n",
              "  <tbody>\n",
              "    <tr>\n",
              "      <th>2018-08-06</th>\n",
              "      <td>28.84</td>\n",
              "      <td>29.00</td>\n",
              "      <td>28.72</td>\n",
              "      <td>28.92</td>\n",
              "      <td>3746162</td>\n",
              "      <td>1</td>\n",
              "      <td>28.97</td>\n",
              "      <td>29.06</td>\n",
              "      <td>0.09</td>\n",
              "      <td>1</td>\n",
              "      <td>0.0</td>\n",
              "    </tr>\n",
              "    <tr>\n",
              "      <th>2018-08-07</th>\n",
              "      <td>28.99</td>\n",
              "      <td>29.09</td>\n",
              "      <td>28.94</td>\n",
              "      <td>29.09</td>\n",
              "      <td>6366645</td>\n",
              "      <td>1</td>\n",
              "      <td>28.93</td>\n",
              "      <td>29.07</td>\n",
              "      <td>0.14</td>\n",
              "      <td>1</td>\n",
              "      <td>0.0</td>\n",
              "    </tr>\n",
              "    <tr>\n",
              "      <th>2018-08-08</th>\n",
              "      <td>29.20</td>\n",
              "      <td>29.30</td>\n",
              "      <td>28.76</td>\n",
              "      <td>28.82</td>\n",
              "      <td>7054296</td>\n",
              "      <td>1</td>\n",
              "      <td>28.88</td>\n",
              "      <td>29.08</td>\n",
              "      <td>0.20</td>\n",
              "      <td>1</td>\n",
              "      <td>0.0</td>\n",
              "    </tr>\n",
              "    <tr>\n",
              "      <th>2018-08-09</th>\n",
              "      <td>28.94</td>\n",
              "      <td>29.29</td>\n",
              "      <td>28.81</td>\n",
              "      <td>29.17</td>\n",
              "      <td>5426382</td>\n",
              "      <td>1</td>\n",
              "      <td>28.93</td>\n",
              "      <td>29.08</td>\n",
              "      <td>0.15</td>\n",
              "      <td>1</td>\n",
              "      <td>0.0</td>\n",
              "    </tr>\n",
              "    <tr>\n",
              "      <th>2018-08-10</th>\n",
              "      <td>29.28</td>\n",
              "      <td>29.40</td>\n",
              "      <td>29.12</td>\n",
              "      <td>29.36</td>\n",
              "      <td>1951328</td>\n",
              "      <td>1</td>\n",
              "      <td>29.07</td>\n",
              "      <td>29.10</td>\n",
              "      <td>0.03</td>\n",
              "      <td>1</td>\n",
              "      <td>-1.0</td>\n",
              "    </tr>\n",
              "  </tbody>\n",
              "</table>\n",
              "</div>"
            ],
            "text/plain": [
              "             Open   High    Low  Close  ...    20d  20d-5d  Regime  Signal\n",
              "Date                                    ...                               \n",
              "2018-08-06  28.84  29.00  28.72  28.92  ...  29.06    0.09       1     0.0\n",
              "2018-08-07  28.99  29.09  28.94  29.09  ...  29.07    0.14       1     0.0\n",
              "2018-08-08  29.20  29.30  28.76  28.82  ...  29.08    0.20       1     0.0\n",
              "2018-08-09  28.94  29.29  28.81  29.17  ...  29.08    0.15       1     0.0\n",
              "2018-08-10  29.28  29.40  29.12  29.36  ...  29.10    0.03       1    -1.0\n",
              "\n",
              "[5 rows x 11 columns]"
            ]
          },
          "metadata": {
            "tags": []
          },
          "execution_count": 69
        }
      ]
    },
    {
      "cell_type": "code",
      "metadata": {
        "id": "ljzxbQ8wZapB",
        "colab_type": "code",
        "colab": {}
      },
      "source": [
        "anz_signals = pd.concat([\n",
        "        pd.DataFrame({\"Price\": df_2.loc[df_2[\"Signal\"] == 1, \"Close\"],\n",
        "                     \"Regime\": df_2.loc[df_2[\"Signal\"] == 1, \"Regime\"],\n",
        "                     \"Signal\": \"Buy\"}),\n",
        "        pd.DataFrame({\"Price\": df_2.loc[df_2[\"Signal\"] == -1, \"Close\"],\n",
        "                     \"Regime\": df_2.loc[df_2[\"Signal\"] == -1, \"Regime\"],\n",
        "                     \"Signal\": \"Sell\"}),\n",
        "    ])\n",
        "anz_signals.sort_index(inplace = True)"
      ],
      "execution_count": 0,
      "outputs": []
    },
    {
      "cell_type": "code",
      "metadata": {
        "id": "ikJy50i8Zk2Q",
        "colab_type": "code",
        "outputId": "b3dd82d1-ab91-4b67-bdf5-40125835a284",
        "colab": {
          "base_uri": "https://localhost:8080/",
          "height": 373
        }
      },
      "source": [
        "anz_signals.head(10)"
      ],
      "execution_count": 0,
      "outputs": [
        {
          "output_type": "execute_result",
          "data": {
            "text/html": [
              "<div>\n",
              "<style scoped>\n",
              "    .dataframe tbody tr th:only-of-type {\n",
              "        vertical-align: middle;\n",
              "    }\n",
              "\n",
              "    .dataframe tbody tr th {\n",
              "        vertical-align: top;\n",
              "    }\n",
              "\n",
              "    .dataframe thead th {\n",
              "        text-align: right;\n",
              "    }\n",
              "</style>\n",
              "<table border=\"1\" class=\"dataframe\">\n",
              "  <thead>\n",
              "    <tr style=\"text-align: right;\">\n",
              "      <th></th>\n",
              "      <th>Price</th>\n",
              "      <th>Regime</th>\n",
              "      <th>Signal</th>\n",
              "    </tr>\n",
              "    <tr>\n",
              "      <th>Date</th>\n",
              "      <th></th>\n",
              "      <th></th>\n",
              "      <th></th>\n",
              "    </tr>\n",
              "  </thead>\n",
              "  <tbody>\n",
              "    <tr>\n",
              "      <th>2002-02-27</th>\n",
              "      <td>7.1931</td>\n",
              "      <td>-1</td>\n",
              "      <td>Sell</td>\n",
              "    </tr>\n",
              "    <tr>\n",
              "      <th>2002-03-07</th>\n",
              "      <td>7.0565</td>\n",
              "      <td>1</td>\n",
              "      <td>Buy</td>\n",
              "    </tr>\n",
              "    <tr>\n",
              "      <th>2002-04-11</th>\n",
              "      <td>7.0096</td>\n",
              "      <td>-1</td>\n",
              "      <td>Sell</td>\n",
              "    </tr>\n",
              "    <tr>\n",
              "      <th>2002-06-24</th>\n",
              "      <td>7.6877</td>\n",
              "      <td>1</td>\n",
              "      <td>Buy</td>\n",
              "    </tr>\n",
              "    <tr>\n",
              "      <th>2002-07-15</th>\n",
              "      <td>7.6519</td>\n",
              "      <td>0</td>\n",
              "      <td>Sell</td>\n",
              "    </tr>\n",
              "    <tr>\n",
              "      <th>2002-07-16</th>\n",
              "      <td>7.5762</td>\n",
              "      <td>1</td>\n",
              "      <td>Buy</td>\n",
              "    </tr>\n",
              "    <tr>\n",
              "      <th>2002-08-12</th>\n",
              "      <td>7.3490</td>\n",
              "      <td>-1</td>\n",
              "      <td>Sell</td>\n",
              "    </tr>\n",
              "    <tr>\n",
              "      <th>2002-09-24</th>\n",
              "      <td>7.5044</td>\n",
              "      <td>1</td>\n",
              "      <td>Buy</td>\n",
              "    </tr>\n",
              "    <tr>\n",
              "      <th>2002-10-21</th>\n",
              "      <td>7.1139</td>\n",
              "      <td>-1</td>\n",
              "      <td>Sell</td>\n",
              "    </tr>\n",
              "    <tr>\n",
              "      <th>2002-11-15</th>\n",
              "      <td>7.4868</td>\n",
              "      <td>0</td>\n",
              "      <td>Buy</td>\n",
              "    </tr>\n",
              "  </tbody>\n",
              "</table>\n",
              "</div>"
            ],
            "text/plain": [
              "             Price  Regime Signal\n",
              "Date                             \n",
              "2002-02-27  7.1931      -1   Sell\n",
              "2002-03-07  7.0565       1    Buy\n",
              "2002-04-11  7.0096      -1   Sell\n",
              "2002-06-24  7.6877       1    Buy\n",
              "2002-07-15  7.6519       0   Sell\n",
              "2002-07-16  7.5762       1    Buy\n",
              "2002-08-12  7.3490      -1   Sell\n",
              "2002-09-24  7.5044       1    Buy\n",
              "2002-10-21  7.1139      -1   Sell\n",
              "2002-11-15  7.4868       0    Buy"
            ]
          },
          "metadata": {
            "tags": []
          },
          "execution_count": 71
        }
      ]
    },
    {
      "cell_type": "code",
      "metadata": {
        "id": "lcVnl1oDXiC9",
        "colab_type": "code",
        "colab": {}
      },
      "source": [
        "df_3[\"5d\"] = np.round(df_3[\"Close\"].rolling(window = 5, center = False).mean(), 2)\n",
        "df_3[\"20d\"] = np.round(df_3[\"Close\"].rolling(window = 20, center = False).mean(), 2)"
      ],
      "execution_count": 0,
      "outputs": []
    },
    {
      "cell_type": "code",
      "metadata": {
        "id": "iIvWXm1SXGhr",
        "colab_type": "code",
        "outputId": "8f46eb4e-c270-480b-d73c-10a7a73aa559",
        "colab": {
          "base_uri": "https://localhost:8080/",
          "height": 286
        }
      },
      "source": [
        "df_3.Open.plot(label='wes')\n",
        "df_3['5d'].plot(label='wes_5')\n",
        "df_3['20d'].plot(label='wes_20')\n",
        "plt.legend()"
      ],
      "execution_count": 0,
      "outputs": [
        {
          "output_type": "execute_result",
          "data": {
            "text/plain": [
              "<matplotlib.legend.Legend at 0x7f8dc8e9de80>"
            ]
          },
          "metadata": {
            "tags": []
          },
          "execution_count": 73
        },
        {
          "output_type": "display_data",
          "data": {
            "image/png": "[encoded data removed]",
            "text/plain": [
              "<Figure size 432x288 with 1 Axes>"
            ]
          },
          "metadata": {
            "tags": []
          }
        }
      ]
    },
    {
      "cell_type": "code",
      "metadata": {
        "id": "8R1dIQibYSHQ",
        "colab_type": "code",
        "outputId": "33585cef-5819-4253-963a-3c333eaff4dd",
        "colab": {
          "base_uri": "https://localhost:8080/",
          "height": 225
        }
      },
      "source": [
        "df_3['20d-5d'] = df_3['20d'] - df_3['5d']\n",
        "df_3.tail()"
      ],
      "execution_count": 0,
      "outputs": [
        {
          "output_type": "execute_result",
          "data": {
            "text/html": [
              "<div>\n",
              "<style scoped>\n",
              "    .dataframe tbody tr th:only-of-type {\n",
              "        vertical-align: middle;\n",
              "    }\n",
              "\n",
              "    .dataframe tbody tr th {\n",
              "        vertical-align: top;\n",
              "    }\n",
              "\n",
              "    .dataframe thead th {\n",
              "        text-align: right;\n",
              "    }\n",
              "</style>\n",
              "<table border=\"1\" class=\"dataframe\">\n",
              "  <thead>\n",
              "    <tr style=\"text-align: right;\">\n",
              "      <th></th>\n",
              "      <th>Open</th>\n",
              "      <th>High</th>\n",
              "      <th>Low</th>\n",
              "      <th>Close</th>\n",
              "      <th>Volume</th>\n",
              "      <th>Member</th>\n",
              "      <th>5d</th>\n",
              "      <th>20d</th>\n",
              "      <th>20d-5d</th>\n",
              "    </tr>\n",
              "    <tr>\n",
              "      <th>Date</th>\n",
              "      <th></th>\n",
              "      <th></th>\n",
              "      <th></th>\n",
              "      <th></th>\n",
              "      <th></th>\n",
              "      <th></th>\n",
              "      <th></th>\n",
              "      <th></th>\n",
              "      <th></th>\n",
              "    </tr>\n",
              "  </thead>\n",
              "  <tbody>\n",
              "    <tr>\n",
              "      <th>2018-08-06</th>\n",
              "      <td>34.06</td>\n",
              "      <td>34.17</td>\n",
              "      <td>33.975</td>\n",
              "      <td>34.10</td>\n",
              "      <td>4349136</td>\n",
              "      <td>1</td>\n",
              "      <td>34.27</td>\n",
              "      <td>33.67</td>\n",
              "      <td>-0.60</td>\n",
              "    </tr>\n",
              "    <tr>\n",
              "      <th>2018-08-07</th>\n",
              "      <td>33.67</td>\n",
              "      <td>33.79</td>\n",
              "      <td>33.530</td>\n",
              "      <td>33.62</td>\n",
              "      <td>6650053</td>\n",
              "      <td>1</td>\n",
              "      <td>34.02</td>\n",
              "      <td>33.64</td>\n",
              "      <td>-0.38</td>\n",
              "    </tr>\n",
              "    <tr>\n",
              "      <th>2018-08-08</th>\n",
              "      <td>34.25</td>\n",
              "      <td>34.30</td>\n",
              "      <td>33.820</td>\n",
              "      <td>33.94</td>\n",
              "      <td>6257443</td>\n",
              "      <td>1</td>\n",
              "      <td>33.79</td>\n",
              "      <td>33.65</td>\n",
              "      <td>-0.14</td>\n",
              "    </tr>\n",
              "    <tr>\n",
              "      <th>2018-08-09</th>\n",
              "      <td>33.99</td>\n",
              "      <td>34.24</td>\n",
              "      <td>33.680</td>\n",
              "      <td>33.96</td>\n",
              "      <td>6221368</td>\n",
              "      <td>1</td>\n",
              "      <td>33.80</td>\n",
              "      <td>33.66</td>\n",
              "      <td>-0.14</td>\n",
              "    </tr>\n",
              "    <tr>\n",
              "      <th>2018-08-10</th>\n",
              "      <td>33.99</td>\n",
              "      <td>34.05</td>\n",
              "      <td>33.810</td>\n",
              "      <td>33.99</td>\n",
              "      <td>1419106</td>\n",
              "      <td>1</td>\n",
              "      <td>33.92</td>\n",
              "      <td>33.70</td>\n",
              "      <td>-0.22</td>\n",
              "    </tr>\n",
              "  </tbody>\n",
              "</table>\n",
              "</div>"
            ],
            "text/plain": [
              "             Open   High     Low  Close   Volume  Member     5d    20d  20d-5d\n",
              "Date                                                                          \n",
              "2018-08-06  34.06  34.17  33.975  34.10  4349136       1  34.27  33.67   -0.60\n",
              "2018-08-07  33.67  33.79  33.530  33.62  6650053       1  34.02  33.64   -0.38\n",
              "2018-08-08  34.25  34.30  33.820  33.94  6257443       1  33.79  33.65   -0.14\n",
              "2018-08-09  33.99  34.24  33.680  33.96  6221368       1  33.80  33.66   -0.14\n",
              "2018-08-10  33.99  34.05  33.810  33.99  1419106       1  33.92  33.70   -0.22"
            ]
          },
          "metadata": {
            "tags": []
          },
          "execution_count": 74
        }
      ]
    },
    {
      "cell_type": "code",
      "metadata": {
        "id": "iXiwtl4LYuhR",
        "colab_type": "code",
        "outputId": "148033df-5239-4815-d17d-0d59ae83a44e",
        "colab": {
          "base_uri": "https://localhost:8080/",
          "height": 298
        }
      },
      "source": [
        "df_3[\"Regime\"] = np.where(df_3['20d-5d'] > 0, 1, 0)\n",
        "df_3[\"Regime\"] = np.where(df_3['20d-5d'] < 0, -1, df_3[\"Regime\"])\n",
        "df_3.loc[\"02-01-2008\":\"31-12-2010\",\"Regime\"].plot(ylim = (-2,2)).axhline(y = 0, color = \"black\", lw = 2)"
      ],
      "execution_count": 0,
      "outputs": [
        {
          "output_type": "execute_result",
          "data": {
            "text/plain": [
              "<matplotlib.lines.Line2D at 0x7f8dc8e87668>"
            ]
          },
          "metadata": {
            "tags": []
          },
          "execution_count": 75
        },
        {
          "output_type": "display_data",
          "data": {
            "image/png": "[encoded data removed]",
            "text/plain": [
              "<Figure size 432x288 with 1 Axes>"
            ]
          },
          "metadata": {
            "tags": []
          }
        }
      ]
    },
    {
      "cell_type": "code",
      "metadata": {
        "id": "98X5zwf4ZLZz",
        "colab_type": "code",
        "outputId": "3f17c476-c4c4-438d-aa5e-073e9cec1d85",
        "colab": {
          "base_uri": "https://localhost:8080/",
          "height": 329
        }
      },
      "source": [
        "# To ensure that all trades close out, I temporarily change the regime of the last row to 0\n",
        "regime_orig = df_3.loc[:, \"Regime\"].iloc[-1]\n",
        "df_3.loc[:, \"Regime\"].iloc[-1] = 0\n",
        "df_3[\"Signal\"] = np.sign(df_3[\"Regime\"] - df_3[\"Regime\"].shift(1))\n",
        "# Restore original regime data\n",
        "df_3.loc[:, \"Regime\"].iloc[-1] = regime_orig\n",
        "df_3.tail()"
      ],
      "execution_count": 0,
      "outputs": [
        {
          "output_type": "stream",
          "text": [
            "/usr/local/lib/python3.6/dist-packages/pandas/core/indexing.py:205: SettingWithCopyWarning: \n",
            "A value is trying to be set on a copy of a slice from a DataFrame\n",
            "\n",
            "See the caveats in the documentation: http://pandas.pydata.org/pandas-docs/stable/user_guide/indexing.html#returning-a-view-versus-a-copy\n",
            "  self._setitem_with_indexer(indexer, value)\n"
          ],
          "name": "stderr"
        },
        {
          "output_type": "execute_result",
          "data": {
            "text/html": [
              "<div>\n",
              "<style scoped>\n",
              "    .dataframe tbody tr th:only-of-type {\n",
              "        vertical-align: middle;\n",
              "    }\n",
              "\n",
              "    .dataframe tbody tr th {\n",
              "        vertical-align: top;\n",
              "    }\n",
              "\n",
              "    .dataframe thead th {\n",
              "        text-align: right;\n",
              "    }\n",
              "</style>\n",
              "<table border=\"1\" class=\"dataframe\">\n",
              "  <thead>\n",
              "    <tr style=\"text-align: right;\">\n",
              "      <th></th>\n",
              "      <th>Open</th>\n",
              "      <th>High</th>\n",
              "      <th>Low</th>\n",
              "      <th>Close</th>\n",
              "      <th>Volume</th>\n",
              "      <th>Member</th>\n",
              "      <th>5d</th>\n",
              "      <th>20d</th>\n",
              "      <th>20d-5d</th>\n",
              "      <th>Regime</th>\n",
              "      <th>Signal</th>\n",
              "    </tr>\n",
              "    <tr>\n",
              "      <th>Date</th>\n",
              "      <th></th>\n",
              "      <th></th>\n",
              "      <th></th>\n",
              "      <th></th>\n",
              "      <th></th>\n",
              "      <th></th>\n",
              "      <th></th>\n",
              "      <th></th>\n",
              "      <th></th>\n",
              "      <th></th>\n",
              "      <th></th>\n",
              "    </tr>\n",
              "  </thead>\n",
              "  <tbody>\n",
              "    <tr>\n",
              "      <th>2018-08-06</th>\n",
              "      <td>34.06</td>\n",
              "      <td>34.17</td>\n",
              "      <td>33.975</td>\n",
              "      <td>34.10</td>\n",
              "      <td>4349136</td>\n",
              "      <td>1</td>\n",
              "      <td>34.27</td>\n",
              "      <td>33.67</td>\n",
              "      <td>-0.60</td>\n",
              "      <td>-1</td>\n",
              "      <td>0.0</td>\n",
              "    </tr>\n",
              "    <tr>\n",
              "      <th>2018-08-07</th>\n",
              "      <td>33.67</td>\n",
              "      <td>33.79</td>\n",
              "      <td>33.530</td>\n",
              "      <td>33.62</td>\n",
              "      <td>6650053</td>\n",
              "      <td>1</td>\n",
              "      <td>34.02</td>\n",
              "      <td>33.64</td>\n",
              "      <td>-0.38</td>\n",
              "      <td>-1</td>\n",
              "      <td>0.0</td>\n",
              "    </tr>\n",
              "    <tr>\n",
              "      <th>2018-08-08</th>\n",
              "      <td>34.25</td>\n",
              "      <td>34.30</td>\n",
              "      <td>33.820</td>\n",
              "      <td>33.94</td>\n",
              "      <td>6257443</td>\n",
              "      <td>1</td>\n",
              "      <td>33.79</td>\n",
              "      <td>33.65</td>\n",
              "      <td>-0.14</td>\n",
              "      <td>-1</td>\n",
              "      <td>0.0</td>\n",
              "    </tr>\n",
              "    <tr>\n",
              "      <th>2018-08-09</th>\n",
              "      <td>33.99</td>\n",
              "      <td>34.24</td>\n",
              "      <td>33.680</td>\n",
              "      <td>33.96</td>\n",
              "      <td>6221368</td>\n",
              "      <td>1</td>\n",
              "      <td>33.80</td>\n",
              "      <td>33.66</td>\n",
              "      <td>-0.14</td>\n",
              "      <td>-1</td>\n",
              "      <td>0.0</td>\n",
              "    </tr>\n",
              "    <tr>\n",
              "      <th>2018-08-10</th>\n",
              "      <td>33.99</td>\n",
              "      <td>34.05</td>\n",
              "      <td>33.810</td>\n",
              "      <td>33.99</td>\n",
              "      <td>1419106</td>\n",
              "      <td>1</td>\n",
              "      <td>33.92</td>\n",
              "      <td>33.70</td>\n",
              "      <td>-0.22</td>\n",
              "      <td>-1</td>\n",
              "      <td>1.0</td>\n",
              "    </tr>\n",
              "  </tbody>\n",
              "</table>\n",
              "</div>"
            ],
            "text/plain": [
              "             Open   High     Low  Close  ...    20d  20d-5d  Regime  Signal\n",
              "Date                                     ...                               \n",
              "2018-08-06  34.06  34.17  33.975  34.10  ...  33.67   -0.60      -1     0.0\n",
              "2018-08-07  33.67  33.79  33.530  33.62  ...  33.64   -0.38      -1     0.0\n",
              "2018-08-08  34.25  34.30  33.820  33.94  ...  33.65   -0.14      -1     0.0\n",
              "2018-08-09  33.99  34.24  33.680  33.96  ...  33.66   -0.14      -1     0.0\n",
              "2018-08-10  33.99  34.05  33.810  33.99  ...  33.70   -0.22      -1     1.0\n",
              "\n",
              "[5 rows x 11 columns]"
            ]
          },
          "metadata": {
            "tags": []
          },
          "execution_count": 76
        }
      ]
    },
    {
      "cell_type": "code",
      "metadata": {
        "id": "FDyiCa82ZcK3",
        "colab_type": "code",
        "colab": {}
      },
      "source": [
        "bhp_signals = pd.concat([\n",
        "        pd.DataFrame({\"Price\": df_3.loc[df_3[\"Signal\"] == 1, \"Close\"],\n",
        "                     \"Regime\": df_3.loc[df_3[\"Signal\"] == 1, \"Regime\"],\n",
        "                     \"Signal\": \"Buy\"}),\n",
        "        pd.DataFrame({\"Price\": df_3.loc[df_3[\"Signal\"] == -1, \"Close\"],\n",
        "                     \"Regime\": df_3.loc[df_3[\"Signal\"] == -1, \"Regime\"],\n",
        "                     \"Signal\": \"Sell\"}),\n",
        "    ])\n",
        "bhp_signals.sort_index(inplace = True)"
      ],
      "execution_count": 0,
      "outputs": []
    },
    {
      "cell_type": "code",
      "metadata": {
        "id": "ruoUGqY3ZnIb",
        "colab_type": "code",
        "outputId": "85ca5d6e-3a54-4d71-f68f-d26d02c90941",
        "colab": {
          "base_uri": "https://localhost:8080/",
          "height": 373
        }
      },
      "source": [
        "bhp_signals.head(10)"
      ],
      "execution_count": 0,
      "outputs": [
        {
          "output_type": "execute_result",
          "data": {
            "text/html": [
              "<div>\n",
              "<style scoped>\n",
              "    .dataframe tbody tr th:only-of-type {\n",
              "        vertical-align: middle;\n",
              "    }\n",
              "\n",
              "    .dataframe tbody tr th {\n",
              "        vertical-align: top;\n",
              "    }\n",
              "\n",
              "    .dataframe thead th {\n",
              "        text-align: right;\n",
              "    }\n",
              "</style>\n",
              "<table border=\"1\" class=\"dataframe\">\n",
              "  <thead>\n",
              "    <tr style=\"text-align: right;\">\n",
              "      <th></th>\n",
              "      <th>Price</th>\n",
              "      <th>Regime</th>\n",
              "      <th>Signal</th>\n",
              "    </tr>\n",
              "    <tr>\n",
              "      <th>Date</th>\n",
              "      <th></th>\n",
              "      <th></th>\n",
              "      <th></th>\n",
              "    </tr>\n",
              "  </thead>\n",
              "  <tbody>\n",
              "    <tr>\n",
              "      <th>2002-02-27</th>\n",
              "      <td>6.3992</td>\n",
              "      <td>1</td>\n",
              "      <td>Buy</td>\n",
              "    </tr>\n",
              "    <tr>\n",
              "      <th>2002-03-06</th>\n",
              "      <td>6.4975</td>\n",
              "      <td>-1</td>\n",
              "      <td>Sell</td>\n",
              "    </tr>\n",
              "    <tr>\n",
              "      <th>2002-03-15</th>\n",
              "      <td>6.1617</td>\n",
              "      <td>1</td>\n",
              "      <td>Buy</td>\n",
              "    </tr>\n",
              "    <tr>\n",
              "      <th>2002-04-05</th>\n",
              "      <td>6.3773</td>\n",
              "      <td>-1</td>\n",
              "      <td>Sell</td>\n",
              "    </tr>\n",
              "    <tr>\n",
              "      <th>2002-04-23</th>\n",
              "      <td>6.2135</td>\n",
              "      <td>1</td>\n",
              "      <td>Buy</td>\n",
              "    </tr>\n",
              "    <tr>\n",
              "      <th>2002-05-14</th>\n",
              "      <td>6.1043</td>\n",
              "      <td>-1</td>\n",
              "      <td>Sell</td>\n",
              "    </tr>\n",
              "    <tr>\n",
              "      <th>2002-05-27</th>\n",
              "      <td>6.0443</td>\n",
              "      <td>1</td>\n",
              "      <td>Buy</td>\n",
              "    </tr>\n",
              "    <tr>\n",
              "      <th>2002-07-02</th>\n",
              "      <td>5.9805</td>\n",
              "      <td>-1</td>\n",
              "      <td>Sell</td>\n",
              "    </tr>\n",
              "    <tr>\n",
              "      <th>2002-07-17</th>\n",
              "      <td>5.4905</td>\n",
              "      <td>1</td>\n",
              "      <td>Buy</td>\n",
              "    </tr>\n",
              "    <tr>\n",
              "      <th>2002-08-21</th>\n",
              "      <td>5.5082</td>\n",
              "      <td>-1</td>\n",
              "      <td>Sell</td>\n",
              "    </tr>\n",
              "  </tbody>\n",
              "</table>\n",
              "</div>"
            ],
            "text/plain": [
              "             Price  Regime Signal\n",
              "Date                             \n",
              "2002-02-27  6.3992       1    Buy\n",
              "2002-03-06  6.4975      -1   Sell\n",
              "2002-03-15  6.1617       1    Buy\n",
              "2002-04-05  6.3773      -1   Sell\n",
              "2002-04-23  6.2135       1    Buy\n",
              "2002-05-14  6.1043      -1   Sell\n",
              "2002-05-27  6.0443       1    Buy\n",
              "2002-07-02  5.9805      -1   Sell\n",
              "2002-07-17  5.4905       1    Buy\n",
              "2002-08-21  5.5082      -1   Sell"
            ]
          },
          "metadata": {
            "tags": []
          },
          "execution_count": 82
        }
      ]
    },
    {
      "cell_type": "code",
      "metadata": {
        "id": "LUWRa0GJXjYR",
        "colab_type": "code",
        "colab": {}
      },
      "source": [
        "df_4[\"5d\"] = np.round(df_4[\"Close\"].rolling(window = 5, center = False).mean(), 2)\n",
        "df_4[\"20d\"] = np.round(df_4[\"Close\"].rolling(window = 20, center = False).mean(), 2)"
      ],
      "execution_count": 0,
      "outputs": []
    },
    {
      "cell_type": "code",
      "metadata": {
        "id": "HquTje1jXGe0",
        "colab_type": "code",
        "outputId": "83bbbde6-6875-4715-c7d6-643302368853",
        "colab": {
          "base_uri": "https://localhost:8080/",
          "height": 286
        }
      },
      "source": [
        "df_4.Open.plot(label='wes')\n",
        "df_4['5d'].plot(label='wes_5')\n",
        "df_4['20d'].plot(label='wes_20')\n",
        "plt.legend()"
      ],
      "execution_count": 0,
      "outputs": [
        {
          "output_type": "execute_result",
          "data": {
            "text/plain": [
              "<matplotlib.legend.Legend at 0x7f8dc8c6fb38>"
            ]
          },
          "metadata": {
            "tags": []
          },
          "execution_count": 84
        },
        {
          "output_type": "display_data",
          "data": {
            "image/png": "[encoded data removed]",
            "text/plain": [
              "<Figure size 432x288 with 1 Axes>"
            ]
          },
          "metadata": {
            "tags": []
          }
        }
      ]
    },
    {
      "cell_type": "code",
      "metadata": {
        "id": "_VSmOk0kXGbj",
        "colab_type": "code",
        "outputId": "bc2ea1b1-280d-4013-d4d2-380945eece5a",
        "colab": {
          "base_uri": "https://localhost:8080/",
          "height": 225
        }
      },
      "source": [
        "df_4['20d-5d'] = df_4['20d'] - df_4['5d']\n",
        "df_4.tail()"
      ],
      "execution_count": 0,
      "outputs": [
        {
          "output_type": "execute_result",
          "data": {
            "text/html": [
              "<div>\n",
              "<style scoped>\n",
              "    .dataframe tbody tr th:only-of-type {\n",
              "        vertical-align: middle;\n",
              "    }\n",
              "\n",
              "    .dataframe tbody tr th {\n",
              "        vertical-align: top;\n",
              "    }\n",
              "\n",
              "    .dataframe thead th {\n",
              "        text-align: right;\n",
              "    }\n",
              "</style>\n",
              "<table border=\"1\" class=\"dataframe\">\n",
              "  <thead>\n",
              "    <tr style=\"text-align: right;\">\n",
              "      <th></th>\n",
              "      <th>Open</th>\n",
              "      <th>High</th>\n",
              "      <th>Low</th>\n",
              "      <th>Close</th>\n",
              "      <th>Volume</th>\n",
              "      <th>Member</th>\n",
              "      <th>5d</th>\n",
              "      <th>20d</th>\n",
              "      <th>20d-5d</th>\n",
              "    </tr>\n",
              "    <tr>\n",
              "      <th>Date</th>\n",
              "      <th></th>\n",
              "      <th></th>\n",
              "      <th></th>\n",
              "      <th></th>\n",
              "      <th></th>\n",
              "      <th></th>\n",
              "      <th></th>\n",
              "      <th></th>\n",
              "      <th></th>\n",
              "    </tr>\n",
              "  </thead>\n",
              "  <tbody>\n",
              "    <tr>\n",
              "      <th>2018-08-06</th>\n",
              "      <td>73.04</td>\n",
              "      <td>73.860</td>\n",
              "      <td>73.00</td>\n",
              "      <td>73.56</td>\n",
              "      <td>2333301</td>\n",
              "      <td>1</td>\n",
              "      <td>73.71</td>\n",
              "      <td>74.62</td>\n",
              "      <td>0.91</td>\n",
              "    </tr>\n",
              "    <tr>\n",
              "      <th>2018-08-07</th>\n",
              "      <td>73.60</td>\n",
              "      <td>73.790</td>\n",
              "      <td>72.65</td>\n",
              "      <td>72.89</td>\n",
              "      <td>4468425</td>\n",
              "      <td>1</td>\n",
              "      <td>73.33</td>\n",
              "      <td>74.54</td>\n",
              "      <td>1.21</td>\n",
              "    </tr>\n",
              "    <tr>\n",
              "      <th>2018-08-08</th>\n",
              "      <td>74.18</td>\n",
              "      <td>74.925</td>\n",
              "      <td>73.21</td>\n",
              "      <td>74.81</td>\n",
              "      <td>5778347</td>\n",
              "      <td>1</td>\n",
              "      <td>73.55</td>\n",
              "      <td>74.58</td>\n",
              "      <td>1.03</td>\n",
              "    </tr>\n",
              "    <tr>\n",
              "      <th>2018-08-09</th>\n",
              "      <td>75.18</td>\n",
              "      <td>75.690</td>\n",
              "      <td>74.63</td>\n",
              "      <td>75.37</td>\n",
              "      <td>4028257</td>\n",
              "      <td>1</td>\n",
              "      <td>73.89</td>\n",
              "      <td>74.59</td>\n",
              "      <td>0.70</td>\n",
              "    </tr>\n",
              "    <tr>\n",
              "      <th>2018-08-10</th>\n",
              "      <td>75.71</td>\n",
              "      <td>76.000</td>\n",
              "      <td>75.53</td>\n",
              "      <td>75.54</td>\n",
              "      <td>2671166</td>\n",
              "      <td>1</td>\n",
              "      <td>74.43</td>\n",
              "      <td>74.62</td>\n",
              "      <td>0.19</td>\n",
              "    </tr>\n",
              "  </tbody>\n",
              "</table>\n",
              "</div>"
            ],
            "text/plain": [
              "             Open    High    Low  Close   Volume  Member     5d    20d  20d-5d\n",
              "Date                                                                          \n",
              "2018-08-06  73.04  73.860  73.00  73.56  2333301       1  73.71  74.62    0.91\n",
              "2018-08-07  73.60  73.790  72.65  72.89  4468425       1  73.33  74.54    1.21\n",
              "2018-08-08  74.18  74.925  73.21  74.81  5778347       1  73.55  74.58    1.03\n",
              "2018-08-09  75.18  75.690  74.63  75.37  4028257       1  73.89  74.59    0.70\n",
              "2018-08-10  75.71  76.000  75.53  75.54  2671166       1  74.43  74.62    0.19"
            ]
          },
          "metadata": {
            "tags": []
          },
          "execution_count": 85
        }
      ]
    },
    {
      "cell_type": "code",
      "metadata": {
        "id": "zlI8MMRPXGaC",
        "colab_type": "code",
        "outputId": "59780854-ad3b-4fa6-8787-a348987afb70",
        "colab": {
          "base_uri": "https://localhost:8080/",
          "height": 298
        }
      },
      "source": [
        "df_4[\"Regime\"] = np.where(df_4['20d-5d'] > 0, 1, 0)\n",
        "df_4[\"Regime\"] = np.where(df_4['20d-5d'] < 0, -1, df_4[\"Regime\"])\n",
        "df_4.loc[\"02-01-2008\":\"31-12-2010\",\"Regime\"].plot(ylim = (-2,2)).axhline(y = 0, color = \"black\", lw = 2)"
      ],
      "execution_count": 0,
      "outputs": [
        {
          "output_type": "execute_result",
          "data": {
            "text/plain": [
              "<matplotlib.lines.Line2D at 0x7f8dc8bf29e8>"
            ]
          },
          "metadata": {
            "tags": []
          },
          "execution_count": 86
        },
        {
          "output_type": "display_data",
          "data": {
            "image/png": "[encoded data removed]",
            "text/plain": [
              "<Figure size 432x288 with 1 Axes>"
            ]
          },
          "metadata": {
            "tags": []
          }
        }
      ]
    },
    {
      "cell_type": "code",
      "metadata": {
        "id": "GSlMGb-IXGTV",
        "colab_type": "code",
        "outputId": "a3b1d57c-f345-4503-fa5e-174bcbb86037",
        "colab": {
          "base_uri": "https://localhost:8080/",
          "height": 329
        }
      },
      "source": [
        "# To ensure that all trades close out, I temporarily change the regime of the last row to 0\n",
        "regime_orig = df_4.loc[:, \"Regime\"].iloc[-1]\n",
        "df_4.loc[:, \"Regime\"].iloc[-1] = 0\n",
        "df_4[\"Signal\"] = np.sign(df_4[\"Regime\"] - df_4[\"Regime\"].shift(1))\n",
        "# Restore original regime data\n",
        "df_4.loc[:, \"Regime\"].iloc[-1] = regime_orig\n",
        "df_4.tail()"
      ],
      "execution_count": 0,
      "outputs": [
        {
          "output_type": "stream",
          "text": [
            "/usr/local/lib/python3.6/dist-packages/pandas/core/indexing.py:205: SettingWithCopyWarning: \n",
            "A value is trying to be set on a copy of a slice from a DataFrame\n",
            "\n",
            "See the caveats in the documentation: http://pandas.pydata.org/pandas-docs/stable/user_guide/indexing.html#returning-a-view-versus-a-copy\n",
            "  self._setitem_with_indexer(indexer, value)\n"
          ],
          "name": "stderr"
        },
        {
          "output_type": "execute_result",
          "data": {
            "text/html": [
              "<div>\n",
              "<style scoped>\n",
              "    .dataframe tbody tr th:only-of-type {\n",
              "        vertical-align: middle;\n",
              "    }\n",
              "\n",
              "    .dataframe tbody tr th {\n",
              "        vertical-align: top;\n",
              "    }\n",
              "\n",
              "    .dataframe thead th {\n",
              "        text-align: right;\n",
              "    }\n",
              "</style>\n",
              "<table border=\"1\" class=\"dataframe\">\n",
              "  <thead>\n",
              "    <tr style=\"text-align: right;\">\n",
              "      <th></th>\n",
              "      <th>Open</th>\n",
              "      <th>High</th>\n",
              "      <th>Low</th>\n",
              "      <th>Close</th>\n",
              "      <th>Volume</th>\n",
              "      <th>Member</th>\n",
              "      <th>5d</th>\n",
              "      <th>20d</th>\n",
              "      <th>20d-5d</th>\n",
              "      <th>Regime</th>\n",
              "      <th>Signal</th>\n",
              "    </tr>\n",
              "    <tr>\n",
              "      <th>Date</th>\n",
              "      <th></th>\n",
              "      <th></th>\n",
              "      <th></th>\n",
              "      <th></th>\n",
              "      <th></th>\n",
              "      <th></th>\n",
              "      <th></th>\n",
              "      <th></th>\n",
              "      <th></th>\n",
              "      <th></th>\n",
              "      <th></th>\n",
              "    </tr>\n",
              "  </thead>\n",
              "  <tbody>\n",
              "    <tr>\n",
              "      <th>2018-08-06</th>\n",
              "      <td>73.04</td>\n",
              "      <td>73.860</td>\n",
              "      <td>73.00</td>\n",
              "      <td>73.56</td>\n",
              "      <td>2333301</td>\n",
              "      <td>1</td>\n",
              "      <td>73.71</td>\n",
              "      <td>74.62</td>\n",
              "      <td>0.91</td>\n",
              "      <td>1</td>\n",
              "      <td>0.0</td>\n",
              "    </tr>\n",
              "    <tr>\n",
              "      <th>2018-08-07</th>\n",
              "      <td>73.60</td>\n",
              "      <td>73.790</td>\n",
              "      <td>72.65</td>\n",
              "      <td>72.89</td>\n",
              "      <td>4468425</td>\n",
              "      <td>1</td>\n",
              "      <td>73.33</td>\n",
              "      <td>74.54</td>\n",
              "      <td>1.21</td>\n",
              "      <td>1</td>\n",
              "      <td>0.0</td>\n",
              "    </tr>\n",
              "    <tr>\n",
              "      <th>2018-08-08</th>\n",
              "      <td>74.18</td>\n",
              "      <td>74.925</td>\n",
              "      <td>73.21</td>\n",
              "      <td>74.81</td>\n",
              "      <td>5778347</td>\n",
              "      <td>1</td>\n",
              "      <td>73.55</td>\n",
              "      <td>74.58</td>\n",
              "      <td>1.03</td>\n",
              "      <td>1</td>\n",
              "      <td>0.0</td>\n",
              "    </tr>\n",
              "    <tr>\n",
              "      <th>2018-08-09</th>\n",
              "      <td>75.18</td>\n",
              "      <td>75.690</td>\n",
              "      <td>74.63</td>\n",
              "      <td>75.37</td>\n",
              "      <td>4028257</td>\n",
              "      <td>1</td>\n",
              "      <td>73.89</td>\n",
              "      <td>74.59</td>\n",
              "      <td>0.70</td>\n",
              "      <td>1</td>\n",
              "      <td>0.0</td>\n",
              "    </tr>\n",
              "    <tr>\n",
              "      <th>2018-08-10</th>\n",
              "      <td>75.71</td>\n",
              "      <td>76.000</td>\n",
              "      <td>75.53</td>\n",
              "      <td>75.54</td>\n",
              "      <td>2671166</td>\n",
              "      <td>1</td>\n",
              "      <td>74.43</td>\n",
              "      <td>74.62</td>\n",
              "      <td>0.19</td>\n",
              "      <td>1</td>\n",
              "      <td>-1.0</td>\n",
              "    </tr>\n",
              "  </tbody>\n",
              "</table>\n",
              "</div>"
            ],
            "text/plain": [
              "             Open    High    Low  Close  ...    20d  20d-5d  Regime  Signal\n",
              "Date                                     ...                               \n",
              "2018-08-06  73.04  73.860  73.00  73.56  ...  74.62    0.91       1     0.0\n",
              "2018-08-07  73.60  73.790  72.65  72.89  ...  74.54    1.21       1     0.0\n",
              "2018-08-08  74.18  74.925  73.21  74.81  ...  74.58    1.03       1     0.0\n",
              "2018-08-09  75.18  75.690  74.63  75.37  ...  74.59    0.70       1     0.0\n",
              "2018-08-10  75.71  76.000  75.53  75.54  ...  74.62    0.19       1    -1.0\n",
              "\n",
              "[5 rows x 11 columns]"
            ]
          },
          "metadata": {
            "tags": []
          },
          "execution_count": 87
        }
      ]
    },
    {
      "cell_type": "code",
      "metadata": {
        "id": "eBRqoAZLXGNT",
        "colab_type": "code",
        "colab": {}
      },
      "source": [
        "cba_signals = pd.concat([\n",
        "        pd.DataFrame({\"Price\": df_4.loc[df_4[\"Signal\"] == 1, \"Close\"],\n",
        "                     \"Regime\": df_4.loc[df_4[\"Signal\"] == 1, \"Regime\"],\n",
        "                     \"Signal\": \"Buy\"}),\n",
        "        pd.DataFrame({\"Price\": df_4.loc[df_4[\"Signal\"] == -1, \"Close\"],\n",
        "                     \"Regime\": df_4.loc[df_4[\"Signal\"] == -1, \"Regime\"],\n",
        "                     \"Signal\": \"Sell\"}),\n",
        "    ])\n",
        "cba_signals.sort_index(inplace = True)"
      ],
      "execution_count": 0,
      "outputs": []
    },
    {
      "cell_type": "code",
      "metadata": {
        "id": "v4Oz5lz6XGHL",
        "colab_type": "code",
        "outputId": "19819184-47b4-4678-e908-d4786ae6593e",
        "colab": {
          "base_uri": "https://localhost:8080/",
          "height": 373
        }
      },
      "source": [
        "cba_signals.head(10)"
      ],
      "execution_count": 0,
      "outputs": [
        {
          "output_type": "execute_result",
          "data": {
            "text/html": [
              "<div>\n",
              "<style scoped>\n",
              "    .dataframe tbody tr th:only-of-type {\n",
              "        vertical-align: middle;\n",
              "    }\n",
              "\n",
              "    .dataframe tbody tr th {\n",
              "        vertical-align: top;\n",
              "    }\n",
              "\n",
              "    .dataframe thead th {\n",
              "        text-align: right;\n",
              "    }\n",
              "</style>\n",
              "<table border=\"1\" class=\"dataframe\">\n",
              "  <thead>\n",
              "    <tr style=\"text-align: right;\">\n",
              "      <th></th>\n",
              "      <th>Price</th>\n",
              "      <th>Regime</th>\n",
              "      <th>Signal</th>\n",
              "    </tr>\n",
              "    <tr>\n",
              "      <th>Date</th>\n",
              "      <th></th>\n",
              "      <th></th>\n",
              "      <th></th>\n",
              "    </tr>\n",
              "  </thead>\n",
              "  <tbody>\n",
              "    <tr>\n",
              "      <th>2002-02-27</th>\n",
              "      <td>13.0539</td>\n",
              "      <td>-1</td>\n",
              "      <td>Sell</td>\n",
              "    </tr>\n",
              "    <tr>\n",
              "      <th>2002-03-06</th>\n",
              "      <td>12.7711</td>\n",
              "      <td>1</td>\n",
              "      <td>Buy</td>\n",
              "    </tr>\n",
              "    <tr>\n",
              "      <th>2002-03-21</th>\n",
              "      <td>12.9921</td>\n",
              "      <td>-1</td>\n",
              "      <td>Sell</td>\n",
              "    </tr>\n",
              "    <tr>\n",
              "      <th>2002-04-05</th>\n",
              "      <td>12.9717</td>\n",
              "      <td>0</td>\n",
              "      <td>Buy</td>\n",
              "    </tr>\n",
              "    <tr>\n",
              "      <th>2002-04-08</th>\n",
              "      <td>12.9348</td>\n",
              "      <td>1</td>\n",
              "      <td>Buy</td>\n",
              "    </tr>\n",
              "    <tr>\n",
              "      <th>2002-04-18</th>\n",
              "      <td>13.1477</td>\n",
              "      <td>-1</td>\n",
              "      <td>Sell</td>\n",
              "    </tr>\n",
              "    <tr>\n",
              "      <th>2002-05-15</th>\n",
              "      <td>13.3073</td>\n",
              "      <td>1</td>\n",
              "      <td>Buy</td>\n",
              "    </tr>\n",
              "    <tr>\n",
              "      <th>2002-05-30</th>\n",
              "      <td>13.7535</td>\n",
              "      <td>-1</td>\n",
              "      <td>Sell</td>\n",
              "    </tr>\n",
              "    <tr>\n",
              "      <th>2002-06-24</th>\n",
              "      <td>13.8108</td>\n",
              "      <td>0</td>\n",
              "      <td>Buy</td>\n",
              "    </tr>\n",
              "    <tr>\n",
              "      <th>2002-06-25</th>\n",
              "      <td>13.7371</td>\n",
              "      <td>1</td>\n",
              "      <td>Buy</td>\n",
              "    </tr>\n",
              "  </tbody>\n",
              "</table>\n",
              "</div>"
            ],
            "text/plain": [
              "              Price  Regime Signal\n",
              "Date                              \n",
              "2002-02-27  13.0539      -1   Sell\n",
              "2002-03-06  12.7711       1    Buy\n",
              "2002-03-21  12.9921      -1   Sell\n",
              "2002-04-05  12.9717       0    Buy\n",
              "2002-04-08  12.9348       1    Buy\n",
              "2002-04-18  13.1477      -1   Sell\n",
              "2002-05-15  13.3073       1    Buy\n",
              "2002-05-30  13.7535      -1   Sell\n",
              "2002-06-24  13.8108       0    Buy\n",
              "2002-06-25  13.7371       1    Buy"
            ]
          },
          "metadata": {
            "tags": []
          },
          "execution_count": 89
        }
      ]
    },
    {
      "cell_type": "code",
      "metadata": {
        "id": "8Nz7pUa3XGFQ",
        "colab_type": "code",
        "colab": {}
      },
      "source": [
        ""
      ],
      "execution_count": 0,
      "outputs": []
    },
    {
      "cell_type": "markdown",
      "metadata": {
        "id": "bgJRQagKON5-",
        "colab_type": "text"
      },
      "source": [
        "Task 3 (10 marks) \n",
        "• Create a data frame containing information about all of the trades the strategy made (i.e. trades for every stock should be in the one data frame). Print the first 10 rows and last 10 rows of the data frame. The data frame should have the following columns: \n",
        "o Stock – name of the stock o Open_Date – starting date of the trade o Close_Date – closing data of the trade \n",
        "o Open_Price – buying price of the trade o Close_Price – selling price of the trade o Quantity – trade quantity (hint – this should always be 1000 – see Task 2) o Profit – profit of the trade \n",
        "• Calculate descriptive statistics (sum/total, number of trades, mean, median, standard deviation, maximum and minimum) of the trading profits for each stock, as well as the total trading profits. \n",
        "• Comment on the performance of the strategy, including which stock performed the best and whether you would recommend this strategy to the trader. "
      ]
    },
    {
      "cell_type": "code",
      "metadata": {
        "id": "zv1K1yIxTN2A",
        "colab_type": "code",
        "colab": {}
      },
      "source": [
        ""
      ],
      "execution_count": 0,
      "outputs": []
    },
    {
      "cell_type": "code",
      "metadata": {
        "id": "gd8REEVxON5_",
        "colab_type": "code",
        "colab": {}
      },
      "source": [
        "df['Stock'] = 'WES'\n",
        "df_1['Stock'] = 'RIO'\n",
        "df_2['Stock'] = 'ANZ'\n",
        "df_3['Stock'] = 'BHP'\n",
        "df_4['Stock'] = 'CBA'\n",
        "data = pd.concat([df,df_1,df_2,df_3,df_4], ignore_index=True)\n",
        "data.drop('Member',axis=1,inplace=True)\n"
      ],
      "execution_count": 0,
      "outputs": []
    },
    {
      "cell_type": "code",
      "metadata": {
        "id": "Vpe1IALmON6D",
        "colab_type": "code",
        "outputId": "bce1877e-c6e5-416a-9e05-4649dfccd24e",
        "colab": {}
      },
      "source": [
        "data.head(10)"
      ],
      "execution_count": 0,
      "outputs": [
        {
          "output_type": "execute_result",
          "data": {
            "text/html": [
              "<div>\n",
              "<style scoped>\n",
              "    .dataframe tbody tr th:only-of-type {\n",
              "        vertical-align: middle;\n",
              "    }\n",
              "\n",
              "    .dataframe tbody tr th {\n",
              "        vertical-align: top;\n",
              "    }\n",
              "\n",
              "    .dataframe thead th {\n",
              "        text-align: right;\n",
              "    }\n",
              "</style>\n",
              "<table border=\"1\" class=\"dataframe\">\n",
              "  <thead>\n",
              "    <tr style=\"text-align: right;\">\n",
              "      <th></th>\n",
              "      <th>Open</th>\n",
              "      <th>High</th>\n",
              "      <th>Low</th>\n",
              "      <th>Close</th>\n",
              "      <th>Volume</th>\n",
              "      <th>Stock</th>\n",
              "      <th>profit</th>\n",
              "    </tr>\n",
              "  </thead>\n",
              "  <tbody>\n",
              "    <tr>\n",
              "      <th>0</th>\n",
              "      <td>10.9880</td>\n",
              "      <td>11.1517</td>\n",
              "      <td>10.9880</td>\n",
              "      <td>11.1336</td>\n",
              "      <td>352225</td>\n",
              "      <td>WES</td>\n",
              "      <td>51283.9600</td>\n",
              "    </tr>\n",
              "    <tr>\n",
              "      <th>1</th>\n",
              "      <td>11.1517</td>\n",
              "      <td>11.2245</td>\n",
              "      <td>11.0786</td>\n",
              "      <td>11.0786</td>\n",
              "      <td>420276</td>\n",
              "      <td>WES</td>\n",
              "      <td>-30722.1756</td>\n",
              "    </tr>\n",
              "    <tr>\n",
              "      <th>2</th>\n",
              "      <td>11.1554</td>\n",
              "      <td>11.2318</td>\n",
              "      <td>11.1190</td>\n",
              "      <td>11.1325</td>\n",
              "      <td>252276</td>\n",
              "      <td>WES</td>\n",
              "      <td>-5777.1204</td>\n",
              "    </tr>\n",
              "    <tr>\n",
              "      <th>3</th>\n",
              "      <td>11.1041</td>\n",
              "      <td>11.1517</td>\n",
              "      <td>11.0790</td>\n",
              "      <td>11.0972</td>\n",
              "      <td>289673</td>\n",
              "      <td>WES</td>\n",
              "      <td>-1998.7437</td>\n",
              "    </tr>\n",
              "    <tr>\n",
              "      <th>4</th>\n",
              "      <td>11.0972</td>\n",
              "      <td>11.0972</td>\n",
              "      <td>10.9407</td>\n",
              "      <td>10.9407</td>\n",
              "      <td>405261</td>\n",
              "      <td>WES</td>\n",
              "      <td>-63423.3465</td>\n",
              "    </tr>\n",
              "    <tr>\n",
              "      <th>5</th>\n",
              "      <td>10.9254</td>\n",
              "      <td>10.9880</td>\n",
              "      <td>10.8752</td>\n",
              "      <td>10.9153</td>\n",
              "      <td>606487</td>\n",
              "      <td>WES</td>\n",
              "      <td>-6125.5187</td>\n",
              "    </tr>\n",
              "    <tr>\n",
              "      <th>6</th>\n",
              "      <td>10.9174</td>\n",
              "      <td>11.1336</td>\n",
              "      <td>10.9174</td>\n",
              "      <td>11.1212</td>\n",
              "      <td>333327</td>\n",
              "      <td>WES</td>\n",
              "      <td>67932.0426</td>\n",
              "    </tr>\n",
              "    <tr>\n",
              "      <th>7</th>\n",
              "      <td>11.1190</td>\n",
              "      <td>11.1990</td>\n",
              "      <td>10.9880</td>\n",
              "      <td>11.1394</td>\n",
              "      <td>351876</td>\n",
              "      <td>WES</td>\n",
              "      <td>7178.2704</td>\n",
              "    </tr>\n",
              "    <tr>\n",
              "      <th>8</th>\n",
              "      <td>11.2038</td>\n",
              "      <td>11.8103</td>\n",
              "      <td>11.1517</td>\n",
              "      <td>11.8103</td>\n",
              "      <td>1437569</td>\n",
              "      <td>WES</td>\n",
              "      <td>871885.5985</td>\n",
              "    </tr>\n",
              "    <tr>\n",
              "      <th>9</th>\n",
              "      <td>11.9518</td>\n",
              "      <td>12.0068</td>\n",
              "      <td>11.6793</td>\n",
              "      <td>11.8067</td>\n",
              "      <td>805823</td>\n",
              "      <td>WES</td>\n",
              "      <td>-116924.9173</td>\n",
              "    </tr>\n",
              "  </tbody>\n",
              "</table>\n",
              "</div>"
            ],
            "text/plain": [
              "      Open     High      Low    Close   Volume Stock       profit\n",
              "0  10.9880  11.1517  10.9880  11.1336   352225   WES   51283.9600\n",
              "1  11.1517  11.2245  11.0786  11.0786   420276   WES  -30722.1756\n",
              "2  11.1554  11.2318  11.1190  11.1325   252276   WES   -5777.1204\n",
              "3  11.1041  11.1517  11.0790  11.0972   289673   WES   -1998.7437\n",
              "4  11.0972  11.0972  10.9407  10.9407   405261   WES  -63423.3465\n",
              "5  10.9254  10.9880  10.8752  10.9153   606487   WES   -6125.5187\n",
              "6  10.9174  11.1336  10.9174  11.1212   333327   WES   67932.0426\n",
              "7  11.1190  11.1990  10.9880  11.1394   351876   WES    7178.2704\n",
              "8  11.2038  11.8103  11.1517  11.8103  1437569   WES  871885.5985\n",
              "9  11.9518  12.0068  11.6793  11.8067   805823   WES -116924.9173"
            ]
          },
          "metadata": {
            "tags": []
          },
          "execution_count": 54
        }
      ]
    },
    {
      "cell_type": "code",
      "metadata": {
        "id": "z4VJSWG6ON6J",
        "colab_type": "code",
        "outputId": "2dcdb987-0de0-4654-d05f-e567c4f940c5",
        "colab": {}
      },
      "source": [
        "data.tail(10)"
      ],
      "execution_count": 0,
      "outputs": [
        {
          "output_type": "execute_result",
          "data": {
            "text/html": [
              "<div>\n",
              "<style scoped>\n",
              "    .dataframe tbody tr th:only-of-type {\n",
              "        vertical-align: middle;\n",
              "    }\n",
              "\n",
              "    .dataframe tbody tr th {\n",
              "        vertical-align: top;\n",
              "    }\n",
              "\n",
              "    .dataframe thead th {\n",
              "        text-align: right;\n",
              "    }\n",
              "</style>\n",
              "<table border=\"1\" class=\"dataframe\">\n",
              "  <thead>\n",
              "    <tr style=\"text-align: right;\">\n",
              "      <th></th>\n",
              "      <th>Open</th>\n",
              "      <th>High</th>\n",
              "      <th>Low</th>\n",
              "      <th>Close</th>\n",
              "      <th>Volume</th>\n",
              "      <th>Stock</th>\n",
              "      <th>profit</th>\n",
              "    </tr>\n",
              "  </thead>\n",
              "  <tbody>\n",
              "    <tr>\n",
              "      <th>21168</th>\n",
              "      <td>75.05</td>\n",
              "      <td>75.090</td>\n",
              "      <td>74.74</td>\n",
              "      <td>74.90</td>\n",
              "      <td>2106110</td>\n",
              "      <td>CBA</td>\n",
              "      <td>-315916.50</td>\n",
              "    </tr>\n",
              "    <tr>\n",
              "      <th>21169</th>\n",
              "      <td>75.20</td>\n",
              "      <td>75.430</td>\n",
              "      <td>74.79</td>\n",
              "      <td>74.79</td>\n",
              "      <td>2767166</td>\n",
              "      <td>CBA</td>\n",
              "      <td>-1134538.06</td>\n",
              "    </tr>\n",
              "    <tr>\n",
              "      <th>21170</th>\n",
              "      <td>74.38</td>\n",
              "      <td>74.610</td>\n",
              "      <td>73.66</td>\n",
              "      <td>73.71</td>\n",
              "      <td>3680163</td>\n",
              "      <td>CBA</td>\n",
              "      <td>-2465709.21</td>\n",
              "    </tr>\n",
              "    <tr>\n",
              "      <th>21171</th>\n",
              "      <td>74.00</td>\n",
              "      <td>74.240</td>\n",
              "      <td>73.43</td>\n",
              "      <td>73.68</td>\n",
              "      <td>2716773</td>\n",
              "      <td>CBA</td>\n",
              "      <td>-869367.36</td>\n",
              "    </tr>\n",
              "    <tr>\n",
              "      <th>21172</th>\n",
              "      <td>73.99</td>\n",
              "      <td>74.100</td>\n",
              "      <td>72.75</td>\n",
              "      <td>72.83</td>\n",
              "      <td>4192490</td>\n",
              "      <td>CBA</td>\n",
              "      <td>-4863288.40</td>\n",
              "    </tr>\n",
              "    <tr>\n",
              "      <th>21173</th>\n",
              "      <td>73.04</td>\n",
              "      <td>73.860</td>\n",
              "      <td>73.00</td>\n",
              "      <td>73.56</td>\n",
              "      <td>2333301</td>\n",
              "      <td>CBA</td>\n",
              "      <td>1213316.52</td>\n",
              "    </tr>\n",
              "    <tr>\n",
              "      <th>21174</th>\n",
              "      <td>73.60</td>\n",
              "      <td>73.790</td>\n",
              "      <td>72.65</td>\n",
              "      <td>72.89</td>\n",
              "      <td>4468425</td>\n",
              "      <td>CBA</td>\n",
              "      <td>-3172581.75</td>\n",
              "    </tr>\n",
              "    <tr>\n",
              "      <th>21175</th>\n",
              "      <td>74.18</td>\n",
              "      <td>74.925</td>\n",
              "      <td>73.21</td>\n",
              "      <td>74.81</td>\n",
              "      <td>5778347</td>\n",
              "      <td>CBA</td>\n",
              "      <td>3640358.61</td>\n",
              "    </tr>\n",
              "    <tr>\n",
              "      <th>21176</th>\n",
              "      <td>75.18</td>\n",
              "      <td>75.690</td>\n",
              "      <td>74.63</td>\n",
              "      <td>75.37</td>\n",
              "      <td>4028257</td>\n",
              "      <td>CBA</td>\n",
              "      <td>765368.83</td>\n",
              "    </tr>\n",
              "    <tr>\n",
              "      <th>21177</th>\n",
              "      <td>75.71</td>\n",
              "      <td>76.000</td>\n",
              "      <td>75.53</td>\n",
              "      <td>75.54</td>\n",
              "      <td>2671166</td>\n",
              "      <td>CBA</td>\n",
              "      <td>-454098.22</td>\n",
              "    </tr>\n",
              "  </tbody>\n",
              "</table>\n",
              "</div>"
            ],
            "text/plain": [
              "        Open    High    Low  Close   Volume Stock      profit\n",
              "21168  75.05  75.090  74.74  74.90  2106110   CBA  -315916.50\n",
              "21169  75.20  75.430  74.79  74.79  2767166   CBA -1134538.06\n",
              "21170  74.38  74.610  73.66  73.71  3680163   CBA -2465709.21\n",
              "21171  74.00  74.240  73.43  73.68  2716773   CBA  -869367.36\n",
              "21172  73.99  74.100  72.75  72.83  4192490   CBA -4863288.40\n",
              "21173  73.04  73.860  73.00  73.56  2333301   CBA  1213316.52\n",
              "21174  73.60  73.790  72.65  72.89  4468425   CBA -3172581.75\n",
              "21175  74.18  74.925  73.21  74.81  5778347   CBA  3640358.61\n",
              "21176  75.18  75.690  74.63  75.37  4028257   CBA   765368.83\n",
              "21177  75.71  76.000  75.53  75.54  2671166   CBA  -454098.22"
            ]
          },
          "metadata": {
            "tags": []
          },
          "execution_count": 55
        }
      ]
    },
    {
      "cell_type": "code",
      "metadata": {
        "id": "HZq3yiyCON6a",
        "colab_type": "code",
        "colab": {}
      },
      "source": [
        "data['profit'] = (data['Close'] - data['Open'])*data['Volume']"
      ],
      "execution_count": 0,
      "outputs": []
    },
    {
      "cell_type": "code",
      "metadata": {
        "id": "wYZySHK0ON6e",
        "colab_type": "code",
        "outputId": "88a311da-c361-421d-8c99-e03740e53f68",
        "colab": {}
      },
      "source": [
        "data.head(10)"
      ],
      "execution_count": 0,
      "outputs": [
        {
          "output_type": "execute_result",
          "data": {
            "text/html": [
              "<div>\n",
              "<style scoped>\n",
              "    .dataframe tbody tr th:only-of-type {\n",
              "        vertical-align: middle;\n",
              "    }\n",
              "\n",
              "    .dataframe tbody tr th {\n",
              "        vertical-align: top;\n",
              "    }\n",
              "\n",
              "    .dataframe thead th {\n",
              "        text-align: right;\n",
              "    }\n",
              "</style>\n",
              "<table border=\"1\" class=\"dataframe\">\n",
              "  <thead>\n",
              "    <tr style=\"text-align: right;\">\n",
              "      <th></th>\n",
              "      <th>Open</th>\n",
              "      <th>High</th>\n",
              "      <th>Low</th>\n",
              "      <th>Close</th>\n",
              "      <th>Volume</th>\n",
              "      <th>Stock</th>\n",
              "      <th>profit</th>\n",
              "    </tr>\n",
              "  </thead>\n",
              "  <tbody>\n",
              "    <tr>\n",
              "      <th>0</th>\n",
              "      <td>10.9880</td>\n",
              "      <td>11.1517</td>\n",
              "      <td>10.9880</td>\n",
              "      <td>11.1336</td>\n",
              "      <td>352225</td>\n",
              "      <td>WES</td>\n",
              "      <td>51283.9600</td>\n",
              "    </tr>\n",
              "    <tr>\n",
              "      <th>1</th>\n",
              "      <td>11.1517</td>\n",
              "      <td>11.2245</td>\n",
              "      <td>11.0786</td>\n",
              "      <td>11.0786</td>\n",
              "      <td>420276</td>\n",
              "      <td>WES</td>\n",
              "      <td>-30722.1756</td>\n",
              "    </tr>\n",
              "    <tr>\n",
              "      <th>2</th>\n",
              "      <td>11.1554</td>\n",
              "      <td>11.2318</td>\n",
              "      <td>11.1190</td>\n",
              "      <td>11.1325</td>\n",
              "      <td>252276</td>\n",
              "      <td>WES</td>\n",
              "      <td>-5777.1204</td>\n",
              "    </tr>\n",
              "    <tr>\n",
              "      <th>3</th>\n",
              "      <td>11.1041</td>\n",
              "      <td>11.1517</td>\n",
              "      <td>11.0790</td>\n",
              "      <td>11.0972</td>\n",
              "      <td>289673</td>\n",
              "      <td>WES</td>\n",
              "      <td>-1998.7437</td>\n",
              "    </tr>\n",
              "    <tr>\n",
              "      <th>4</th>\n",
              "      <td>11.0972</td>\n",
              "      <td>11.0972</td>\n",
              "      <td>10.9407</td>\n",
              "      <td>10.9407</td>\n",
              "      <td>405261</td>\n",
              "      <td>WES</td>\n",
              "      <td>-63423.3465</td>\n",
              "    </tr>\n",
              "    <tr>\n",
              "      <th>5</th>\n",
              "      <td>10.9254</td>\n",
              "      <td>10.9880</td>\n",
              "      <td>10.8752</td>\n",
              "      <td>10.9153</td>\n",
              "      <td>606487</td>\n",
              "      <td>WES</td>\n",
              "      <td>-6125.5187</td>\n",
              "    </tr>\n",
              "    <tr>\n",
              "      <th>6</th>\n",
              "      <td>10.9174</td>\n",
              "      <td>11.1336</td>\n",
              "      <td>10.9174</td>\n",
              "      <td>11.1212</td>\n",
              "      <td>333327</td>\n",
              "      <td>WES</td>\n",
              "      <td>67932.0426</td>\n",
              "    </tr>\n",
              "    <tr>\n",
              "      <th>7</th>\n",
              "      <td>11.1190</td>\n",
              "      <td>11.1990</td>\n",
              "      <td>10.9880</td>\n",
              "      <td>11.1394</td>\n",
              "      <td>351876</td>\n",
              "      <td>WES</td>\n",
              "      <td>7178.2704</td>\n",
              "    </tr>\n",
              "    <tr>\n",
              "      <th>8</th>\n",
              "      <td>11.2038</td>\n",
              "      <td>11.8103</td>\n",
              "      <td>11.1517</td>\n",
              "      <td>11.8103</td>\n",
              "      <td>1437569</td>\n",
              "      <td>WES</td>\n",
              "      <td>871885.5985</td>\n",
              "    </tr>\n",
              "    <tr>\n",
              "      <th>9</th>\n",
              "      <td>11.9518</td>\n",
              "      <td>12.0068</td>\n",
              "      <td>11.6793</td>\n",
              "      <td>11.8067</td>\n",
              "      <td>805823</td>\n",
              "      <td>WES</td>\n",
              "      <td>-116924.9173</td>\n",
              "    </tr>\n",
              "  </tbody>\n",
              "</table>\n",
              "</div>"
            ],
            "text/plain": [
              "      Open     High      Low    Close   Volume Stock       profit\n",
              "0  10.9880  11.1517  10.9880  11.1336   352225   WES   51283.9600\n",
              "1  11.1517  11.2245  11.0786  11.0786   420276   WES  -30722.1756\n",
              "2  11.1554  11.2318  11.1190  11.1325   252276   WES   -5777.1204\n",
              "3  11.1041  11.1517  11.0790  11.0972   289673   WES   -1998.7437\n",
              "4  11.0972  11.0972  10.9407  10.9407   405261   WES  -63423.3465\n",
              "5  10.9254  10.9880  10.8752  10.9153   606487   WES   -6125.5187\n",
              "6  10.9174  11.1336  10.9174  11.1212   333327   WES   67932.0426\n",
              "7  11.1190  11.1990  10.9880  11.1394   351876   WES    7178.2704\n",
              "8  11.2038  11.8103  11.1517  11.8103  1437569   WES  871885.5985\n",
              "9  11.9518  12.0068  11.6793  11.8067   805823   WES -116924.9173"
            ]
          },
          "metadata": {
            "tags": []
          },
          "execution_count": 58
        }
      ]
    },
    {
      "cell_type": "code",
      "metadata": {
        "id": "9uCnFLcFON6j",
        "colab_type": "code",
        "outputId": "e61d61c1-9f81-44ce-d42c-a719893b65ab",
        "colab": {}
      },
      "source": [
        "data.tail(10)"
      ],
      "execution_count": 0,
      "outputs": [
        {
          "output_type": "execute_result",
          "data": {
            "text/html": [
              "<div>\n",
              "<style scoped>\n",
              "    .dataframe tbody tr th:only-of-type {\n",
              "        vertical-align: middle;\n",
              "    }\n",
              "\n",
              "    .dataframe tbody tr th {\n",
              "        vertical-align: top;\n",
              "    }\n",
              "\n",
              "    .dataframe thead th {\n",
              "        text-align: right;\n",
              "    }\n",
              "</style>\n",
              "<table border=\"1\" class=\"dataframe\">\n",
              "  <thead>\n",
              "    <tr style=\"text-align: right;\">\n",
              "      <th></th>\n",
              "      <th>Open</th>\n",
              "      <th>High</th>\n",
              "      <th>Low</th>\n",
              "      <th>Close</th>\n",
              "      <th>Volume</th>\n",
              "      <th>Stock</th>\n",
              "      <th>profit</th>\n",
              "    </tr>\n",
              "  </thead>\n",
              "  <tbody>\n",
              "    <tr>\n",
              "      <th>21168</th>\n",
              "      <td>75.05</td>\n",
              "      <td>75.090</td>\n",
              "      <td>74.74</td>\n",
              "      <td>74.90</td>\n",
              "      <td>2106110</td>\n",
              "      <td>CBA</td>\n",
              "      <td>-315916.50</td>\n",
              "    </tr>\n",
              "    <tr>\n",
              "      <th>21169</th>\n",
              "      <td>75.20</td>\n",
              "      <td>75.430</td>\n",
              "      <td>74.79</td>\n",
              "      <td>74.79</td>\n",
              "      <td>2767166</td>\n",
              "      <td>CBA</td>\n",
              "      <td>-1134538.06</td>\n",
              "    </tr>\n",
              "    <tr>\n",
              "      <th>21170</th>\n",
              "      <td>74.38</td>\n",
              "      <td>74.610</td>\n",
              "      <td>73.66</td>\n",
              "      <td>73.71</td>\n",
              "      <td>3680163</td>\n",
              "      <td>CBA</td>\n",
              "      <td>-2465709.21</td>\n",
              "    </tr>\n",
              "    <tr>\n",
              "      <th>21171</th>\n",
              "      <td>74.00</td>\n",
              "      <td>74.240</td>\n",
              "      <td>73.43</td>\n",
              "      <td>73.68</td>\n",
              "      <td>2716773</td>\n",
              "      <td>CBA</td>\n",
              "      <td>-869367.36</td>\n",
              "    </tr>\n",
              "    <tr>\n",
              "      <th>21172</th>\n",
              "      <td>73.99</td>\n",
              "      <td>74.100</td>\n",
              "      <td>72.75</td>\n",
              "      <td>72.83</td>\n",
              "      <td>4192490</td>\n",
              "      <td>CBA</td>\n",
              "      <td>-4863288.40</td>\n",
              "    </tr>\n",
              "    <tr>\n",
              "      <th>21173</th>\n",
              "      <td>73.04</td>\n",
              "      <td>73.860</td>\n",
              "      <td>73.00</td>\n",
              "      <td>73.56</td>\n",
              "      <td>2333301</td>\n",
              "      <td>CBA</td>\n",
              "      <td>1213316.52</td>\n",
              "    </tr>\n",
              "    <tr>\n",
              "      <th>21174</th>\n",
              "      <td>73.60</td>\n",
              "      <td>73.790</td>\n",
              "      <td>72.65</td>\n",
              "      <td>72.89</td>\n",
              "      <td>4468425</td>\n",
              "      <td>CBA</td>\n",
              "      <td>-3172581.75</td>\n",
              "    </tr>\n",
              "    <tr>\n",
              "      <th>21175</th>\n",
              "      <td>74.18</td>\n",
              "      <td>74.925</td>\n",
              "      <td>73.21</td>\n",
              "      <td>74.81</td>\n",
              "      <td>5778347</td>\n",
              "      <td>CBA</td>\n",
              "      <td>3640358.61</td>\n",
              "    </tr>\n",
              "    <tr>\n",
              "      <th>21176</th>\n",
              "      <td>75.18</td>\n",
              "      <td>75.690</td>\n",
              "      <td>74.63</td>\n",
              "      <td>75.37</td>\n",
              "      <td>4028257</td>\n",
              "      <td>CBA</td>\n",
              "      <td>765368.83</td>\n",
              "    </tr>\n",
              "    <tr>\n",
              "      <th>21177</th>\n",
              "      <td>75.71</td>\n",
              "      <td>76.000</td>\n",
              "      <td>75.53</td>\n",
              "      <td>75.54</td>\n",
              "      <td>2671166</td>\n",
              "      <td>CBA</td>\n",
              "      <td>-454098.22</td>\n",
              "    </tr>\n",
              "  </tbody>\n",
              "</table>\n",
              "</div>"
            ],
            "text/plain": [
              "        Open    High    Low  Close   Volume Stock      profit\n",
              "21168  75.05  75.090  74.74  74.90  2106110   CBA  -315916.50\n",
              "21169  75.20  75.430  74.79  74.79  2767166   CBA -1134538.06\n",
              "21170  74.38  74.610  73.66  73.71  3680163   CBA -2465709.21\n",
              "21171  74.00  74.240  73.43  73.68  2716773   CBA  -869367.36\n",
              "21172  73.99  74.100  72.75  72.83  4192490   CBA -4863288.40\n",
              "21173  73.04  73.860  73.00  73.56  2333301   CBA  1213316.52\n",
              "21174  73.60  73.790  72.65  72.89  4468425   CBA -3172581.75\n",
              "21175  74.18  74.925  73.21  74.81  5778347   CBA  3640358.61\n",
              "21176  75.18  75.690  74.63  75.37  4028257   CBA   765368.83\n",
              "21177  75.71  76.000  75.53  75.54  2671166   CBA  -454098.22"
            ]
          },
          "metadata": {
            "tags": []
          },
          "execution_count": 59
        }
      ]
    },
    {
      "cell_type": "code",
      "metadata": {
        "id": "9DndloLwON6m",
        "colab_type": "code",
        "outputId": "49854126-f9d1-415f-c023-f12dc82ee684",
        "colab": {}
      },
      "source": [
        "data.describe()"
      ],
      "execution_count": 0,
      "outputs": [
        {
          "output_type": "execute_result",
          "data": {
            "text/html": [
              "<div>\n",
              "<style scoped>\n",
              "    .dataframe tbody tr th:only-of-type {\n",
              "        vertical-align: middle;\n",
              "    }\n",
              "\n",
              "    .dataframe tbody tr th {\n",
              "        vertical-align: top;\n",
              "    }\n",
              "\n",
              "    .dataframe thead th {\n",
              "        text-align: right;\n",
              "    }\n",
              "</style>\n",
              "<table border=\"1\" class=\"dataframe\">\n",
              "  <thead>\n",
              "    <tr style=\"text-align: right;\">\n",
              "      <th></th>\n",
              "      <th>Open</th>\n",
              "      <th>High</th>\n",
              "      <th>Low</th>\n",
              "      <th>Close</th>\n",
              "      <th>Volume</th>\n",
              "      <th>profit</th>\n",
              "    </tr>\n",
              "  </thead>\n",
              "  <tbody>\n",
              "    <tr>\n",
              "      <th>count</th>\n",
              "      <td>21178.000000</td>\n",
              "      <td>21178.000000</td>\n",
              "      <td>21178.000000</td>\n",
              "      <td>21178.000000</td>\n",
              "      <td>2.117800e+04</td>\n",
              "      <td>2.117800e+04</td>\n",
              "    </tr>\n",
              "    <tr>\n",
              "      <th>mean</th>\n",
              "      <td>28.017879</td>\n",
              "      <td>28.228874</td>\n",
              "      <td>27.791761</td>\n",
              "      <td>28.009648</td>\n",
              "      <td>6.098525e+06</td>\n",
              "      <td>-4.154602e+04</td>\n",
              "    </tr>\n",
              "    <tr>\n",
              "      <th>std</th>\n",
              "      <td>17.084839</td>\n",
              "      <td>17.198255</td>\n",
              "      <td>16.966717</td>\n",
              "      <td>17.082790</td>\n",
              "      <td>5.900750e+06</td>\n",
              "      <td>2.708560e+06</td>\n",
              "    </tr>\n",
              "    <tr>\n",
              "      <th>min</th>\n",
              "      <td>4.922500</td>\n",
              "      <td>4.976300</td>\n",
              "      <td>4.882400</td>\n",
              "      <td>4.900100</td>\n",
              "      <td>4.696500e+04</td>\n",
              "      <td>-6.175140e+07</td>\n",
              "    </tr>\n",
              "    <tr>\n",
              "      <th>25%</th>\n",
              "      <td>14.958825</td>\n",
              "      <td>15.065050</td>\n",
              "      <td>14.849900</td>\n",
              "      <td>14.965600</td>\n",
              "      <td>2.380961e+06</td>\n",
              "      <td>-6.173013e+05</td>\n",
              "    </tr>\n",
              "    <tr>\n",
              "      <th>50%</th>\n",
              "      <td>23.930700</td>\n",
              "      <td>24.152350</td>\n",
              "      <td>23.711750</td>\n",
              "      <td>23.932250</td>\n",
              "      <td>4.016532e+06</td>\n",
              "      <td>-7.178737e+03</td>\n",
              "    </tr>\n",
              "    <tr>\n",
              "      <th>75%</th>\n",
              "      <td>35.872250</td>\n",
              "      <td>36.092100</td>\n",
              "      <td>35.550050</td>\n",
              "      <td>35.809725</td>\n",
              "      <td>7.978558e+06</td>\n",
              "      <td>5.453086e+05</td>\n",
              "    </tr>\n",
              "    <tr>\n",
              "      <th>max</th>\n",
              "      <td>84.152400</td>\n",
              "      <td>84.336400</td>\n",
              "      <td>83.280900</td>\n",
              "      <td>84.007200</td>\n",
              "      <td>9.655790e+07</td>\n",
              "      <td>5.879643e+07</td>\n",
              "    </tr>\n",
              "  </tbody>\n",
              "</table>\n",
              "</div>"
            ],
            "text/plain": [
              "               Open          High           Low         Close        Volume  \\\n",
              "count  21178.000000  21178.000000  21178.000000  21178.000000  2.117800e+04   \n",
              "mean      28.017879     28.228874     27.791761     28.009648  6.098525e+06   \n",
              "std       17.084839     17.198255     16.966717     17.082790  5.900750e+06   \n",
              "min        4.922500      4.976300      4.882400      4.900100  4.696500e+04   \n",
              "25%       14.958825     15.065050     14.849900     14.965600  2.380961e+06   \n",
              "50%       23.930700     24.152350     23.711750     23.932250  4.016532e+06   \n",
              "75%       35.872250     36.092100     35.550050     35.809725  7.978558e+06   \n",
              "max       84.152400     84.336400     83.280900     84.007200  9.655790e+07   \n",
              "\n",
              "             profit  \n",
              "count  2.117800e+04  \n",
              "mean  -4.154602e+04  \n",
              "std    2.708560e+06  \n",
              "min   -6.175140e+07  \n",
              "25%   -6.173013e+05  \n",
              "50%   -7.178737e+03  \n",
              "75%    5.453086e+05  \n",
              "max    5.879643e+07  "
            ]
          },
          "metadata": {
            "tags": []
          },
          "execution_count": 60
        }
      ]
    },
    {
      "cell_type": "code",
      "metadata": {
        "id": "U-WcB0wFON6o",
        "colab_type": "code",
        "outputId": "7dfb0038-8e26-4256-8b61-e6c68d385ee4",
        "colab": {}
      },
      "source": [
        "pd.Series.groupby(data.profit,by=data.Stock).mean()"
      ],
      "execution_count": 0,
      "outputs": [
        {
          "output_type": "execute_result",
          "data": {
            "text/plain": [
              "Stock\n",
              "ANZ    -36117.354821\n",
              "BHP   -107614.366495\n",
              "CBA    -31856.700308\n",
              "RIO     -7591.955252\n",
              "WES    -24478.594936\n",
              "Name: profit, dtype: float64"
            ]
          },
          "metadata": {
            "tags": []
          },
          "execution_count": 61
        }
      ]
    },
    {
      "cell_type": "markdown",
      "metadata": {
        "id": "hzsdwWZ-ON6r",
        "colab_type": "text"
      },
      "source": [
        "so overall RIO stocks performed well when compared with the other stocks \n",
        "BHP performed worst among all other stocks."
      ]
    },
    {
      "cell_type": "code",
      "metadata": {
        "id": "rtGNyQZrON6s",
        "colab_type": "code",
        "colab": {}
      },
      "source": [
        "data['profit1'] = (data['Close'] - data['Open'])*1000\n"
      ],
      "execution_count": 0,
      "outputs": []
    },
    {
      "cell_type": "code",
      "metadata": {
        "id": "coo1l8H9ON6u",
        "colab_type": "code",
        "outputId": "341a9ed6-8670-4f86-f795-46391f108ab2",
        "colab": {}
      },
      "source": [
        "pd.Series.groupby(data.profit1,by=data.Stock).mean()"
      ],
      "execution_count": 0,
      "outputs": [
        {
          "output_type": "execute_result",
          "data": {
            "text/plain": [
              "Stock\n",
              "ANZ    -6.694193\n",
              "BHP    -6.457193\n",
              "CBA    -7.972721\n",
              "RIO    -7.409649\n",
              "WES   -12.631166\n",
              "Name: profit1, dtype: float64"
            ]
          },
          "metadata": {
            "tags": []
          },
          "execution_count": 63
        }
      ]
    },
    {
      "cell_type": "markdown",
      "metadata": {
        "id": "-6y0hJXzON6x",
        "colab_type": "text"
      },
      "source": [
        "so overall BHP stocks performed well when compared with the other stocks \n",
        "WES performed worst among all other stocks."
      ]
    },
    {
      "cell_type": "code",
      "metadata": {
        "id": "arShFuGOc-GZ",
        "colab_type": "code",
        "colab": {}
      },
      "source": [
        ""
      ],
      "execution_count": 0,
      "outputs": []
    }
  ]
}
